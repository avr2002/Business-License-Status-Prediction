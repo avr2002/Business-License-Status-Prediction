{
 "cells": [
  {
   "cell_type": "markdown",
   "id": "8a6ae698-027a-4389-a47e-2c2769ce9e48",
   "metadata": {
    "jp-MarkdownHeadingCollapsed": true,
    "tags": []
   },
   "source": [
    "## Problem Statement"
   ]
  },
  {
   "cell_type": "markdown",
   "id": "7431d911-0a53-474a-aa5f-3b5fa24c5dab",
   "metadata": {},
   "source": [
    "* **\n",
    "Many of us have dreams what if I become the founder of a start-up and can lead it to become a big business like Microsoft, or Facebook/Amazon. But again there are many people who cheat people to run their business, probably everyone has heard about cheat-funds. This dataset contains a lot of data and the `LICENSE STATUS` column which depicts whether the person has been able to get a business license or not. Based on the given features you have to predict whether a person will be given a license or not to run his business. \n",
    "\n",
    "The `LICENSE STATUS` contains the following categories:\n",
    "1. **`AAC`** (license was cancelled during term) \n",
    "2. **`AAI`** (license was issued) \n",
    "3. **`INQ`** (license requires inquiry) \n",
    "4. **`REA`** (license revocation has been appealed) \n",
    "5. **`REV`** (license was revoked)\n",
    "\n",
    "* **"
   ]
  },
  {
   "cell_type": "markdown",
   "id": "81dcd29c-0f1f-4a46-b0e3-10c685897f4c",
   "metadata": {
    "tags": []
   },
   "source": [
    "### Feature Description\n",
    "\n",
    "* **"
   ]
  },
  {
   "cell_type": "markdown",
   "id": "10c90741-544d-41c1-ae96-a138c8855276",
   "metadata": {
    "tags": []
   },
   "source": [
    "| **Sl. No.** | **Column Label** | **Column Description** |\n",
    "| :--------: | :------------: | :------------------ |\n",
    "| 1 | ID | A calculated unique ID for each record.| \n",
    "| 2 | LICENSE ID | An internal database ID for each record. Each license can have multiple records as it goes through renewals and other transactions. See the LICENSE NUMBER field for the number generally known to the public and used in most other data sources that refer to the license.| \n",
    "| 3 | ACCOUNT NUMBER | The account number of the business owner, which will stay consistent across that owner's licenses and can be used to find the owner in the Business Owners dataset.| \n",
    "| 4 | SITE NUMBER | An internal database ID indicating the location of this licensed business to account for business owners with more than one location.| \n",
    "| 5 | LEGAL NAME | Legal document-wise name|\n",
    "| 6 | DOING BUSINESS AS NAME | Name he has given in his company| \n",
    "| 7 | ADDRESS | Address of the business office| \n",
    "| 8 | CITY | City of the business office| \n",
    "| 9 | STATE | State of the business office| \n",
    "| 10 | ZIP CODE | Zip code of the business office| \n",
    "| 11 | WARD | Ward of the business office| \n",
    "| 12 | PRECINCT | The precinct within the ward where the business is located. Note the same precinct numbers exist in multiple wards.| \n",
    "| 13 | WARD PRECINCT | The ward and precinct where the business is located. This column can be used to filter by precinct more easily across multiple wards.| \n",
    "| 14 | POLICE DISTRICT | The police district where the business is located| \n",
    "| 15 | LICENSE CODE | The code for the type of license| \n",
    "| 16 | LICENSE DESCRIPTION | Purpose for which license is taken| \n",
    "| 17 | LICENSE NUMBER | The license number known to the public and generally used in other data sources that refer to the license. This is the field most users will want for most purposes. Each license has a single license number that stays consistent throughout the lifetime of the license. By contrast, the LICENSE ID field is an internal database ID and not generally useful to external users.| \n",
    "| 18 | APPLICATION TYPE | Type of Application filed| \n",
    "| 19 | APPLICATION CREATED DATE | The date the business license application was created. RENEW type records do not have an application.| \n",
    "| 20 | APPLICATION REQUIREMENTS COMPLETE | For all application types except RENEW, this is the date all required application documents were received. For RENEW type records, this is the date the record was created.| \n",
    "| 21 | PAYMENT DATE | The day payment was completed for license| \n",
    "| 22 | CONDITION APPROVAL | This pertains to applications that contain liquor licenses. Customers may request a conditional approval prior to building out the space.| \n",
    "| 23 | LICENSE TERM START DATE | This is the date from which the license becomes valid.| \n",
    "| 24 | LICENSE TERM EXPIRATION DATE | This is the date when the license is expired and is no longer valid.| \n",
    "| 25 | LICENSE APPROVED FOR ISSUANCE | This is the date the license was ready for issuance. Licenses may not be issued if the customer owes debt to the City.| \n",
    "| 26 | DATE ISSUED | The date license was issued| \n",
    "| 27 | LICENSE STATUS CHANGE DATE | The date when license status was changed if at all it was changed| \n",
    "| 28 | SSA | Special Service Areas are local tax districts that fund expanded services and programs, to foster commercial and economic development, through a localized property tax. In other cities these areas are sometimes called Business Improvement Districts (BIDs). This portal contains a map of all Chicago SSAs| \n",
    "| 29 | LATITUDE|  Latitude Location| \n",
    "| 30 | LONGITUDE | Longitude Location| \n",
    "| 31 | LOCATION | Locality of the business| \n",
    "| 32 | LICENSE STATUS | What happened to the license:__<ol><li>AAC (license was cancelled during term)</li><li>AAI (license was issued)</li><li>INQ (license requires inquiry)</li><li>REA (license revocation has been appealed)</li><li>REV (license was revoked)</li></ol>__ |\n",
    "\n",
    "* **"
   ]
  },
  {
   "cell_type": "markdown",
   "id": "e88386f6-b9df-461e-8171-1431d536b30c",
   "metadata": {
    "jp-MarkdownHeadingCollapsed": true,
    "tags": []
   },
   "source": [
    "## Imports"
   ]
  },
  {
   "cell_type": "code",
   "execution_count": 12,
   "id": "3b34734f-58d6-4778-8934-075e64269ffa",
   "metadata": {},
   "outputs": [],
   "source": [
    "import h2o\n",
    "\n",
    "import numpy as np\n",
    "import pandas as pd\n",
    "import seaborn as sns\n",
    "import matplotlib.pyplot as plt\n",
    "\n",
    "from sklearn.model_selection import train_test_split\n",
    "\n",
    "pd.set_option(\"display.max_columns\", None)\n",
    "pd.set_option(\"display.max_rows\", 200)"
   ]
  },
  {
   "cell_type": "code",
   "execution_count": 2,
   "id": "c0adf841-8d07-4de0-91b4-764c7a7787e1",
   "metadata": {
    "scrolled": true,
    "tags": []
   },
   "outputs": [
    {
     "name": "stdout",
     "output_type": "stream",
     "text": [
      "Checking whether there is an H2O instance running at http://localhost:54321..... not found.\n",
      "Attempting to start a local H2O server...\n",
      "; Java HotSpot(TM) 64-Bit Server VM (build 25.361-b09, mixed mode)\n",
      "  Starting server from C:\\ProgramData\\anaconda3\\Lib\\site-packages\\h2o\\backend\\bin\\h2o.jar\n",
      "  Ice root: C:\\Users\\AMITVI~1\\AppData\\Local\\Temp\\tmpfvu_1dzl\n",
      "  JVM stdout: C:\\Users\\AMITVI~1\\AppData\\Local\\Temp\\tmpfvu_1dzl\\h2o_Amit_Vikram_Raj_started_from_python.out\n",
      "  JVM stderr: C:\\Users\\AMITVI~1\\AppData\\Local\\Temp\\tmpfvu_1dzl\\h2o_Amit_Vikram_Raj_started_from_python.err\n",
      "  Server is running at http://127.0.0.1:54321\n",
      "Connecting to H2O server at http://127.0.0.1:54321 ... successful.\n"
     ]
    },
    {
     "data": {
      "text/html": [
       "\n",
       "<style>\n",
       "\n",
       "#h2o-table-1.h2o-container {\n",
       "  overflow-x: auto;\n",
       "}\n",
       "#h2o-table-1 .h2o-table {\n",
       "  /* width: 100%; */\n",
       "  margin-top: 1em;\n",
       "  margin-bottom: 1em;\n",
       "}\n",
       "#h2o-table-1 .h2o-table caption {\n",
       "  white-space: nowrap;\n",
       "  caption-side: top;\n",
       "  text-align: left;\n",
       "  /* margin-left: 1em; */\n",
       "  margin: 0;\n",
       "  font-size: larger;\n",
       "}\n",
       "#h2o-table-1 .h2o-table thead {\n",
       "  white-space: nowrap; \n",
       "  position: sticky;\n",
       "  top: 0;\n",
       "  box-shadow: 0 -1px inset;\n",
       "}\n",
       "#h2o-table-1 .h2o-table tbody {\n",
       "  overflow: auto;\n",
       "}\n",
       "#h2o-table-1 .h2o-table th,\n",
       "#h2o-table-1 .h2o-table td {\n",
       "  text-align: right;\n",
       "  /* border: 1px solid; */\n",
       "}\n",
       "#h2o-table-1 .h2o-table tr:nth-child(even) {\n",
       "  /* background: #F5F5F5 */\n",
       "}\n",
       "\n",
       "</style>      \n",
       "<div id=\"h2o-table-1\" class=\"h2o-container\">\n",
       "  <table class=\"h2o-table\">\n",
       "    <caption></caption>\n",
       "    <thead></thead>\n",
       "    <tbody><tr><td>H2O_cluster_uptime:</td>\n",
       "<td>02 secs</td></tr>\n",
       "<tr><td>H2O_cluster_timezone:</td>\n",
       "<td>Asia/Kolkata</td></tr>\n",
       "<tr><td>H2O_data_parsing_timezone:</td>\n",
       "<td>UTC</td></tr>\n",
       "<tr><td>H2O_cluster_version:</td>\n",
       "<td>3.40.0.4</td></tr>\n",
       "<tr><td>H2O_cluster_version_age:</td>\n",
       "<td>22 days</td></tr>\n",
       "<tr><td>H2O_cluster_name:</td>\n",
       "<td>H2O_from_python_Amit_Vikram_Raj_3s8rjz</td></tr>\n",
       "<tr><td>H2O_cluster_total_nodes:</td>\n",
       "<td>1</td></tr>\n",
       "<tr><td>H2O_cluster_free_memory:</td>\n",
       "<td>3.412 Gb</td></tr>\n",
       "<tr><td>H2O_cluster_total_cores:</td>\n",
       "<td>16</td></tr>\n",
       "<tr><td>H2O_cluster_allowed_cores:</td>\n",
       "<td>16</td></tr>\n",
       "<tr><td>H2O_cluster_status:</td>\n",
       "<td>locked, healthy</td></tr>\n",
       "<tr><td>H2O_connection_url:</td>\n",
       "<td>http://127.0.0.1:54321</td></tr>\n",
       "<tr><td>H2O_connection_proxy:</td>\n",
       "<td>{\"http\": null, \"https\": null}</td></tr>\n",
       "<tr><td>H2O_internal_security:</td>\n",
       "<td>False</td></tr>\n",
       "<tr><td>Python_version:</td>\n",
       "<td>3.10.9 final</td></tr></tbody>\n",
       "  </table>\n",
       "</div>\n"
      ],
      "text/plain": [
       "--------------------------  --------------------------------------\n",
       "H2O_cluster_uptime:         02 secs\n",
       "H2O_cluster_timezone:       Asia/Kolkata\n",
       "H2O_data_parsing_timezone:  UTC\n",
       "H2O_cluster_version:        3.40.0.4\n",
       "H2O_cluster_version_age:    22 days\n",
       "H2O_cluster_name:           H2O_from_python_Amit_Vikram_Raj_3s8rjz\n",
       "H2O_cluster_total_nodes:    1\n",
       "H2O_cluster_free_memory:    3.412 Gb\n",
       "H2O_cluster_total_cores:    16\n",
       "H2O_cluster_allowed_cores:  16\n",
       "H2O_cluster_status:         locked, healthy\n",
       "H2O_connection_url:         http://127.0.0.1:54321\n",
       "H2O_connection_proxy:       {\"http\": null, \"https\": null}\n",
       "H2O_internal_security:      False\n",
       "Python_version:             3.10.9 final\n",
       "--------------------------  --------------------------------------"
      ]
     },
     "metadata": {},
     "output_type": "display_data"
    }
   ],
   "source": [
    "h2o.init()"
   ]
  },
  {
   "cell_type": "markdown",
   "id": "cc8ab7b2-f8ba-46c9-8069-6dc0c25776f6",
   "metadata": {
    "jp-MarkdownHeadingCollapsed": true,
    "tags": []
   },
   "source": [
    "## Data Loading"
   ]
  },
  {
   "cell_type": "code",
   "execution_count": 13,
   "id": "62db6b93-f63f-41e6-a718-a41d11caee11",
   "metadata": {},
   "outputs": [
    {
     "name": "stderr",
     "output_type": "stream",
     "text": [
      "C:\\Users\\Amit Vikram Raj\\AppData\\Local\\Temp\\ipykernel_4356\\300805768.py:1: DtypeWarning: Columns (9) have mixed types. Specify dtype option on import or set low_memory=False.\n",
      "  data = pd.read_csv(\"..\\input\\License_Data.csv\")\n"
     ]
    },
    {
     "data": {
      "text/plain": [
       "(85895, 32)"
      ]
     },
     "execution_count": 13,
     "metadata": {},
     "output_type": "execute_result"
    }
   ],
   "source": [
    "data = pd.read_csv(\"..\\input\\License_Data.csv\")\n",
    "data.shape"
   ]
  },
  {
   "cell_type": "code",
   "execution_count": 4,
   "id": "0c7a9d0e-9c0d-462e-95ae-dc485b3d70b2",
   "metadata": {},
   "outputs": [
    {
     "data": {
      "text/html": [
       "<div>\n",
       "<style scoped>\n",
       "    .dataframe tbody tr th:only-of-type {\n",
       "        vertical-align: middle;\n",
       "    }\n",
       "\n",
       "    .dataframe tbody tr th {\n",
       "        vertical-align: top;\n",
       "    }\n",
       "\n",
       "    .dataframe thead th {\n",
       "        text-align: right;\n",
       "    }\n",
       "</style>\n",
       "<table border=\"1\" class=\"dataframe\">\n",
       "  <thead>\n",
       "    <tr style=\"text-align: right;\">\n",
       "      <th></th>\n",
       "      <th>ID</th>\n",
       "      <th>LICENSE_ID</th>\n",
       "      <th>ACCOUNT_NUMBER</th>\n",
       "      <th>SITE_NUMBER</th>\n",
       "      <th>LEGAL_NAME</th>\n",
       "      <th>DOING_BUSINESS_AS_NAME</th>\n",
       "      <th>ADDRESS</th>\n",
       "      <th>CITY</th>\n",
       "      <th>STATE</th>\n",
       "      <th>ZIP_CODE</th>\n",
       "      <th>WARD</th>\n",
       "      <th>PRECINCT</th>\n",
       "      <th>WARD_PRECINCT</th>\n",
       "      <th>POLICE_DISTRICT</th>\n",
       "      <th>LICENSE_CODE</th>\n",
       "      <th>LICENSE_DESCRIPTION</th>\n",
       "      <th>LICENSE_NUMBER</th>\n",
       "      <th>APPLICATION_TYPE</th>\n",
       "      <th>APPLICATION_CREATED_DATE</th>\n",
       "      <th>APPLICATION_REQUIREMENTS_COMPLETE</th>\n",
       "      <th>PAYMENT_DATE</th>\n",
       "      <th>CONDITIONAL_APPROVAL</th>\n",
       "      <th>LICENSE_TERM_START_DATE</th>\n",
       "      <th>LICENSE_TERM_EXPIRATION_DATE</th>\n",
       "      <th>LICENSE_APPROVED_FOR_ISSUANCE</th>\n",
       "      <th>DATE_ISSUED</th>\n",
       "      <th>LICENSE_STATUS_CHANGE_DATE</th>\n",
       "      <th>SSA</th>\n",
       "      <th>LATITUDE</th>\n",
       "      <th>LONGITUDE</th>\n",
       "      <th>LOCATION</th>\n",
       "      <th>LICENSE_STATUS</th>\n",
       "    </tr>\n",
       "  </thead>\n",
       "  <tbody>\n",
       "    <tr>\n",
       "      <th>0</th>\n",
       "      <td>35342-20020816</td>\n",
       "      <td>1256593</td>\n",
       "      <td>32811</td>\n",
       "      <td>1</td>\n",
       "      <td>CARMEN CAHUE</td>\n",
       "      <td>CLAUDIA'S BRIDAL SHOP</td>\n",
       "      <td>2625 S CENTRAL PARK AVE  1</td>\n",
       "      <td>CHICAGO</td>\n",
       "      <td>IL</td>\n",
       "      <td>60623.0</td>\n",
       "      <td>22.0</td>\n",
       "      <td>28.0</td>\n",
       "      <td>22-28</td>\n",
       "      <td>10.0</td>\n",
       "      <td>1010</td>\n",
       "      <td>Limited Business License</td>\n",
       "      <td>35342.0</td>\n",
       "      <td>RENEW</td>\n",
       "      <td>NaN</td>\n",
       "      <td>2002-06-28T00:00:00</td>\n",
       "      <td>2002-08-21T00:00:00</td>\n",
       "      <td>N</td>\n",
       "      <td>2002-08-16T00:00:00</td>\n",
       "      <td>2003-08-15T00:00:00</td>\n",
       "      <td>2002-08-21T00:00:00</td>\n",
       "      <td>2006-04-11T00:00:00</td>\n",
       "      <td>NaN</td>\n",
       "      <td>25.0</td>\n",
       "      <td>41.843613</td>\n",
       "      <td>-87.714618</td>\n",
       "      <td>{'latitude': '41.843612879431845', 'longitude'...</td>\n",
       "      <td>AAI</td>\n",
       "    </tr>\n",
       "    <tr>\n",
       "      <th>1</th>\n",
       "      <td>1358463-20051116</td>\n",
       "      <td>1639294</td>\n",
       "      <td>262311</td>\n",
       "      <td>29</td>\n",
       "      <td>ISLA TROPICAL, INC.</td>\n",
       "      <td>ISLA TROPICAL</td>\n",
       "      <td>2825 W MONTROSE AVE</td>\n",
       "      <td>CHICAGO</td>\n",
       "      <td>IL</td>\n",
       "      <td>60618</td>\n",
       "      <td>33.0</td>\n",
       "      <td>23.0</td>\n",
       "      <td>33-23</td>\n",
       "      <td>17.0</td>\n",
       "      <td>1315</td>\n",
       "      <td>Mobile Food Dispenser</td>\n",
       "      <td>1358463.0</td>\n",
       "      <td>RENEW</td>\n",
       "      <td>NaN</td>\n",
       "      <td>2005-09-22T00:00:00</td>\n",
       "      <td>2005-11-03T00:00:00</td>\n",
       "      <td>N</td>\n",
       "      <td>2005-11-16T00:00:00</td>\n",
       "      <td>2006-11-15T00:00:00</td>\n",
       "      <td>2006-04-05T00:00:00</td>\n",
       "      <td>2006-06-12T00:00:00</td>\n",
       "      <td>2006-06-15T00:00:00</td>\n",
       "      <td>60.0</td>\n",
       "      <td>41.961132</td>\n",
       "      <td>-87.699626</td>\n",
       "      <td>{'latitude': '41.96113244107215', 'longitude':...</td>\n",
       "      <td>AAC</td>\n",
       "    </tr>\n",
       "    <tr>\n",
       "      <th>2</th>\n",
       "      <td>1980233-20090722</td>\n",
       "      <td>1980233</td>\n",
       "      <td>345008</td>\n",
       "      <td>1</td>\n",
       "      <td>DJS REMODELING</td>\n",
       "      <td>DJS REMODELING, INC.</td>\n",
       "      <td>1605  CLAVEY RD 1</td>\n",
       "      <td>HIGHLAND</td>\n",
       "      <td>IL</td>\n",
       "      <td>60035</td>\n",
       "      <td>NaN</td>\n",
       "      <td>NaN</td>\n",
       "      <td>NaN</td>\n",
       "      <td>NaN</td>\n",
       "      <td>1011</td>\n",
       "      <td>Home Repair</td>\n",
       "      <td>1980233.0</td>\n",
       "      <td>ISSUE</td>\n",
       "      <td>2009-06-29T00:00:00</td>\n",
       "      <td>2009-07-22T00:00:00</td>\n",
       "      <td>2009-07-22T00:00:00</td>\n",
       "      <td>N</td>\n",
       "      <td>2009-07-22T00:00:00</td>\n",
       "      <td>2011-07-15T00:00:00</td>\n",
       "      <td>2009-07-22T00:00:00</td>\n",
       "      <td>2009-07-22T00:00:00</td>\n",
       "      <td>NaN</td>\n",
       "      <td>NaN</td>\n",
       "      <td>NaN</td>\n",
       "      <td>NaN</td>\n",
       "      <td>NaN</td>\n",
       "      <td>AAI</td>\n",
       "    </tr>\n",
       "  </tbody>\n",
       "</table>\n",
       "</div>"
      ],
      "text/plain": [
       "                 ID  LICENSE_ID  ACCOUNT_NUMBER  SITE_NUMBER  \\\n",
       "0    35342-20020816     1256593           32811            1   \n",
       "1  1358463-20051116     1639294          262311           29   \n",
       "2  1980233-20090722     1980233          345008            1   \n",
       "\n",
       "            LEGAL_NAME DOING_BUSINESS_AS_NAME                     ADDRESS  \\\n",
       "0         CARMEN CAHUE  CLAUDIA'S BRIDAL SHOP  2625 S CENTRAL PARK AVE  1   \n",
       "1  ISLA TROPICAL, INC.          ISLA TROPICAL         2825 W MONTROSE AVE   \n",
       "2       DJS REMODELING   DJS REMODELING, INC.           1605  CLAVEY RD 1   \n",
       "\n",
       "       CITY STATE ZIP_CODE  WARD  PRECINCT WARD_PRECINCT  POLICE_DISTRICT  \\\n",
       "0   CHICAGO    IL  60623.0  22.0      28.0         22-28             10.0   \n",
       "1   CHICAGO    IL    60618  33.0      23.0         33-23             17.0   \n",
       "2  HIGHLAND    IL    60035   NaN       NaN           NaN              NaN   \n",
       "\n",
       "   LICENSE_CODE       LICENSE_DESCRIPTION  LICENSE_NUMBER APPLICATION_TYPE  \\\n",
       "0          1010  Limited Business License         35342.0            RENEW   \n",
       "1          1315     Mobile Food Dispenser       1358463.0            RENEW   \n",
       "2          1011               Home Repair       1980233.0            ISSUE   \n",
       "\n",
       "  APPLICATION_CREATED_DATE APPLICATION_REQUIREMENTS_COMPLETE  \\\n",
       "0                      NaN               2002-06-28T00:00:00   \n",
       "1                      NaN               2005-09-22T00:00:00   \n",
       "2      2009-06-29T00:00:00               2009-07-22T00:00:00   \n",
       "\n",
       "          PAYMENT_DATE CONDITIONAL_APPROVAL LICENSE_TERM_START_DATE  \\\n",
       "0  2002-08-21T00:00:00                    N     2002-08-16T00:00:00   \n",
       "1  2005-11-03T00:00:00                    N     2005-11-16T00:00:00   \n",
       "2  2009-07-22T00:00:00                    N     2009-07-22T00:00:00   \n",
       "\n",
       "  LICENSE_TERM_EXPIRATION_DATE LICENSE_APPROVED_FOR_ISSUANCE  \\\n",
       "0          2003-08-15T00:00:00           2002-08-21T00:00:00   \n",
       "1          2006-11-15T00:00:00           2006-04-05T00:00:00   \n",
       "2          2011-07-15T00:00:00           2009-07-22T00:00:00   \n",
       "\n",
       "           DATE_ISSUED LICENSE_STATUS_CHANGE_DATE   SSA   LATITUDE  LONGITUDE  \\\n",
       "0  2006-04-11T00:00:00                        NaN  25.0  41.843613 -87.714618   \n",
       "1  2006-06-12T00:00:00        2006-06-15T00:00:00  60.0  41.961132 -87.699626   \n",
       "2  2009-07-22T00:00:00                        NaN   NaN        NaN        NaN   \n",
       "\n",
       "                                            LOCATION LICENSE_STATUS  \n",
       "0  {'latitude': '41.843612879431845', 'longitude'...            AAI  \n",
       "1  {'latitude': '41.96113244107215', 'longitude':...            AAC  \n",
       "2                                                NaN            AAI  "
      ]
     },
     "execution_count": 4,
     "metadata": {},
     "output_type": "execute_result"
    }
   ],
   "source": [
    "data.head(3)"
   ]
  },
  {
   "cell_type": "markdown",
   "id": "3c4a2d85-c8c7-4d08-9345-d07a1f94f738",
   "metadata": {
    "jp-MarkdownHeadingCollapsed": true,
    "tags": []
   },
   "source": [
    "## EDA & Data Preprocessing"
   ]
  },
  {
   "cell_type": "markdown",
   "id": "984721e3-3f97-4283-a7c1-e6f9acecf0ed",
   "metadata": {
    "jp-MarkdownHeadingCollapsed": true,
    "tags": []
   },
   "source": [
    "### 1. Analyzing Target Variable\n",
    "* **"
   ]
  },
  {
   "cell_type": "code",
   "execution_count": 5,
   "id": "ea808138-b64a-4391-ac5b-dfbf33a24d5f",
   "metadata": {
    "scrolled": true,
    "tags": []
   },
   "outputs": [
    {
     "name": "stdout",
     "output_type": "stream",
     "text": [
      "<class 'pandas.core.frame.DataFrame'>\n",
      "RangeIndex: 85895 entries, 0 to 85894\n",
      "Data columns (total 32 columns):\n",
      " #   Column                             Non-Null Count  Dtype  \n",
      "---  ------                             --------------  -----  \n",
      " 0   ID                                 85895 non-null  object \n",
      " 1   LICENSE_ID                         85895 non-null  int64  \n",
      " 2   ACCOUNT_NUMBER                     85895 non-null  int64  \n",
      " 3   SITE_NUMBER                        85895 non-null  int64  \n",
      " 4   LEGAL_NAME                         85895 non-null  object \n",
      " 5   DOING_BUSINESS_AS_NAME             85894 non-null  object \n",
      " 6   ADDRESS                            85895 non-null  object \n",
      " 7   CITY                               85895 non-null  object \n",
      " 8   STATE                              85895 non-null  object \n",
      " 9   ZIP_CODE                           85864 non-null  object \n",
      " 10  WARD                               36194 non-null  float64\n",
      " 11  PRECINCT                           29194 non-null  float64\n",
      " 12  WARD_PRECINCT                      36195 non-null  object \n",
      " 13  POLICE_DISTRICT                    31883 non-null  float64\n",
      " 14  LICENSE_CODE                       85895 non-null  int64  \n",
      " 15  LICENSE_DESCRIPTION                85895 non-null  object \n",
      " 16  LICENSE_NUMBER                     85894 non-null  float64\n",
      " 17  APPLICATION_TYPE                   85895 non-null  object \n",
      " 18  APPLICATION_CREATED_DATE           21235 non-null  object \n",
      " 19  APPLICATION_REQUIREMENTS_COMPLETE  85681 non-null  object \n",
      " 20  PAYMENT_DATE                       84606 non-null  object \n",
      " 21  CONDITIONAL_APPROVAL               85895 non-null  object \n",
      " 22  LICENSE_TERM_START_DATE            85667 non-null  object \n",
      " 23  LICENSE_TERM_EXPIRATION_DATE       85877 non-null  object \n",
      " 24  LICENSE_APPROVED_FOR_ISSUANCE      79106 non-null  object \n",
      " 25  DATE_ISSUED                        85895 non-null  object \n",
      " 26  LICENSE_STATUS_CHANGE_DATE         30495 non-null  object \n",
      " 27  SSA                                9449 non-null   float64\n",
      " 28  LATITUDE                           38649 non-null  float64\n",
      " 29  LONGITUDE                          38649 non-null  float64\n",
      " 30  LOCATION                           38649 non-null  object \n",
      " 31  LICENSE_STATUS                     85895 non-null  object \n",
      "dtypes: float64(7), int64(4), object(21)\n",
      "memory usage: 21.0+ MB\n"
     ]
    }
   ],
   "source": [
    "data.info()"
   ]
  },
  {
   "cell_type": "markdown",
   "id": "2cf9e1cd-ff87-4284-84db-84862360b17f",
   "metadata": {},
   "source": [
    "The `LICENSE STATUS` contains the following categories:\n",
    "1. **`AAC`** (license was cancelled during term) \n",
    "2. **`AAI`** (license was issued) \n",
    "3. **`INQ`** (license requires inquiry) \n",
    "4. **`REA`** (license revocation has been appealed) \n",
    "5. **`REV`** (license was revoked)"
   ]
  },
  {
   "cell_type": "code",
   "execution_count": 6,
   "id": "27dcf059-664e-49d2-aee0-bf8a44c2fb85",
   "metadata": {},
   "outputs": [
    {
     "data": {
      "text/plain": [
       "AAI    55400\n",
       "AAC    30200\n",
       "REV      290\n",
       "REA        3\n",
       "INQ        2\n",
       "Name: LICENSE_STATUS, dtype: int64"
      ]
     },
     "execution_count": 6,
     "metadata": {},
     "output_type": "execute_result"
    }
   ],
   "source": [
    "data.LICENSE_STATUS.value_counts()"
   ]
  },
  {
   "cell_type": "code",
   "execution_count": 7,
   "id": "c033d952-ebd2-4d7a-bc1c-35815cd2b35c",
   "metadata": {},
   "outputs": [
    {
     "data": {
      "image/png": "[encoded data removed]",
      "text/plain": [
       "<Figure size 640x480 with 1 Axes>"
      ]
     },
     "metadata": {},
     "output_type": "display_data"
    }
   ],
   "source": [
    "sns.countplot(data, x='LICENSE_STATUS');"
   ]
  },
  {
   "cell_type": "code",
   "execution_count": 8,
   "id": "e1870f57-a250-4e8d-905c-d223c47367b8",
   "metadata": {},
   "outputs": [
    {
     "data": {
      "text/html": [
       "<div>\n",
       "<style scoped>\n",
       "    .dataframe tbody tr th:only-of-type {\n",
       "        vertical-align: middle;\n",
       "    }\n",
       "\n",
       "    .dataframe tbody tr th {\n",
       "        vertical-align: top;\n",
       "    }\n",
       "\n",
       "    .dataframe thead th {\n",
       "        text-align: right;\n",
       "    }\n",
       "</style>\n",
       "<table border=\"1\" class=\"dataframe\">\n",
       "  <thead>\n",
       "    <tr style=\"text-align: right;\">\n",
       "      <th></th>\n",
       "      <th>ID</th>\n",
       "      <th>LICENSE_ID</th>\n",
       "      <th>ACCOUNT_NUMBER</th>\n",
       "      <th>SITE_NUMBER</th>\n",
       "      <th>LEGAL_NAME</th>\n",
       "      <th>DOING_BUSINESS_AS_NAME</th>\n",
       "      <th>ADDRESS</th>\n",
       "      <th>CITY</th>\n",
       "      <th>STATE</th>\n",
       "      <th>ZIP_CODE</th>\n",
       "      <th>WARD</th>\n",
       "      <th>PRECINCT</th>\n",
       "      <th>WARD_PRECINCT</th>\n",
       "      <th>POLICE_DISTRICT</th>\n",
       "      <th>LICENSE_CODE</th>\n",
       "      <th>LICENSE_DESCRIPTION</th>\n",
       "      <th>LICENSE_NUMBER</th>\n",
       "      <th>APPLICATION_TYPE</th>\n",
       "      <th>APPLICATION_CREATED_DATE</th>\n",
       "      <th>APPLICATION_REQUIREMENTS_COMPLETE</th>\n",
       "      <th>PAYMENT_DATE</th>\n",
       "      <th>CONDITIONAL_APPROVAL</th>\n",
       "      <th>LICENSE_TERM_START_DATE</th>\n",
       "      <th>LICENSE_TERM_EXPIRATION_DATE</th>\n",
       "      <th>LICENSE_APPROVED_FOR_ISSUANCE</th>\n",
       "      <th>DATE_ISSUED</th>\n",
       "      <th>LICENSE_STATUS_CHANGE_DATE</th>\n",
       "      <th>SSA</th>\n",
       "      <th>LATITUDE</th>\n",
       "      <th>LONGITUDE</th>\n",
       "      <th>LOCATION</th>\n",
       "      <th>LICENSE_STATUS</th>\n",
       "    </tr>\n",
       "  </thead>\n",
       "  <tbody>\n",
       "    <tr>\n",
       "      <th>6284</th>\n",
       "      <td>15990-20101216</td>\n",
       "      <td>2061140</td>\n",
       "      <td>6802</td>\n",
       "      <td>1</td>\n",
       "      <td>S. A. A. ENTERPRISES, INC.</td>\n",
       "      <td>S. A. A. FOOD &amp; LIQUORS</td>\n",
       "      <td>2561 E 75TH ST  1</td>\n",
       "      <td>CHICAGO</td>\n",
       "      <td>IL</td>\n",
       "      <td>60649</td>\n",
       "      <td>7.0</td>\n",
       "      <td>28.0</td>\n",
       "      <td>7-28</td>\n",
       "      <td>4.0</td>\n",
       "      <td>1006</td>\n",
       "      <td>Retail Food Establishment</td>\n",
       "      <td>15990.0</td>\n",
       "      <td>RENEW</td>\n",
       "      <td>NaN</td>\n",
       "      <td>2010-10-15T00:00:00</td>\n",
       "      <td>2010-12-14T00:00:00</td>\n",
       "      <td>N</td>\n",
       "      <td>2010-12-16T00:00:00</td>\n",
       "      <td>2012-12-15T00:00:00</td>\n",
       "      <td>2010-12-14T00:00:00</td>\n",
       "      <td>2010-12-14T00:00:00</td>\n",
       "      <td>2012-08-17T00:00:00</td>\n",
       "      <td>49.0</td>\n",
       "      <td>41.758940</td>\n",
       "      <td>-87.561645</td>\n",
       "      <td>{'latitude': '41.758939922801', 'longitude': '...</td>\n",
       "      <td>REA</td>\n",
       "    </tr>\n",
       "    <tr>\n",
       "      <th>50757</th>\n",
       "      <td>1331913-20030929</td>\n",
       "      <td>1331913</td>\n",
       "      <td>249850</td>\n",
       "      <td>2</td>\n",
       "      <td>TURIN BUILDERS INC</td>\n",
       "      <td>TURIN BUILDERS INC</td>\n",
       "      <td>1343 S WASHINGTON</td>\n",
       "      <td>PARK RIDGE</td>\n",
       "      <td>IL</td>\n",
       "      <td>60068</td>\n",
       "      <td>NaN</td>\n",
       "      <td>NaN</td>\n",
       "      <td>NaN</td>\n",
       "      <td>NaN</td>\n",
       "      <td>1010</td>\n",
       "      <td>Limited Business License</td>\n",
       "      <td>1331913.0</td>\n",
       "      <td>ISSUE</td>\n",
       "      <td>2003-01-22T00:00:00</td>\n",
       "      <td>2003-09-29T00:00:00</td>\n",
       "      <td>NaN</td>\n",
       "      <td>N</td>\n",
       "      <td>2003-09-29T00:00:00</td>\n",
       "      <td>2004-02-15T00:00:00</td>\n",
       "      <td>2003-07-21T00:00:00</td>\n",
       "      <td>2003-07-22T00:00:00</td>\n",
       "      <td>2003-09-29T00:00:00</td>\n",
       "      <td>NaN</td>\n",
       "      <td>NaN</td>\n",
       "      <td>NaN</td>\n",
       "      <td>NaN</td>\n",
       "      <td>INQ</td>\n",
       "    </tr>\n",
       "    <tr>\n",
       "      <th>59549</th>\n",
       "      <td>1963143-20100816</td>\n",
       "      <td>2041316</td>\n",
       "      <td>341709</td>\n",
       "      <td>1</td>\n",
       "      <td>SAAN &amp; BAADA CORP.</td>\n",
       "      <td>SERENITY SPA</td>\n",
       "      <td>7222 N HARLEM AVE 1</td>\n",
       "      <td>CHICAGO</td>\n",
       "      <td>IL</td>\n",
       "      <td>60631</td>\n",
       "      <td>41.0</td>\n",
       "      <td>1.0</td>\n",
       "      <td>41-1</td>\n",
       "      <td>16.0</td>\n",
       "      <td>1524</td>\n",
       "      <td>Massage Establishment</td>\n",
       "      <td>1963143.0</td>\n",
       "      <td>RENEW</td>\n",
       "      <td>NaN</td>\n",
       "      <td>2010-06-15T00:00:00</td>\n",
       "      <td>2010-08-02T00:00:00</td>\n",
       "      <td>N</td>\n",
       "      <td>2010-08-16T00:00:00</td>\n",
       "      <td>2012-08-15T00:00:00</td>\n",
       "      <td>2010-08-02T00:00:00</td>\n",
       "      <td>2010-08-03T00:00:00</td>\n",
       "      <td>2011-06-16T00:00:00</td>\n",
       "      <td>NaN</td>\n",
       "      <td>42.012424</td>\n",
       "      <td>-87.806777</td>\n",
       "      <td>{'latitude': '42.01242416969208', 'longitude':...</td>\n",
       "      <td>REA</td>\n",
       "    </tr>\n",
       "    <tr>\n",
       "      <th>80153</th>\n",
       "      <td>1331914-20030929</td>\n",
       "      <td>1331914</td>\n",
       "      <td>249850</td>\n",
       "      <td>2</td>\n",
       "      <td>TURIN BUILDERS INC</td>\n",
       "      <td>TURIN BUILDERS INC</td>\n",
       "      <td>1343 S WASHINGTON</td>\n",
       "      <td>PARK RIDGE</td>\n",
       "      <td>IL</td>\n",
       "      <td>60068</td>\n",
       "      <td>NaN</td>\n",
       "      <td>NaN</td>\n",
       "      <td>NaN</td>\n",
       "      <td>NaN</td>\n",
       "      <td>1011</td>\n",
       "      <td>Home Repair</td>\n",
       "      <td>1331914.0</td>\n",
       "      <td>ISSUE</td>\n",
       "      <td>2003-01-22T00:00:00</td>\n",
       "      <td>2003-09-29T00:00:00</td>\n",
       "      <td>NaN</td>\n",
       "      <td>N</td>\n",
       "      <td>2003-09-29T00:00:00</td>\n",
       "      <td>2004-02-15T00:00:00</td>\n",
       "      <td>2003-07-21T00:00:00</td>\n",
       "      <td>2003-07-22T00:00:00</td>\n",
       "      <td>2003-09-29T00:00:00</td>\n",
       "      <td>NaN</td>\n",
       "      <td>NaN</td>\n",
       "      <td>NaN</td>\n",
       "      <td>NaN</td>\n",
       "      <td>INQ</td>\n",
       "    </tr>\n",
       "    <tr>\n",
       "      <th>82318</th>\n",
       "      <td>35093-20101216</td>\n",
       "      <td>2061724</td>\n",
       "      <td>32745</td>\n",
       "      <td>1</td>\n",
       "      <td>2953 W. BELMONT, INC.</td>\n",
       "      <td>CANOS VILLAGE</td>\n",
       "      <td>2953 W BELMONT AVE</td>\n",
       "      <td>CHICAGO</td>\n",
       "      <td>IL</td>\n",
       "      <td>60618.0</td>\n",
       "      <td>33.0</td>\n",
       "      <td>13.0</td>\n",
       "      <td>33-13</td>\n",
       "      <td>14.0</td>\n",
       "      <td>1472</td>\n",
       "      <td>Music and Dance</td>\n",
       "      <td>35093.0</td>\n",
       "      <td>RENEW</td>\n",
       "      <td>NaN</td>\n",
       "      <td>2010-10-15T00:00:00</td>\n",
       "      <td>2010-12-07T00:00:00</td>\n",
       "      <td>N</td>\n",
       "      <td>2010-12-16T00:00:00</td>\n",
       "      <td>2012-12-15T00:00:00</td>\n",
       "      <td>2010-12-07T00:00:00</td>\n",
       "      <td>2010-12-08T00:00:00</td>\n",
       "      <td>2012-12-11T00:00:00</td>\n",
       "      <td>NaN</td>\n",
       "      <td>41.939255</td>\n",
       "      <td>-87.702427</td>\n",
       "      <td>{'latitude': '41.939255035341795', 'longitude'...</td>\n",
       "      <td>REA</td>\n",
       "    </tr>\n",
       "  </tbody>\n",
       "</table>\n",
       "</div>"
      ],
      "text/plain": [
       "                     ID  LICENSE_ID  ACCOUNT_NUMBER  SITE_NUMBER  \\\n",
       "6284     15990-20101216     2061140            6802            1   \n",
       "50757  1331913-20030929     1331913          249850            2   \n",
       "59549  1963143-20100816     2041316          341709            1   \n",
       "80153  1331914-20030929     1331914          249850            2   \n",
       "82318    35093-20101216     2061724           32745            1   \n",
       "\n",
       "                       LEGAL_NAME   DOING_BUSINESS_AS_NAME  \\\n",
       "6284   S. A. A. ENTERPRISES, INC.  S. A. A. FOOD & LIQUORS   \n",
       "50757          TURIN BUILDERS INC       TURIN BUILDERS INC   \n",
       "59549          SAAN & BAADA CORP.             SERENITY SPA   \n",
       "80153          TURIN BUILDERS INC       TURIN BUILDERS INC   \n",
       "82318       2953 W. BELMONT, INC.            CANOS VILLAGE   \n",
       "\n",
       "                   ADDRESS        CITY STATE ZIP_CODE  WARD  PRECINCT  \\\n",
       "6284     2561 E 75TH ST  1     CHICAGO    IL    60649   7.0      28.0   \n",
       "50757    1343 S WASHINGTON  PARK RIDGE    IL    60068   NaN       NaN   \n",
       "59549  7222 N HARLEM AVE 1     CHICAGO    IL    60631  41.0       1.0   \n",
       "80153    1343 S WASHINGTON  PARK RIDGE    IL    60068   NaN       NaN   \n",
       "82318   2953 W BELMONT AVE     CHICAGO    IL  60618.0  33.0      13.0   \n",
       "\n",
       "      WARD_PRECINCT  POLICE_DISTRICT  LICENSE_CODE        LICENSE_DESCRIPTION  \\\n",
       "6284           7-28              4.0          1006  Retail Food Establishment   \n",
       "50757           NaN              NaN          1010   Limited Business License   \n",
       "59549          41-1             16.0          1524      Massage Establishment   \n",
       "80153           NaN              NaN          1011                Home Repair   \n",
       "82318         33-13             14.0          1472            Music and Dance   \n",
       "\n",
       "       LICENSE_NUMBER APPLICATION_TYPE APPLICATION_CREATED_DATE  \\\n",
       "6284          15990.0            RENEW                      NaN   \n",
       "50757       1331913.0            ISSUE      2003-01-22T00:00:00   \n",
       "59549       1963143.0            RENEW                      NaN   \n",
       "80153       1331914.0            ISSUE      2003-01-22T00:00:00   \n",
       "82318         35093.0            RENEW                      NaN   \n",
       "\n",
       "      APPLICATION_REQUIREMENTS_COMPLETE         PAYMENT_DATE  \\\n",
       "6284                2010-10-15T00:00:00  2010-12-14T00:00:00   \n",
       "50757               2003-09-29T00:00:00                  NaN   \n",
       "59549               2010-06-15T00:00:00  2010-08-02T00:00:00   \n",
       "80153               2003-09-29T00:00:00                  NaN   \n",
       "82318               2010-10-15T00:00:00  2010-12-07T00:00:00   \n",
       "\n",
       "      CONDITIONAL_APPROVAL LICENSE_TERM_START_DATE  \\\n",
       "6284                     N     2010-12-16T00:00:00   \n",
       "50757                    N     2003-09-29T00:00:00   \n",
       "59549                    N     2010-08-16T00:00:00   \n",
       "80153                    N     2003-09-29T00:00:00   \n",
       "82318                    N     2010-12-16T00:00:00   \n",
       "\n",
       "      LICENSE_TERM_EXPIRATION_DATE LICENSE_APPROVED_FOR_ISSUANCE  \\\n",
       "6284           2012-12-15T00:00:00           2010-12-14T00:00:00   \n",
       "50757          2004-02-15T00:00:00           2003-07-21T00:00:00   \n",
       "59549          2012-08-15T00:00:00           2010-08-02T00:00:00   \n",
       "80153          2004-02-15T00:00:00           2003-07-21T00:00:00   \n",
       "82318          2012-12-15T00:00:00           2010-12-07T00:00:00   \n",
       "\n",
       "               DATE_ISSUED LICENSE_STATUS_CHANGE_DATE   SSA   LATITUDE  \\\n",
       "6284   2010-12-14T00:00:00        2012-08-17T00:00:00  49.0  41.758940   \n",
       "50757  2003-07-22T00:00:00        2003-09-29T00:00:00   NaN        NaN   \n",
       "59549  2010-08-03T00:00:00        2011-06-16T00:00:00   NaN  42.012424   \n",
       "80153  2003-07-22T00:00:00        2003-09-29T00:00:00   NaN        NaN   \n",
       "82318  2010-12-08T00:00:00        2012-12-11T00:00:00   NaN  41.939255   \n",
       "\n",
       "       LONGITUDE                                           LOCATION  \\\n",
       "6284  -87.561645  {'latitude': '41.758939922801', 'longitude': '...   \n",
       "50757        NaN                                                NaN   \n",
       "59549 -87.806777  {'latitude': '42.01242416969208', 'longitude':...   \n",
       "80153        NaN                                                NaN   \n",
       "82318 -87.702427  {'latitude': '41.939255035341795', 'longitude'...   \n",
       "\n",
       "      LICENSE_STATUS  \n",
       "6284             REA  \n",
       "50757            INQ  \n",
       "59549            REA  \n",
       "80153            INQ  \n",
       "82318            REA  "
      ]
     },
     "execution_count": 8,
     "metadata": {},
     "output_type": "execute_result"
    }
   ],
   "source": [
    "data[data['LICENSE_STATUS'].isin(['REA', 'INQ'])]"
   ]
  },
  {
   "cell_type": "code",
   "execution_count": 7,
   "id": "881cdc4e-74ac-4451-8b9a-5b9d8d6acd9a",
   "metadata": {},
   "outputs": [],
   "source": [
    "# data[data['LICENSE_STATUS'].isin(['REA', 'INQ'])]['LEGAL_NAME'].values"
   ]
  },
  {
   "cell_type": "code",
   "execution_count": 8,
   "id": "2d22cbbc-2877-42ca-85f2-79f4ee5a970e",
   "metadata": {},
   "outputs": [],
   "source": [
    "# data[data['LEGAL_NAME'].isin(['S. A. A. ENTERPRISES, INC.', 'SAAN & BAADA CORP.', 'TURIN BUILDERS INC', '2953 W. BELMONT, INC.'])]"
   ]
  },
  {
   "cell_type": "markdown",
   "id": "b16c4ab0-2298-4544-9c80-8f23987c84a4",
   "metadata": {},
   "source": [
    "#### Since `REA`, `INQ` values are very low in the dataset, we can ignore them\n",
    "\n",
    "So, Now The `LICENSE STATUS` contains the following categories:\n",
    "1. **`AAC`** (license was cancelled during term) \n",
    "2. **`AAI`** (license was issued) \n",
    "3. **`REV`** (license was revoked)"
   ]
  },
  {
   "cell_type": "code",
   "execution_count": 9,
   "id": "60350599-a2a2-4354-aafe-e828b180c960",
   "metadata": {},
   "outputs": [],
   "source": [
    "df = data.copy()\n",
    "\n",
    "df = df[~df['LICENSE_STATUS'].isin(['REA', 'INQ'])]"
   ]
  },
  {
   "cell_type": "markdown",
   "id": "72d240e4-c85d-4317-9a04-3f81538a8208",
   "metadata": {
    "jp-MarkdownHeadingCollapsed": true,
    "tags": []
   },
   "source": [
    "### 2. Checking Null Values, Unique Values & DataTypes\n",
    "* **"
   ]
  },
  {
   "cell_type": "code",
   "execution_count": 10,
   "id": "856c404d-1db3-4da3-96c1-b00f0ee4eb70",
   "metadata": {},
   "outputs": [
    {
     "data": {
      "text/plain": [
       "SSA                                  76446\n",
       "APPLICATION_CREATED_DATE             64660\n",
       "PRECINCT                             56701\n",
       "LICENSE_STATUS_CHANGE_DATE           55400\n",
       "POLICE_DISTRICT                      54012\n",
       "WARD                                 49701\n",
       "WARD_PRECINCT                        49700\n",
       "LOCATION                             47246\n",
       "LONGITUDE                            47246\n",
       "LATITUDE                             47246\n",
       "LICENSE_APPROVED_FOR_ISSUANCE         6789\n",
       "PAYMENT_DATE                          1289\n",
       "LICENSE_TERM_START_DATE                228\n",
       "APPLICATION_REQUIREMENTS_COMPLETE      214\n",
       "ZIP_CODE                                31\n",
       "LICENSE_TERM_EXPIRATION_DATE            18\n",
       "LICENSE_NUMBER                           1\n",
       "DOING_BUSINESS_AS_NAME                   1\n",
       "dtype: int64"
      ]
     },
     "execution_count": 10,
     "metadata": {},
     "output_type": "execute_result"
    }
   ],
   "source": [
    "data.isna().sum()[data.isna().sum()>0].sort_values(ascending=False)"
   ]
  },
  {
   "cell_type": "code",
   "execution_count": 12,
   "id": "8c2a06a4-8f87-4a88-bbc7-2bf2255a4850",
   "metadata": {},
   "outputs": [],
   "source": [
    "# plt.figure(figsize=(10,3))\n",
    "# plt.title(\"Features with Null Values\")\n",
    "# plt.ylabel(\"Count\")\n",
    "# data.isna().sum()[data.isna().sum()>0].sort_values(ascending=False).plot(kind=\"bar\", alpha=0.75, rot=80);"
   ]
  },
  {
   "cell_type": "code",
   "execution_count": 12,
   "id": "47673dce-31af-43e0-b49d-ef7ebb31e265",
   "metadata": {},
   "outputs": [
    {
     "data": {
      "text/plain": [
       "(85895, 32)"
      ]
     },
     "execution_count": 12,
     "metadata": {},
     "output_type": "execute_result"
    }
   ],
   "source": [
    "data.shape"
   ]
  },
  {
   "cell_type": "code",
   "execution_count": 14,
   "id": "09ceb894-ea0d-4bba-8f47-7e27f2a51ee2",
   "metadata": {
    "scrolled": true,
    "tags": []
   },
   "outputs": [
    {
     "data": {
      "text/plain": [
       "ID                                    object\n",
       "LICENSE_ID                             int64\n",
       "ACCOUNT_NUMBER                         int64\n",
       "SITE_NUMBER                            int64\n",
       "LEGAL_NAME                            object\n",
       "DOING_BUSINESS_AS_NAME                object\n",
       "ADDRESS                               object\n",
       "CITY                                  object\n",
       "STATE                                 object\n",
       "ZIP_CODE                              object\n",
       "WARD                                 float64\n",
       "PRECINCT                             float64\n",
       "WARD_PRECINCT                         object\n",
       "POLICE_DISTRICT                      float64\n",
       "LICENSE_CODE                           int64\n",
       "LICENSE_DESCRIPTION                   object\n",
       "LICENSE_NUMBER                       float64\n",
       "APPLICATION_TYPE                      object\n",
       "APPLICATION_CREATED_DATE              object\n",
       "APPLICATION_REQUIREMENTS_COMPLETE     object\n",
       "PAYMENT_DATE                          object\n",
       "CONDITIONAL_APPROVAL                  object\n",
       "LICENSE_TERM_START_DATE               object\n",
       "LICENSE_TERM_EXPIRATION_DATE          object\n",
       "LICENSE_APPROVED_FOR_ISSUANCE         object\n",
       "DATE_ISSUED                           object\n",
       "LICENSE_STATUS_CHANGE_DATE            object\n",
       "SSA                                  float64\n",
       "LATITUDE                             float64\n",
       "LONGITUDE                            float64\n",
       "LOCATION                              object\n",
       "LICENSE_STATUS                        object\n",
       "dtype: object"
      ]
     },
     "execution_count": 14,
     "metadata": {},
     "output_type": "execute_result"
    }
   ],
   "source": [
    "data.dtypes"
   ]
  },
  {
   "cell_type": "code",
   "execution_count": 15,
   "id": "446e14db-028c-4bfa-a277-7f946702d471",
   "metadata": {
    "scrolled": true,
    "tags": []
   },
   "outputs": [
    {
     "data": {
      "text/plain": [
       "ID                                   85895\n",
       "LICENSE_ID                           85895\n",
       "LICENSE_NUMBER                       49768\n",
       "ADDRESS                              42146\n",
       "DOING_BUSINESS_AS_NAME               41686\n",
       "ACCOUNT_NUMBER                       38897\n",
       "LEGAL_NAME                           38744\n",
       "LONGITUDE                            21388\n",
       "LOCATION                             21388\n",
       "LATITUDE                             21386\n",
       "PAYMENT_DATE                          4356\n",
       "LICENSE_APPROVED_FOR_ISSUANCE         4223\n",
       "DATE_ISSUED                           3498\n",
       "LICENSE_STATUS_CHANGE_DATE            3152\n",
       "APPLICATION_REQUIREMENTS_COMPLETE     3078\n",
       "APPLICATION_CREATED_DATE              2899\n",
       "LICENSE_TERM_START_DATE               2825\n",
       "ZIP_CODE                              2456\n",
       "WARD_PRECINCT                         2383\n",
       "CITY                                  1223\n",
       "LICENSE_TERM_EXPIRATION_DATE           297\n",
       "SITE_NUMBER                            177\n",
       "LICENSE_DESCRIPTION                    106\n",
       "LICENSE_CODE                           106\n",
       "PRECINCT                                76\n",
       "STATE                                   54\n",
       "SSA                                     53\n",
       "WARD                                    50\n",
       "POLICE_DISTRICT                         28\n",
       "APPLICATION_TYPE                         5\n",
       "LICENSE_STATUS                           5\n",
       "CONDITIONAL_APPROVAL                     2\n",
       "dtype: int64"
      ]
     },
     "execution_count": 15,
     "metadata": {},
     "output_type": "execute_result"
    }
   ],
   "source": [
    "data.nunique().sort_values(ascending=False)\n",
    "\n",
    "# The features with less # unique values can be leveraged in getting better model performance\n",
    "# Whereas the features with # unique values close to data size, are probably not useful depending on their nature/type. "
   ]
  },
  {
   "cell_type": "markdown",
   "id": "33a97082-27c3-4149-af70-34e7edf6f3df",
   "metadata": {},
   "source": [
    "- The features with less # unique values can be leveraged to get useful information\n",
    "- Whereas the features with # unique values close to data size, are probably not useful depending on their nature/type. "
   ]
  },
  {
   "cell_type": "code",
   "execution_count": 16,
   "id": "cf9344c2-1d57-4b2f-a628-7fcd5b91056a",
   "metadata": {},
   "outputs": [],
   "source": [
    "# plt.figure(figsize=(10,3))\n",
    "# plt.title(\"Count of Unique Values in Features\")\n",
    "# plt.ylabel(\"Count\")\n",
    "# data.nunique()[data.nunique()<200].sort_values(ascending=False).plot(kind=\"bar\", alpha=0.75, rot=85);"
   ]
  },
  {
   "cell_type": "markdown",
   "id": "40e43e69-48d4-4b8c-b708-3b47ece89ca4",
   "metadata": {
    "jp-MarkdownHeadingCollapsed": true,
    "tags": []
   },
   "source": [
    "### 3. Handling Null Values & Feature Engineering\n",
    "* **\n",
    "Analyzing All Features One by One"
   ]
  },
  {
   "cell_type": "code",
   "execution_count": 10,
   "id": "aeef6637-c256-424f-83f5-f11fde9077de",
   "metadata": {},
   "outputs": [
    {
     "data": {
      "text/plain": [
       "Index(['ID', 'LICENSE_ID', 'ACCOUNT_NUMBER', 'SITE_NUMBER', 'LEGAL_NAME',\n",
       "       'DOING_BUSINESS_AS_NAME', 'ADDRESS', 'CITY', 'STATE', 'ZIP_CODE',\n",
       "       'WARD', 'PRECINCT', 'WARD_PRECINCT', 'POLICE_DISTRICT', 'LICENSE_CODE',\n",
       "       'LICENSE_DESCRIPTION', 'LICENSE_NUMBER', 'APPLICATION_TYPE',\n",
       "       'APPLICATION_CREATED_DATE', 'APPLICATION_REQUIREMENTS_COMPLETE',\n",
       "       'PAYMENT_DATE', 'CONDITIONAL_APPROVAL', 'LICENSE_TERM_START_DATE',\n",
       "       'LICENSE_TERM_EXPIRATION_DATE', 'LICENSE_APPROVED_FOR_ISSUANCE',\n",
       "       'DATE_ISSUED', 'LICENSE_STATUS_CHANGE_DATE', 'SSA', 'LATITUDE',\n",
       "       'LONGITUDE', 'LOCATION', 'LICENSE_STATUS'],\n",
       "      dtype='object')"
      ]
     },
     "execution_count": 10,
     "metadata": {},
     "output_type": "execute_result"
    }
   ],
   "source": [
    "df.columns"
   ]
  },
  {
   "cell_type": "markdown",
   "id": "f49fffa4-997c-46c0-b350-feed52e6d247",
   "metadata": {
    "jp-MarkdownHeadingCollapsed": true,
    "tags": []
   },
   "source": [
    "#### 3.1 Analyzing `LEGAL_NAME` and `DOING_BUSINESS_AS_NAME` features\n",
    "* **\n",
    "Making a new feature called `LEGAL_BUSINESS_NAME_MATCH` to see if `LEGAL_NAME` and `DOING_BUSINESS_AS_NAME` have some similarity or not"
   ]
  },
  {
   "cell_type": "code",
   "execution_count": 11,
   "id": "ea61a1b8-3791-446b-bcfd-16fbd26d683f",
   "metadata": {},
   "outputs": [
    {
     "data": {
      "text/plain": [
       "0                          CARMEN CAHUE\n",
       "1                   ISLA TROPICAL, INC.\n",
       "2                        DJS REMODELING\n",
       "3              ALL-BRY CONSTRUCTION CO.\n",
       "4          MCDONOUGH MECHANICAL SERVICE\n",
       "                      ...              \n",
       "85890             UNITED PARCEL SERVICE\n",
       "85891    EXPRESS BOARD UP SERVICE, INC.\n",
       "85892                  ARAMARK SMMS LLC\n",
       "85893     GENERAL NUTRITION CORPORATION\n",
       "85894                 JUAN CARLOS ERAZO\n",
       "Name: LEGAL_NAME, Length: 85890, dtype: object"
      ]
     },
     "execution_count": 11,
     "metadata": {},
     "output_type": "execute_result"
    }
   ],
   "source": [
    "df.LEGAL_NAME"
   ]
  },
  {
   "cell_type": "code",
   "execution_count": 12,
   "id": "47b39cb4-8222-4e04-bd2e-a0f60b9ec08b",
   "metadata": {},
   "outputs": [
    {
     "data": {
      "text/plain": [
       "0                 CLAUDIA'S BRIDAL SHOP\n",
       "1                         ISLA TROPICAL\n",
       "2                  DJS REMODELING, INC.\n",
       "3              ALL-BRY CONSTRUCTION CO.\n",
       "4          MCDONOUGH MECHANICAL SERVICE\n",
       "                      ...              \n",
       "85890             UNITED PARCEL SERVICE\n",
       "85891    EXPRESS BOARD UP SERVICE, INC.\n",
       "85892         ARAMARK FACILITY SERVICES\n",
       "85893     GENERAL NUTRITION CENTER # 61\n",
       "85894           CASA DE JUAN RESTAURANT\n",
       "Name: DOING_BUSINESS_AS_NAME, Length: 85890, dtype: object"
      ]
     },
     "execution_count": 12,
     "metadata": {},
     "output_type": "execute_result"
    }
   ],
   "source": [
    "df.DOING_BUSINESS_AS_NAME"
   ]
  },
  {
   "cell_type": "code",
   "execution_count": 13,
   "id": "353ce87d-09f3-4522-88c5-6a5bc454cd65",
   "metadata": {},
   "outputs": [],
   "source": [
    "from difflib import SequenceMatcher\n",
    "\n",
    "# ?SequenceMatcher\n",
    "\n",
    "def similar(a, b):\n",
    "    \"\"\"\n",
    "     Gives out a similarity score b/w two strings b/w [0, 1], \n",
    "     As a rule of thumb, ratio value over 0.6 means the sequences are close matches\n",
    "    \"\"\"\n",
    "    return SequenceMatcher(None, a, b).ratio()"
   ]
  },
  {
   "cell_type": "code",
   "execution_count": 14,
   "id": "c11a099c-4546-4b8a-b020-00867267938b",
   "metadata": {},
   "outputs": [
    {
     "data": {
      "text/plain": [
       "0.30303030303030304"
      ]
     },
     "execution_count": 14,
     "metadata": {},
     "output_type": "execute_result"
    }
   ],
   "source": [
    "similar('CARMEN CAHUE', \"CLAUDIA'S BRIDAL SHOP\")"
   ]
  },
  {
   "cell_type": "code",
   "execution_count": 15,
   "id": "bb91ee63-0f77-4e44-a813-e618e7f22e41",
   "metadata": {},
   "outputs": [
    {
     "data": {
      "text/plain": [
       "0.8125"
      ]
     },
     "execution_count": 15,
     "metadata": {},
     "output_type": "execute_result"
    }
   ],
   "source": [
    "similar(\"ISLA TROPICAL, INC.\", \"ISLA TROPICAL\")"
   ]
  },
  {
   "cell_type": "code",
   "execution_count": 16,
   "id": "f7218f79-8826-4f7d-b967-c65c5b9ff364",
   "metadata": {},
   "outputs": [],
   "source": [
    "# Matching if LEGAL_NAME and DOING_BUSINESS_AS_NAME is similar \n",
    "\n",
    "# df['LEGAL_BUSINESS_NAME_MATCH'] = df.apply(lambda x: 1 if str(x['LEGAL_NAME']).upper() in str(x['DOING_BUSINESS_AS_NAME']).upper()\\\n",
    "#                                                           or str(x['DOING_BUSINESS_AS_NAME']).upper() in str(x['LEGAL_NAME']).upper()\n",
    "#                                                        else 0, axis=1)\n",
    "\n",
    "\n",
    "# Applying similar function, Gives out a similarity score, \n",
    "# As a rule of thumb, ratio value over 0.6 means the sequences are close matches\n",
    "df['LEGAL_BUSINESS_NAME_MATCH'] = df.apply(lambda x: similar(str(x['LEGAL_NAME']).upper(),\n",
    "                                                             str(x['DOING_BUSINESS_AS_NAME']).upper()), \n",
    "                                           axis=1)"
   ]
  },
  {
   "cell_type": "markdown",
   "id": "1b61380f-6420-400c-9365-fc4679c519e9",
   "metadata": {
    "jp-MarkdownHeadingCollapsed": true,
    "tags": []
   },
   "source": [
    "#### 3.2 Combining diff. categories into one in `LICENSE_DESCRIPTION` to shoten the num. of categories \n",
    "* **\n",
    "Reduced from `106` total categories to `46`"
   ]
  },
  {
   "cell_type": "code",
   "execution_count": 17,
   "id": "b3d60c89-cdc3-4a36-a6ff-8a1c9cec144a",
   "metadata": {
    "scrolled": true,
    "tags": []
   },
   "outputs": [
    {
     "data": {
      "text/plain": [
       "Limited Business License                                        50077\n",
       "Home Repair                                                     10632\n",
       "Peddler, non-food                                                2812\n",
       "Home Occupation                                                  2809\n",
       "Retail Food Establishment                                        2320\n",
       "Massage Therapist                                                1952\n",
       "Street Performer                                                 1889\n",
       "Scavenger, Private                                               1549\n",
       "Hazardous Materials                                              1126\n",
       "Residential Real Estate Developer                                1087\n",
       "Motor Vehicle Repair : Engine Only (Class II)                     931\n",
       "Automatic Amusement Device Operator                               773\n",
       "Peddler, food (fruits and vegtables only)                         582\n",
       "Mobile Food Dispenser                                             525\n",
       "Manufacturing Establishments                                      458\n",
       "Broker                                                            439\n",
       "Motor Vehicle Repair: Engine/Body(Class III)                      382\n",
       "Electronic Equipment Repair                                       325\n",
       "Consumption on Premises - Incidental Activity                     321\n",
       "Peddler, non-food, special                                        308\n",
       "Day Care Center 2 - 6 Years                                       298\n",
       "Mobile Frozen Desserts Dispenser - Non-Motorized                  254\n",
       "Motor Vehicle Repair; Specialty(Class I)                          221\n",
       "Repossessor Class B Employee                                      212\n",
       "Package Goods                                                     174\n",
       "Auctioneer                                                        164\n",
       "Tire Facilty Class I (100 - 1,000 Tires)                          160\n",
       "Tavern                                                            151\n",
       "Day Care Center Under 2 and 2 - 6 Years                           133\n",
       "Junk Peddler                                                      132\n",
       "Hotel                                                             130\n",
       "Wholesale Food Establishment                                      127\n",
       "Massage Establishment                                             110\n",
       "Retail Computing Center                                           106\n",
       "Kennels and Catteries                                              96\n",
       "Board-Up Work                                                      92\n",
       "Day Care Center Under 2 Years                                      91\n",
       "Expediter - Class B                                                86\n",
       "Repossessor Class A                                                85\n",
       "Peddler,food - (fruits and vegetables only) - special              80\n",
       "Public Place of Amusement                                          79\n",
       "Children's Activities Facilities                                   78\n",
       "Long-Term Care Facility                                            76\n",
       "Expediter - Class A                                                75\n",
       "Laundry, Late Hour                                                 75\n",
       "Music and Dance                                                    74\n",
       "Tobacco Vending Machine Operator                                   72\n",
       "Grooming Facility                                                  69\n",
       "Navy Pier - Outdoor Fixed                                          62\n",
       "Pet Shop                                                           62\n",
       "Filling Station                                                    61\n",
       "Animal Care Facility                                               61\n",
       "Expediter - Class B Employee                                       60\n",
       "Vacation Rental                                                    54\n",
       "Veterinary Hospital                                                52\n",
       "Body Piercing                                                      52\n",
       "Single Room Occupancy Class I                                      49\n",
       "Raffles                                                            41\n",
       "Late Hour                                                          41\n",
       "Navy Pier Vendor (Non-Food)                                        40\n",
       "Itinerant Merchant, Class I                                        32\n",
       "Tire Facility Class II (1,001 - 5,000 Tires)                       32\n",
       "Outdoor Patio                                                      31\n",
       "Hospital                                                           29\n",
       "Day Labor Agency                                                   26\n",
       "Tobacco Vending, Individual                                        23\n",
       "Animal Exhibition                                                  22\n",
       "Laboratories                                                       22\n",
       "Night Care Privilege                                               21\n",
       "Tobacco Dealer Wholesale                                           18\n",
       "Accessory Garage                                                   17\n",
       "Bed-And-Breakfast Establishment                                    16\n",
       "Retail Food Est.-Supplemental License for Dog-Friendly Areas       15\n",
       "Single Room Occupancy Class II                                     15\n",
       "Itinerant Merchant, Class II                                        9\n",
       "Riverwalk Venue Liquor License                                      9\n",
       "Repossessor Class B                                                 9\n",
       "Explosives, Certificate of Fitness                                  9\n",
       "Caterer's Liquor License                                            8\n",
       "Produce Merchant                                                    8\n",
       "Humane Society                                                      8\n",
       "Public Place of Amusement-TCC                                       7\n",
       "Valet Parking Operator                                              7\n",
       "Secondhand Dealer - Children's Products                             6\n",
       "Wrigley Field                                                       5\n",
       "Pawnbroker                                                          5\n",
       "Bicycle Messenger Service                                           5\n",
       "Secondhand Dealer (No Valuable Objects)                             5\n",
       "Regulated Business License                                          4\n",
       "Weapons Dealer                                                      4\n",
       "Animal Care License                                                 4\n",
       "Assisted Living/Shared Housing Establishment                        4\n",
       "Performing Arts Venue                                               4\n",
       "Tobacco Sampler                                                     3\n",
       "Explosives                                                          2\n",
       "Navy Pier - Mobile                                                  2\n",
       "Private Booting Operation                                           2\n",
       "Tire Facility Class III (5,001 - More Tires)                        2\n",
       "Airport Pushcart Liquor O'Hare - Class A                            1\n",
       "Caterer's Registration (Liquor)                                     1\n",
       "Guard Dog Service                                                   1\n",
       "Indoor Special Event                                                1\n",
       "Affiliation                                                         1\n",
       "Airport Pushcart Liquor Midway - Class A                            1\n",
       "Not-For-Profit Club                                                 1\n",
       "Motor Vehicle Services License                                      1\n",
       "Name: LICENSE_DESCRIPTION, dtype: int64"
      ]
     },
     "execution_count": 17,
     "metadata": {},
     "output_type": "execute_result"
    }
   ],
   "source": [
    "df.LICENSE_DESCRIPTION.value_counts()\n",
    "\n",
    "# Many LICENSE_DESCRIPTION types can be combined into a simgle category"
   ]
  },
  {
   "cell_type": "code",
   "execution_count": 18,
   "id": "b1353bcf-1a1f-4b61-aec2-c59874a55f19",
   "metadata": {
    "scrolled": true,
    "tags": []
   },
   "outputs": [],
   "source": [
    "l1 = list(df.LICENSE_DESCRIPTION.value_counts().index)\n",
    "\n",
    "score = dict()"
   ]
  },
  {
   "cell_type": "code",
   "execution_count": 19,
   "id": "4346f4bc-a44f-40e8-a5af-c65550dd3448",
   "metadata": {},
   "outputs": [],
   "source": [
    "for i in l1:\n",
    "    score[i] = []\n",
    "    for j in l1:\n",
    "        if str(i)!=str(j):\n",
    "            if similar(i, j)>0.7:\n",
    "                score[i].append(j)\n",
    "                l1.remove(j)\n",
    "    if len(score[i])==0:\n",
    "        del score[i]"
   ]
  },
  {
   "cell_type": "code",
   "execution_count": 20,
   "id": "e5a699dd-cdab-4623-98c8-732f21658c41",
   "metadata": {
    "scrolled": true,
    "tags": []
   },
   "outputs": [
    {
     "data": {
      "text/plain": [
       "{'Limited Business License': ['Regulated Business License'],\n",
       " 'Peddler, non-food': ['Peddler, non-food, special'],\n",
       " 'Retail Food Establishment': ['Wholesale Food Establishment'],\n",
       " 'Motor Vehicle Repair : Engine Only (Class II)': ['Motor Vehicle Repair: Engine/Body(Class III)',\n",
       "  'Motor Vehicle Repair; Specialty(Class I)'],\n",
       " 'Peddler, food (fruits and vegtables only)': ['Peddler,food - (fruits and vegetables only) - special'],\n",
       " 'Manufacturing Establishments': ['Massage Establishment'],\n",
       " 'Day Care Center 2 - 6 Years': ['Day Care Center Under 2 and 2 - 6 Years',\n",
       "  'Day Care Center Under 2 Years'],\n",
       " 'Repossessor Class B Employee': ['Repossessor Class A',\n",
       "  'Expediter - Class B Employee',\n",
       "  'Repossessor Class B'],\n",
       " 'Tire Facilty Class I (100 - 1,000 Tires)': ['Tire Facility Class II (1,001 - 5,000 Tires)',\n",
       "  'Tire Facility Class III (5,001 - More Tires)'],\n",
       " 'Expediter - Class B': ['Expediter - Class A'],\n",
       " 'Public Place of Amusement': ['Public Place of Amusement-TCC'],\n",
       " 'Long-Term Care Facility': ['Animal Care Facility'],\n",
       " 'Single Room Occupancy Class I': ['Single Room Occupancy Class II'],\n",
       " 'Itinerant Merchant, Class I': ['Itinerant Merchant, Class II'],\n",
       " \"Airport Pushcart Liquor O'Hare - Class A\": ['Airport Pushcart Liquor Midway - Class A']}"
      ]
     },
     "execution_count": 20,
     "metadata": {},
     "output_type": "execute_result"
    }
   ],
   "source": [
    "score"
   ]
  },
  {
   "cell_type": "code",
   "execution_count": 21,
   "id": "31f71304-93e5-4d77-bb87-99c6afd9a8b4",
   "metadata": {},
   "outputs": [],
   "source": [
    "score['Repossessor Class B Employee'].remove('Expediter - Class B Employee')\n",
    "score['Expediter - Class B'].append('Expediter - Class B Employee')\n",
    "\n",
    "del score['Manufacturing Establishments']\n",
    "\n",
    "score['Massage Establishment'] = ['Massage Therapist']"
   ]
  },
  {
   "cell_type": "code",
   "execution_count": 22,
   "id": "4284e500-c03a-4db1-a85c-fbd96bbe25be",
   "metadata": {},
   "outputs": [
    {
     "data": {
      "text/plain": [
       "(['Repossessor Class A', 'Repossessor Class B'],\n",
       " ['Expediter - Class A', 'Expediter - Class B Employee'])"
      ]
     },
     "execution_count": 22,
     "metadata": {},
     "output_type": "execute_result"
    }
   ],
   "source": [
    "score['Repossessor Class B Employee'], score['Expediter - Class B']"
   ]
  },
  {
   "cell_type": "code",
   "execution_count": 23,
   "id": "89f47ad7-274e-4659-a56c-8e6eeb083fdf",
   "metadata": {
    "scrolled": true,
    "tags": []
   },
   "outputs": [
    {
     "data": {
      "text/plain": [
       "{'Limited Business License': ['Regulated Business License'],\n",
       " 'Peddler, non-food': ['Peddler, non-food, special'],\n",
       " 'Retail Food Establishment': ['Wholesale Food Establishment'],\n",
       " 'Motor Vehicle Repair : Engine Only (Class II)': ['Motor Vehicle Repair: Engine/Body(Class III)',\n",
       "  'Motor Vehicle Repair; Specialty(Class I)'],\n",
       " 'Peddler, food (fruits and vegtables only)': ['Peddler,food - (fruits and vegetables only) - special'],\n",
       " 'Day Care Center 2 - 6 Years': ['Day Care Center Under 2 and 2 - 6 Years',\n",
       "  'Day Care Center Under 2 Years'],\n",
       " 'Repossessor Class B Employee': ['Repossessor Class A',\n",
       "  'Repossessor Class B'],\n",
       " 'Tire Facilty Class I (100 - 1,000 Tires)': ['Tire Facility Class II (1,001 - 5,000 Tires)',\n",
       "  'Tire Facility Class III (5,001 - More Tires)'],\n",
       " 'Expediter - Class B': ['Expediter - Class A',\n",
       "  'Expediter - Class B Employee'],\n",
       " 'Public Place of Amusement': ['Public Place of Amusement-TCC'],\n",
       " 'Long-Term Care Facility': ['Animal Care Facility'],\n",
       " 'Single Room Occupancy Class I': ['Single Room Occupancy Class II'],\n",
       " 'Itinerant Merchant, Class I': ['Itinerant Merchant, Class II'],\n",
       " \"Airport Pushcart Liquor O'Hare - Class A\": ['Airport Pushcart Liquor Midway - Class A'],\n",
       " 'Massage Establishment': ['Massage Therapist']}"
      ]
     },
     "execution_count": 23,
     "metadata": {},
     "output_type": "execute_result"
    }
   ],
   "source": [
    "score"
   ]
  },
  {
   "cell_type": "code",
   "execution_count": 24,
   "id": "a3eb63e3-3a85-4546-a396-3be60644edcb",
   "metadata": {},
   "outputs": [],
   "source": [
    "df['LICENSE_DESCRIPTION'] = df['LICENSE_DESCRIPTION'].replace('Peddler, non-food', 'Peddler')\n",
    "df['LICENSE_DESCRIPTION'] = df['LICENSE_DESCRIPTION'].replace('Peddler, non-food, special', 'Peddler')\n",
    "\n",
    "df['LICENSE_DESCRIPTION'] = df['LICENSE_DESCRIPTION'].replace('Retail Food Establishment', 'Food Establishment')\n",
    "df['LICENSE_DESCRIPTION'] = df['LICENSE_DESCRIPTION'].replace('Wholesale Food Establishment', 'Food Establishment')\n",
    "\n",
    "df['LICENSE_DESCRIPTION'] = df['LICENSE_DESCRIPTION'].replace('Motor Vehicle Repair; Specialty(Class I)', 'Motor Vehicle')\n",
    "df['LICENSE_DESCRIPTION'] = df['LICENSE_DESCRIPTION'].replace('Motor Vehicle Repair : Engine Only (Class II)', 'Motor Vehicle')\n",
    "df['LICENSE_DESCRIPTION'] = df['LICENSE_DESCRIPTION'].replace('Motor Vehicle Repair: Engine/Body(Class III)', 'Motor Vehicle')\n",
    "\n",
    "df['LICENSE_DESCRIPTION'] = df['LICENSE_DESCRIPTION'].replace('Day Care Center Under 2 Years', 'Day Care Center')\n",
    "df['LICENSE_DESCRIPTION'] = df['LICENSE_DESCRIPTION'].replace('Day Care Center 2 - 6 Years', 'Day Care Center')\n",
    "df['LICENSE_DESCRIPTION'] = df['LICENSE_DESCRIPTION'].replace('Day Care Center Under 2 and 2 - 6 Years', 'Day Care Center')\n",
    "\n",
    "df['LICENSE_DESCRIPTION'] = df['LICENSE_DESCRIPTION'].replace('Repossessor Class A', 'Repossessor')\n",
    "df['LICENSE_DESCRIPTION'] = df['LICENSE_DESCRIPTION'].replace('Repossessor Class B', 'Repossessor')\n",
    "df['LICENSE_DESCRIPTION'] = df['LICENSE_DESCRIPTION'].replace('Repossessor Class B Employee', 'Repossessor')\n",
    "\n",
    "df['LICENSE_DESCRIPTION'] = df['LICENSE_DESCRIPTION'].replace('Tire Facilty Class I (100 - 1,000 Tires)', 'Tire Facilty')\n",
    "df['LICENSE_DESCRIPTION'] = df['LICENSE_DESCRIPTION'].replace('Tire Facility Class II (1,001 - 5,000 Tires)', 'Tire Facilty')\n",
    "df['LICENSE_DESCRIPTION'] = df['LICENSE_DESCRIPTION'].replace('Tire Facility Class III (5,001 - More Tires)', 'Tire Facilty')\n",
    "\n",
    "df['LICENSE_DESCRIPTION'] = df['LICENSE_DESCRIPTION'].replace('Expediter - Class A', 'Expediter')\n",
    "df['LICENSE_DESCRIPTION'] = df['LICENSE_DESCRIPTION'].replace('Expediter - Class B', 'Expediter')\n",
    "df['LICENSE_DESCRIPTION'] = df['LICENSE_DESCRIPTION'].replace('Expediter - Class B Employee', 'Expediter')\n",
    "\n",
    "# df['LICENSE_DESCRIPTION'] = df['LICENSE_DESCRIPTION'].replace('Public Place of Amusement')\n",
    "df['LICENSE_DESCRIPTION'] = df['LICENSE_DESCRIPTION'].replace('Public Place of Amusement-TCC', 'Public Place of Amusement')\n",
    "\n",
    "df['LICENSE_DESCRIPTION'] = df['LICENSE_DESCRIPTION'].replace('Long-Term Care Facility', 'Care Facility')\n",
    "df['LICENSE_DESCRIPTION'] = df['LICENSE_DESCRIPTION'].replace('Animal Care Facility', 'Care Facility')\n",
    "\n",
    "df['LICENSE_DESCRIPTION'] = df['LICENSE_DESCRIPTION'].replace('Single Room Occupancy Class I', 'Single Room Occupancy')\n",
    "df['LICENSE_DESCRIPTION'] = df['LICENSE_DESCRIPTION'].replace('Single Room Occupancy Class II', 'Single Room Occupancy')\n",
    "\n",
    "df['LICENSE_DESCRIPTION'] = df['LICENSE_DESCRIPTION'].replace('Itinerant Merchant, Class I', 'Itinerant Merchant')\n",
    "df['LICENSE_DESCRIPTION'] = df['LICENSE_DESCRIPTION'].replace('Itinerant Merchant, Class II', 'Itinerant Merchant')\n",
    "\n",
    "df['LICENSE_DESCRIPTION'] = df['LICENSE_DESCRIPTION'].replace(\"Airport Pushcart Liquor O'Hare - Class A\", \n",
    "                                                              'Airport Pushcart Liquor')\n",
    "df['LICENSE_DESCRIPTION'] = df['LICENSE_DESCRIPTION'].replace('Airport Pushcart Liquor Midway - Class A', \n",
    "                                                              'Airport Pushcart Liquor')\n",
    "\n",
    "df['LICENSE_DESCRIPTION'] = df['LICENSE_DESCRIPTION'].replace('Massage Establishment', 'Massage Services')\n",
    "df['LICENSE_DESCRIPTION'] = df['LICENSE_DESCRIPTION'].replace('Massage Therapist', 'Massage Services')"
   ]
  },
  {
   "cell_type": "code",
   "execution_count": 25,
   "id": "5d76ebe3-98f2-4cf9-9fe5-cf85fed8188a",
   "metadata": {
    "scrolled": true,
    "tags": []
   },
   "outputs": [
    {
     "data": {
      "text/plain": [
       "Limited Business License                                        50077\n",
       "Home Repair                                                     10632\n",
       "Peddler                                                          3120\n",
       "Home Occupation                                                  2809\n",
       "Food Establishment                                               2447\n",
       "Massage Services                                                 2062\n",
       "Street Performer                                                 1889\n",
       "Scavenger, Private                                               1549\n",
       "Motor Vehicle                                                    1534\n",
       "Hazardous Materials                                              1126\n",
       "Residential Real Estate Developer                                1087\n",
       "Automatic Amusement Device Operator                               773\n",
       "Peddler, food (fruits and vegtables only)                         582\n",
       "Mobile Food Dispenser                                             525\n",
       "Day Care Center                                                   522\n",
       "Manufacturing Establishments                                      458\n",
       "Broker                                                            439\n",
       "Electronic Equipment Repair                                       325\n",
       "Consumption on Premises - Incidental Activity                     321\n",
       "Repossessor                                                       306\n",
       "Mobile Frozen Desserts Dispenser - Non-Motorized                  254\n",
       "Expediter                                                         221\n",
       "Tire Facilty                                                      194\n",
       "Package Goods                                                     174\n",
       "Auctioneer                                                        164\n",
       "Tavern                                                            151\n",
       "Care Facility                                                     137\n",
       "Junk Peddler                                                      132\n",
       "Hotel                                                             130\n",
       "Retail Computing Center                                           106\n",
       "Kennels and Catteries                                              96\n",
       "Board-Up Work                                                      92\n",
       "Public Place of Amusement                                          86\n",
       "Peddler,food - (fruits and vegetables only) - special              80\n",
       "Children's Activities Facilities                                   78\n",
       "Laundry, Late Hour                                                 75\n",
       "Music and Dance                                                    74\n",
       "Tobacco Vending Machine Operator                                   72\n",
       "Grooming Facility                                                  69\n",
       "Single Room Occupancy                                              64\n",
       "Pet Shop                                                           62\n",
       "Navy Pier - Outdoor Fixed                                          62\n",
       "Filling Station                                                    61\n",
       "Vacation Rental                                                    54\n",
       "Veterinary Hospital                                                52\n",
       "Body Piercing                                                      52\n",
       "Itinerant Merchant                                                 41\n",
       "Late Hour                                                          41\n",
       "Raffles                                                            41\n",
       "Navy Pier Vendor (Non-Food)                                        40\n",
       "Outdoor Patio                                                      31\n",
       "Hospital                                                           29\n",
       "Day Labor Agency                                                   26\n",
       "Tobacco Vending, Individual                                        23\n",
       "Laboratories                                                       22\n",
       "Animal Exhibition                                                  22\n",
       "Night Care Privilege                                               21\n",
       "Tobacco Dealer Wholesale                                           18\n",
       "Accessory Garage                                                   17\n",
       "Bed-And-Breakfast Establishment                                    16\n",
       "Retail Food Est.-Supplemental License for Dog-Friendly Areas       15\n",
       "Explosives, Certificate of Fitness                                  9\n",
       "Riverwalk Venue Liquor License                                      9\n",
       "Caterer's Liquor License                                            8\n",
       "Produce Merchant                                                    8\n",
       "Humane Society                                                      8\n",
       "Valet Parking Operator                                              7\n",
       "Secondhand Dealer - Children's Products                             6\n",
       "Pawnbroker                                                          5\n",
       "Wrigley Field                                                       5\n",
       "Bicycle Messenger Service                                           5\n",
       "Secondhand Dealer (No Valuable Objects)                             5\n",
       "Animal Care License                                                 4\n",
       "Regulated Business License                                          4\n",
       "Weapons Dealer                                                      4\n",
       "Performing Arts Venue                                               4\n",
       "Assisted Living/Shared Housing Establishment                        4\n",
       "Tobacco Sampler                                                     3\n",
       "Explosives                                                          2\n",
       "Airport Pushcart Liquor                                             2\n",
       "Navy Pier - Mobile                                                  2\n",
       "Private Booting Operation                                           2\n",
       "Caterer's Registration (Liquor)                                     1\n",
       "Indoor Special Event                                                1\n",
       "Guard Dog Service                                                   1\n",
       "Affiliation                                                         1\n",
       "Not-For-Profit Club                                                 1\n",
       "Motor Vehicle Services License                                      1\n",
       "Name: LICENSE_DESCRIPTION, dtype: int64"
      ]
     },
     "execution_count": 25,
     "metadata": {},
     "output_type": "execute_result"
    }
   ],
   "source": [
    "# We reduced the unique values from 106 to 88\n",
    "df.LICENSE_DESCRIPTION.value_counts()"
   ]
  },
  {
   "cell_type": "code",
   "execution_count": 26,
   "id": "b3e77b19-dbfd-45a1-96af-89a1b5381dda",
   "metadata": {},
   "outputs": [],
   "source": [
    "df['LICENSE_DESCRIPTION'] = df['LICENSE_DESCRIPTION'].replace('Mobile Food Dispenser','Food Dispenser')\n",
    "df['LICENSE_DESCRIPTION'] = df['LICENSE_DESCRIPTION'].replace('Mobile Frozen Desserts Dispenser - Non-Motorized','Food Dispenser')\n",
    "\n",
    "df['LICENSE_DESCRIPTION'] = df['LICENSE_DESCRIPTION'].replace('Junk Peddler', 'Peddler')\n",
    "df['LICENSE_DESCRIPTION'] = df['LICENSE_DESCRIPTION'].replace('Peddler,food - (fruits and vegetables only) - special', 'Peddler')\n",
    "df['LICENSE_DESCRIPTION'] = df['LICENSE_DESCRIPTION'].replace(\"Peddler, food (fruits and vegtables only)\", 'Peddler')\n",
    "\n",
    "df['LICENSE_DESCRIPTION'] = df['LICENSE_DESCRIPTION'].replace('Tobacco Vending Machine Operator', 'Tobacco')\n",
    "df['LICENSE_DESCRIPTION'] = df['LICENSE_DESCRIPTION'].replace('Tobacco Dealer Wholesale', 'Tobacco')\n",
    "df['LICENSE_DESCRIPTION'] = df['LICENSE_DESCRIPTION'].replace('Tobacco Vending, Individual', 'Tobacco')\n",
    "df['LICENSE_DESCRIPTION'] = df['LICENSE_DESCRIPTION'].replace(\"Tobacco Sampler\", 'Tobacco')\n",
    "\n",
    "df['LICENSE_DESCRIPTION'] = df['LICENSE_DESCRIPTION'].replace('Motor Vehicle Services License', 'Motor Vehicle')\n",
    "df['LICENSE_DESCRIPTION'] = df['LICENSE_DESCRIPTION'].replace('Kennels and Catteries', 'Pet Shop')\n",
    "df['LICENSE_DESCRIPTION'] = df['LICENSE_DESCRIPTION'].replace('Retail Food Est.-Supplemental License for Dog-Friendly Areas', 'Food Establishment')\n",
    "\n",
    "df['LICENSE_DESCRIPTION'] = df['LICENSE_DESCRIPTION'].replace('Riverwalk Venue Liquor License', 'Liquor License')\n",
    "df['LICENSE_DESCRIPTION'] = df['LICENSE_DESCRIPTION'].replace(\"Caterer's Liquor License\", 'Liquor License')\n",
    "df['LICENSE_DESCRIPTION'] = df['LICENSE_DESCRIPTION'].replace(\"Caterer's Registration (Liquor)\",\"Liquor License\")\n",
    "df['LICENSE_DESCRIPTION'] = df['LICENSE_DESCRIPTION'].replace(\"Airport Pushcart Liquor\", \"Liquor License\")\n",
    "df['LICENSE_DESCRIPTION'] = df['LICENSE_DESCRIPTION'].replace(\"Consumption on Premises - Incidental Activity\", 'Liquor License')\n",
    "df['LICENSE_DESCRIPTION'] = df['LICENSE_DESCRIPTION'].replace(\"Tavern\", \"Liquor License\")\n",
    "\n",
    "df['LICENSE_DESCRIPTION'] = df['LICENSE_DESCRIPTION'].replace(\"Secondhand Dealer - Children's Products\", \"Secondhand Dealer\")\n",
    "df['LICENSE_DESCRIPTION'] = df['LICENSE_DESCRIPTION'].replace(\"Secondhand Dealer (No Valuable Objects)\", \"Secondhand Dealer\")\n",
    "\n",
    "df['LICENSE_DESCRIPTION'] = df['LICENSE_DESCRIPTION'].replace(\"Navy Pier - Mobile\", \"Navy Pier Vendor\")\n",
    "df['LICENSE_DESCRIPTION'] = df['LICENSE_DESCRIPTION'].replace(\"Navy Pier Vendor (Non-Food)\", \"Navy Pier Vendor\")\n",
    "df['LICENSE_DESCRIPTION'] = df['LICENSE_DESCRIPTION'].replace(\"Navy Pier - Outdoor Fixed\", \"Navy Pier Vendor\")\n",
    "\n",
    "df['LICENSE_DESCRIPTION'] = df['LICENSE_DESCRIPTION'].replace(\"Explosives\", \"Weapons Dealer\")\n",
    "\n",
    "df['LICENSE_DESCRIPTION'] = df['LICENSE_DESCRIPTION'].replace(\"Laundry, Late Hour\", \"Late Hour\")\n",
    "\n",
    "df['LICENSE_DESCRIPTION'] = df['LICENSE_DESCRIPTION'].replace(\"Pawnbroker\", 'Broker')\n",
    "\n",
    "df['LICENSE_DESCRIPTION'] = df['LICENSE_DESCRIPTION'].replace(\"Single Room Occupancy\", \"Hotel\")\n",
    "df['LICENSE_DESCRIPTION'] = df['LICENSE_DESCRIPTION'].replace(\"Raffles\", 'Hotel')\n",
    "df['LICENSE_DESCRIPTION'] = df['LICENSE_DESCRIPTION'].replace(\"Bed-And-Breakfast Establishment\", 'Hotel')\n",
    "df['LICENSE_DESCRIPTION'] = df['LICENSE_DESCRIPTION'].replace(\"Assisted Living/Shared Housing Establishment\", \"Hotel\")\n",
    "df['LICENSE_DESCRIPTION'] = df['LICENSE_DESCRIPTION'].replace(\"Vacation Rental\", \"Hotel\")\n",
    "\n",
    "df['LICENSE_DESCRIPTION'] = df['LICENSE_DESCRIPTION'].replace(\"Veterinary Hospital\", \"Hospital\")\n",
    "\n",
    "df['LICENSE_DESCRIPTION'] = df['LICENSE_DESCRIPTION'].replace(\"Outdoor Patio\")\n",
    "\n",
    "df['LICENSE_DESCRIPTION'] = df['LICENSE_DESCRIPTION'].replace(\"Board-Up Work\", \"Regulated Business License\")\n",
    "\n",
    "\n",
    "# df['LICENSE_DESCRIPTION'] = df['LICENSE_DESCRIPTION'].replace()\n",
    "# df['LICENSE_DESCRIPTION'] = df['LICENSE_DESCRIPTION'].replace()"
   ]
  },
  {
   "cell_type": "code",
   "execution_count": 27,
   "id": "1c123975-2f59-4d00-8acb-d336fe59dcb6",
   "metadata": {},
   "outputs": [
    {
     "data": {
      "text/plain": [
       "59"
      ]
     },
     "execution_count": 27,
     "metadata": {},
     "output_type": "execute_result"
    }
   ],
   "source": [
    "# We reduced the unique values from 88 to 59\n",
    "df.LICENSE_DESCRIPTION.nunique()"
   ]
  },
  {
   "cell_type": "code",
   "execution_count": 28,
   "id": "d639336c-3ae6-495a-bdca-72eea4848507",
   "metadata": {
    "scrolled": true,
    "tags": []
   },
   "outputs": [
    {
     "data": {
      "text/plain": [
       "Limited Business License               50095\n",
       "Home Repair                            10639\n",
       "Peddler                                 3914\n",
       "Home Occupation                         2811\n",
       "Food Establishment                      2463\n",
       "Massage Services                        2062\n",
       "Street Performer                        1889\n",
       "Scavenger, Private                      1551\n",
       "Motor Vehicle                           1535\n",
       "Hazardous Materials                     1126\n",
       "Residential Real Estate Developer       1087\n",
       "Food Dispenser                           779\n",
       "Automatic Amusement Device Operator      773\n",
       "Day Care Center                          522\n",
       "Liquor License                           493\n",
       "Manufacturing Establishments             458\n",
       "Broker                                   444\n",
       "Electronic Equipment Repair              325\n",
       "Hotel                                    309\n",
       "Repossessor                              306\n",
       "Expediter                                221\n",
       "Tire Facilty                             194\n",
       "Package Goods                            174\n",
       "Auctioneer                               164\n",
       "Pet Shop                                 158\n",
       "Care Facility                            137\n",
       "Tobacco                                  116\n",
       "Late Hour                                116\n",
       "Retail Computing Center                  106\n",
       "Navy Pier Vendor                         104\n",
       "Regulated Business License                96\n",
       "Public Place of Amusement                 86\n",
       "Hospital                                  81\n",
       "Children's Activities Facilities          78\n",
       "Music and Dance                           74\n",
       "Grooming Facility                         69\n",
       "Filling Station                           61\n",
       "Body Piercing                             52\n",
       "Itinerant Merchant                        41\n",
       "Day Labor Agency                          26\n",
       "Animal Exhibition                         22\n",
       "Laboratories                              22\n",
       "Night Care Privilege                      21\n",
       "Accessory Garage                          17\n",
       "Secondhand Dealer                         11\n",
       "Explosives, Certificate of Fitness         9\n",
       "Humane Society                             8\n",
       "Produce Merchant                           8\n",
       "Valet Parking Operator                     7\n",
       "Weapons Dealer                             6\n",
       "Wrigley Field                              5\n",
       "Bicycle Messenger Service                  5\n",
       "Performing Arts Venue                      4\n",
       "Animal Care License                        4\n",
       "Private Booting Operation                  2\n",
       "Affiliation                                1\n",
       "Guard Dog Service                          1\n",
       "Indoor Special Event                       1\n",
       "Not-For-Profit Club                        1\n",
       "Name: LICENSE_DESCRIPTION, dtype: int64"
      ]
     },
     "execution_count": 28,
     "metadata": {},
     "output_type": "execute_result"
    }
   ],
   "source": [
    "df.LICENSE_DESCRIPTION.value_counts()"
   ]
  },
  {
   "cell_type": "code",
   "execution_count": 29,
   "id": "e8315132-1cc5-4c0b-a64a-d3832ab0c28e",
   "metadata": {},
   "outputs": [],
   "source": [
    "# df[df['LICENSE_DESCRIPTION']=='Explosives, Certificate of Fitness'] \n",
    "# These are for fire department people "
   ]
  },
  {
   "cell_type": "code",
   "execution_count": 30,
   "id": "50d89e76-9eaa-47f6-adf2-babbae39c117",
   "metadata": {},
   "outputs": [
    {
     "data": {
      "text/plain": [
       "Index(['Explosives, Certificate of Fitness', 'Humane Society',\n",
       "       'Produce Merchant', 'Valet Parking Operator', 'Weapons Dealer',\n",
       "       'Wrigley Field', 'Bicycle Messenger Service', 'Performing Arts Venue',\n",
       "       'Animal Care License', 'Private Booting Operation', 'Affiliation',\n",
       "       'Guard Dog Service', 'Indoor Special Event', 'Not-For-Profit Club'],\n",
       "      dtype='object')"
      ]
     },
     "execution_count": 30,
     "metadata": {},
     "output_type": "execute_result"
    }
   ],
   "source": [
    "df.LICENSE_DESCRIPTION.value_counts()[df.LICENSE_DESCRIPTION.value_counts()<10].index"
   ]
  },
  {
   "cell_type": "code",
   "execution_count": 31,
   "id": "6c8db925-5377-4db6-9e32-5ca3d0dba85d",
   "metadata": {
    "scrolled": true,
    "tags": []
   },
   "outputs": [],
   "source": [
    "# Combining categories with less records into one as \"Others\"\n",
    "\n",
    "for i in df.LICENSE_DESCRIPTION.value_counts()[df.LICENSE_DESCRIPTION.value_counts()<10].index:\n",
    "    df['LICENSE_DESCRIPTION'] = df['LICENSE_DESCRIPTION'].replace(i, \"Others\")"
   ]
  },
  {
   "cell_type": "code",
   "execution_count": 32,
   "id": "f9df5427-6b3d-4bf5-8655-1ec997875fb2",
   "metadata": {
    "scrolled": true,
    "tags": []
   },
   "outputs": [
    {
     "data": {
      "text/plain": [
       "Limited Business License               50095\n",
       "Home Repair                            10639\n",
       "Peddler                                 3914\n",
       "Home Occupation                         2811\n",
       "Food Establishment                      2463\n",
       "Massage Services                        2062\n",
       "Street Performer                        1889\n",
       "Scavenger, Private                      1551\n",
       "Motor Vehicle                           1535\n",
       "Hazardous Materials                     1126\n",
       "Residential Real Estate Developer       1087\n",
       "Food Dispenser                           779\n",
       "Automatic Amusement Device Operator      773\n",
       "Day Care Center                          522\n",
       "Liquor License                           493\n",
       "Manufacturing Establishments             458\n",
       "Broker                                   444\n",
       "Electronic Equipment Repair              325\n",
       "Hotel                                    309\n",
       "Repossessor                              306\n",
       "Expediter                                221\n",
       "Tire Facilty                             194\n",
       "Package Goods                            174\n",
       "Auctioneer                               164\n",
       "Pet Shop                                 158\n",
       "Care Facility                            137\n",
       "Tobacco                                  116\n",
       "Late Hour                                116\n",
       "Retail Computing Center                  106\n",
       "Navy Pier Vendor                         104\n",
       "Regulated Business License                96\n",
       "Public Place of Amusement                 86\n",
       "Hospital                                  81\n",
       "Children's Activities Facilities          78\n",
       "Music and Dance                           74\n",
       "Grooming Facility                         69\n",
       "Others                                    62\n",
       "Filling Station                           61\n",
       "Body Piercing                             52\n",
       "Itinerant Merchant                        41\n",
       "Day Labor Agency                          26\n",
       "Laboratories                              22\n",
       "Animal Exhibition                         22\n",
       "Night Care Privilege                      21\n",
       "Accessory Garage                          17\n",
       "Secondhand Dealer                         11\n",
       "Name: LICENSE_DESCRIPTION, dtype: int64"
      ]
     },
     "execution_count": 32,
     "metadata": {},
     "output_type": "execute_result"
    }
   ],
   "source": [
    "df.LICENSE_DESCRIPTION.value_counts()"
   ]
  },
  {
   "cell_type": "code",
   "execution_count": 33,
   "id": "edfd60dd-98c0-4e92-8323-9456b5566ca5",
   "metadata": {
    "scrolled": true,
    "tags": []
   },
   "outputs": [
    {
     "data": {
      "text/plain": [
       "46"
      ]
     },
     "execution_count": 33,
     "metadata": {},
     "output_type": "execute_result"
    }
   ],
   "source": [
    "# df.LICENSE_DESCRIPTION.value_counts()\n",
    "\n",
    "# We reduced the unique values from 59 to 46\n",
    "df.LICENSE_DESCRIPTION.nunique()"
   ]
  },
  {
   "cell_type": "markdown",
   "id": "e2d32a05-b243-4e41-9541-f80700e4cd1f",
   "metadata": {
    "jp-MarkdownHeadingCollapsed": true,
    "tags": []
   },
   "source": [
    "#### 3.3 Analyzing `LEGAL_NAME` and `DOING_BUSINESS_AS_NAME` features\n",
    "* **\n",
    "To Derive `BUSINESS_TYPE` feature: [INC,PVT,LLC,CORP,LTD]"
   ]
  },
  {
   "cell_type": "code",
   "execution_count": 34,
   "id": "08a137cb-a32b-4c2d-9a0f-97d6175a85b2",
   "metadata": {
    "scrolled": true,
    "tags": []
   },
   "outputs": [
    {
     "data": {
      "text/plain": [
       "0                          CARMEN CAHUE\n",
       "1                   ISLA TROPICAL, INC.\n",
       "2                        DJS REMODELING\n",
       "3              ALL-BRY CONSTRUCTION CO.\n",
       "4          MCDONOUGH MECHANICAL SERVICE\n",
       "                      ...              \n",
       "85890             UNITED PARCEL SERVICE\n",
       "85891    EXPRESS BOARD UP SERVICE, INC.\n",
       "85892                  ARAMARK SMMS LLC\n",
       "85893     GENERAL NUTRITION CORPORATION\n",
       "85894                 JUAN CARLOS ERAZO\n",
       "Name: LEGAL_NAME, Length: 85890, dtype: object"
      ]
     },
     "execution_count": 34,
     "metadata": {},
     "output_type": "execute_result"
    }
   ],
   "source": [
    "# pd.set_option('display.max_rows', 5000)\n",
    "df['LEGAL_NAME']"
   ]
  },
  {
   "cell_type": "code",
   "execution_count": 35,
   "id": "eac02a9b-ad2c-4fe1-a667-ce843b0bdd23",
   "metadata": {},
   "outputs": [
    {
     "data": {
      "text/plain": [
       "0                 CLAUDIA'S BRIDAL SHOP\n",
       "1                         ISLA TROPICAL\n",
       "2                  DJS REMODELING, INC.\n",
       "3              ALL-BRY CONSTRUCTION CO.\n",
       "4          MCDONOUGH MECHANICAL SERVICE\n",
       "                      ...              \n",
       "85890             UNITED PARCEL SERVICE\n",
       "85891    EXPRESS BOARD UP SERVICE, INC.\n",
       "85892         ARAMARK FACILITY SERVICES\n",
       "85893     GENERAL NUTRITION CENTER # 61\n",
       "85894           CASA DE JUAN RESTAURANT\n",
       "Name: DOING_BUSINESS_AS_NAME, Length: 85890, dtype: object"
      ]
     },
     "execution_count": 35,
     "metadata": {},
     "output_type": "execute_result"
    }
   ],
   "source": [
    "df.DOING_BUSINESS_AS_NAME"
   ]
  },
  {
   "cell_type": "code",
   "execution_count": 36,
   "id": "19de1d3b-6d9b-4ecd-a012-c661cdaa8b9d",
   "metadata": {},
   "outputs": [
    {
     "name": "stderr",
     "output_type": "stream",
     "text": [
      "C:\\Users\\Amit Vikram Raj\\AppData\\Local\\Temp\\ipykernel_1376\\4115818743.py:15: UserWarning: This pattern is interpreted as a regular expression, and has match groups. To actually get the groups, use str.extract.\n",
      "  df['BUSINESS_TYPE'] = np.where(df['LEGAL_NAME'].str.contains(co_pattern,regex=True,flags=re.IGNORECASE),\n",
      "C:\\Users\\Amit Vikram Raj\\AppData\\Local\\Temp\\ipykernel_1376\\4115818743.py:19: UserWarning: This pattern is interpreted as a regular expression, and has match groups. To actually get the groups, use str.extract.\n",
      "  df['BUSINESS_TYPE'] = np.where(df['LEGAL_NAME'].str.contains(ltd_pattern,regex=True,flags=re.IGNORECASE),\n"
     ]
    }
   ],
   "source": [
    "import re\n",
    "\n",
    "# Creating a BUSINESS_TYPE feature using LEGAL_NAME/DOING_BUSINESS_AS_NAME\n",
    "\n",
    "# Removing dots from business names : INC. --> INC or CO. ---> CO\n",
    "df['LEGAL_NAME'] = df['LEGAL_NAME'].str.replace('.', '', regex=False)\n",
    "df['DOING_BUSINESS_AS_NAME'] = df['DOING_BUSINESS_AS_NAME'].str.replace('.', '', regex=False)\n",
    "\n",
    "df['BUSINESS_TYPE'] = 'PVT'  # default value 'PVT' and we will change it accordingly\n",
    "\n",
    "df['BUSINESS_TYPE'] = np.where(df['LEGAL_NAME'].str.contains('LLC|L.L.C',flags=re.IGNORECASE,regex=True),\n",
    "                               'LLC', df['BUSINESS_TYPE'])\n",
    "\n",
    "co_pattern = \"^(?!.*\\\\b(INC|LLC|LIMITED)\\\\b)(?=.*\\\\b(CO|CORP|CORPORATION)\\\\b).+$\"\n",
    "df['BUSINESS_TYPE'] = np.where(df['LEGAL_NAME'].str.contains(co_pattern,regex=True,flags=re.IGNORECASE),\n",
    "                               'CORP', df['BUSINESS_TYPE'])\n",
    "\n",
    "ltd_pattern = \"^(?!.*\\\\b(INC|LLC)\\\\b)(?=.*\\\\b(LTD|LIMITED)\\\\b).+$\"\n",
    "df['BUSINESS_TYPE'] = np.where(df['LEGAL_NAME'].str.contains(ltd_pattern,regex=True,flags=re.IGNORECASE),\n",
    "                               'LTD', df['BUSINESS_TYPE'])\n",
    "\n",
    "df['BUSINESS_TYPE'] = np.where(df['LEGAL_NAME'].str.contains(\"INC|INCORPORATED\",flags=re.IGNORECASE,regex=True),\n",
    "                               'INC', df['BUSINESS_TYPE'])"
   ]
  },
  {
   "cell_type": "code",
   "execution_count": 37,
   "id": "3915b959-8916-42f5-9e6a-ea01fa6e4d05",
   "metadata": {},
   "outputs": [
    {
     "data": {
      "text/plain": [
       "INC     37352\n",
       "PVT     34524\n",
       "LLC      6316\n",
       "CORP     6261\n",
       "LTD      1437\n",
       "Name: BUSINESS_TYPE, dtype: int64"
      ]
     },
     "execution_count": 37,
     "metadata": {},
     "output_type": "execute_result"
    }
   ],
   "source": [
    "df.BUSINESS_TYPE.value_counts()"
   ]
  },
  {
   "cell_type": "code",
   "execution_count": 38,
   "id": "2c1cc5b2-ff24-4006-aa27-a78b6e380bab",
   "metadata": {},
   "outputs": [
    {
     "data": {
      "image/png": "[encoded data removed]",
      "text/plain": [
       "<Figure size 640x480 with 1 Axes>"
      ]
     },
     "metadata": {},
     "output_type": "display_data"
    }
   ],
   "source": [
    "sns.countplot(data=df, x='BUSINESS_TYPE');"
   ]
  },
  {
   "cell_type": "markdown",
   "id": "0e925c3e-4daa-443f-85a7-91e988172cd7",
   "metadata": {
    "jp-MarkdownHeadingCollapsed": true,
    "tags": []
   },
   "source": [
    "#### 3.4 Analyzing ['ZIP_CODE', 'APPLICATION_TYPE', 'SSA']\n",
    "* **\n",
    "New Feature derived: **'IS_ZIP_CODE_PRESENT'**"
   ]
  },
  {
   "cell_type": "code",
   "execution_count": 39,
   "id": "38e4026e-5bf8-4faa-9a77-ecc628ab6427",
   "metadata": {},
   "outputs": [
    {
     "data": {
      "text/plain": [
       "Index(['ID', 'LICENSE_ID', 'ACCOUNT_NUMBER', 'SITE_NUMBER', 'LEGAL_NAME',\n",
       "       'DOING_BUSINESS_AS_NAME', 'ADDRESS', 'CITY', 'STATE', 'ZIP_CODE',\n",
       "       'WARD', 'PRECINCT', 'WARD_PRECINCT', 'POLICE_DISTRICT', 'LICENSE_CODE',\n",
       "       'LICENSE_DESCRIPTION', 'LICENSE_NUMBER', 'APPLICATION_TYPE',\n",
       "       'APPLICATION_CREATED_DATE', 'APPLICATION_REQUIREMENTS_COMPLETE',\n",
       "       'PAYMENT_DATE', 'CONDITIONAL_APPROVAL', 'LICENSE_TERM_START_DATE',\n",
       "       'LICENSE_TERM_EXPIRATION_DATE', 'LICENSE_APPROVED_FOR_ISSUANCE',\n",
       "       'DATE_ISSUED', 'LICENSE_STATUS_CHANGE_DATE', 'SSA', 'LATITUDE',\n",
       "       'LONGITUDE', 'LOCATION', 'LICENSE_STATUS', 'LEGAL_BUSINESS_NAME_MATCH',\n",
       "       'BUSINESS_TYPE'],\n",
       "      dtype='object')"
      ]
     },
     "execution_count": 39,
     "metadata": {},
     "output_type": "execute_result"
    }
   ],
   "source": [
    "df.columns"
   ]
  },
  {
   "cell_type": "code",
   "execution_count": 40,
   "id": "3a4607e5-8875-49f8-85a9-0dbd86472b18",
   "metadata": {
    "scrolled": true,
    "tags": []
   },
   "outputs": [
    {
     "data": {
      "text/plain": [
       "(1223, 0)"
      ]
     },
     "execution_count": 40,
     "metadata": {},
     "output_type": "execute_result"
    }
   ],
   "source": [
    "df.CITY.nunique(), df.CITY.isna().sum()"
   ]
  },
  {
   "cell_type": "code",
   "execution_count": 41,
   "id": "327552c0-0388-4414-a11c-987a2e7d3491",
   "metadata": {},
   "outputs": [
    {
     "data": {
      "text/plain": [
       "(54, 0)"
      ]
     },
     "execution_count": 41,
     "metadata": {},
     "output_type": "execute_result"
    }
   ],
   "source": [
    "df.STATE.nunique(), df.STATE.isna().sum()"
   ]
  },
  {
   "cell_type": "code",
   "execution_count": 42,
   "id": "f7a3b923-8451-4917-98ca-8a1fb64620f7",
   "metadata": {},
   "outputs": [
    {
     "data": {
      "text/plain": [
       "(2456, 31)"
      ]
     },
     "execution_count": 42,
     "metadata": {},
     "output_type": "execute_result"
    }
   ],
   "source": [
    "df.ZIP_CODE.nunique(), df.ZIP_CODE.isna().sum()"
   ]
  },
  {
   "cell_type": "code",
   "execution_count": 43,
   "id": "ece9c5a4-023a-45a0-89e6-e0fd1cf91cc8",
   "metadata": {},
   "outputs": [],
   "source": [
    "def convert_zipcodes_to_int(x):\n",
    "    x = str(x)\n",
    "    if x.endswith('.0'):\n",
    "        return int(x.split('.')[0])\n",
    "    if x.isnumeric():\n",
    "        return int(x)\n",
    "    if x=='-1':\n",
    "        return -1\n",
    "    \n",
    "    return -1"
   ]
  },
  {
   "cell_type": "code",
   "execution_count": 44,
   "id": "05de93f0-4ec9-4700-8155-ef366d469bc9",
   "metadata": {
    "scrolled": true,
    "tags": []
   },
   "outputs": [],
   "source": [
    "# df.ZIP_CODE.value_counts()\n",
    "df['ZIP_CODE'].fillna(-1, inplace=True)\n",
    "\n",
    "# Some Zip Codes have string values in them, we'll be replacing them with -1\n",
    "df['ZIP_CODE'] = df['ZIP_CODE'].apply(lambda x: convert_zipcodes_to_int(x))\n",
    "\n",
    "df['IS_ZIP_CODE_PRESENT'] = df.apply(lambda x: 1 if x['ZIP_CODE']!=-1 else 0, axis=1)"
   ]
  },
  {
   "cell_type": "code",
   "execution_count": 45,
   "id": "c5f32c81-1e92-4462-b7ea-9683b164ed15",
   "metadata": {},
   "outputs": [
    {
     "data": {
      "text/plain": [
       "1    85837\n",
       "0       53\n",
       "Name: IS_ZIP_CODE_PRESENT, dtype: int64"
      ]
     },
     "execution_count": 45,
     "metadata": {},
     "output_type": "execute_result"
    }
   ],
   "source": [
    "df['IS_ZIP_CODE_PRESENT'].value_counts()"
   ]
  },
  {
   "cell_type": "code",
   "execution_count": 46,
   "id": "8e658528-ed3e-4e33-8d81-1ef462f1a013",
   "metadata": {},
   "outputs": [],
   "source": [
    "# 'WARD', 'PRECINCT', 'WARD_PRECINCT', 'POLICE_DISTRICT', 'LICENSE_CODE', --> Not so Useful\n",
    "\n",
    "# df.LICENSE_NUMBER"
   ]
  },
  {
   "cell_type": "code",
   "execution_count": 47,
   "id": "1ac9c37f-85d8-4e88-a666-6dfe607b73e0",
   "metadata": {},
   "outputs": [
    {
     "data": {
      "text/plain": [
       "Index(['ID', 'LICENSE_ID', 'ACCOUNT_NUMBER', 'SITE_NUMBER', 'LEGAL_NAME',\n",
       "       'DOING_BUSINESS_AS_NAME', 'ADDRESS', 'CITY', 'STATE', 'ZIP_CODE',\n",
       "       'WARD', 'PRECINCT', 'WARD_PRECINCT', 'POLICE_DISTRICT', 'LICENSE_CODE',\n",
       "       'LICENSE_DESCRIPTION', 'LICENSE_NUMBER', 'APPLICATION_TYPE',\n",
       "       'APPLICATION_CREATED_DATE', 'APPLICATION_REQUIREMENTS_COMPLETE',\n",
       "       'PAYMENT_DATE', 'CONDITIONAL_APPROVAL', 'LICENSE_TERM_START_DATE',\n",
       "       'LICENSE_TERM_EXPIRATION_DATE', 'LICENSE_APPROVED_FOR_ISSUANCE',\n",
       "       'DATE_ISSUED', 'LICENSE_STATUS_CHANGE_DATE', 'SSA', 'LATITUDE',\n",
       "       'LONGITUDE', 'LOCATION', 'LICENSE_STATUS', 'LEGAL_BUSINESS_NAME_MATCH',\n",
       "       'BUSINESS_TYPE', 'IS_ZIP_CODE_PRESENT'],\n",
       "      dtype='object')"
      ]
     },
     "execution_count": 47,
     "metadata": {},
     "output_type": "execute_result"
    }
   ],
   "source": [
    "df.columns"
   ]
  },
  {
   "cell_type": "code",
   "execution_count": 48,
   "id": "1d7a1ad2-db3b-4b20-a3c1-dc33a457adf5",
   "metadata": {},
   "outputs": [
    {
     "data": {
      "text/plain": [
       "RENEW     61082\n",
       "ISSUE     23396\n",
       "C_LOC      1400\n",
       "C_CAPA        7\n",
       "C_EXPA        5\n",
       "Name: APPLICATION_TYPE, dtype: int64"
      ]
     },
     "execution_count": 48,
     "metadata": {},
     "output_type": "execute_result"
    }
   ],
   "source": [
    "# df.nunique()\n",
    "df.APPLICATION_TYPE.value_counts()"
   ]
  },
  {
   "cell_type": "code",
   "execution_count": 49,
   "id": "c4014855-74cc-4975-a5e7-1ed6c5289ff5",
   "metadata": {},
   "outputs": [
    {
     "data": {
      "text/plain": [
       "0"
      ]
     },
     "execution_count": 49,
     "metadata": {},
     "output_type": "execute_result"
    }
   ],
   "source": [
    "df.APPLICATION_TYPE.value_counts().isna().sum()"
   ]
  },
  {
   "cell_type": "code",
   "execution_count": 50,
   "id": "ed4bf40f-ed48-4681-964e-353b79e5556c",
   "metadata": {
    "scrolled": true,
    "tags": []
   },
   "outputs": [
    {
     "data": {
      "text/plain": [
       "(53, dtype('float64'), 76442)"
      ]
     },
     "execution_count": 50,
     "metadata": {},
     "output_type": "execute_result"
    }
   ],
   "source": [
    "# df.nunique()\n",
    "# df.SSA.value_counts(dropna=False)\n",
    "df.SSA.nunique(), df.SSA.dtypes, df.SSA.isna().sum()"
   ]
  },
  {
   "cell_type": "code",
   "execution_count": 51,
   "id": "dbb14f18-31c4-4f3f-80fb-a5534b2ccec7",
   "metadata": {},
   "outputs": [
    {
     "data": {
      "image/png": "[encoded data removed]",
      "text/plain": [
       "<Figure size 640x480 with 1 Axes>"
      ]
     },
     "metadata": {},
     "output_type": "display_data"
    }
   ],
   "source": [
    "# df[['SSA']].plot.hist(bins=12, alpha=0.8);\n",
    "sns.histplot(data=df, x='SSA', bins=12, alpha=0.8);"
   ]
  },
  {
   "cell_type": "code",
   "execution_count": 52,
   "id": "61f54797-aaf0-41ca-91ed-1af05f2de58d",
   "metadata": {},
   "outputs": [],
   "source": [
    "df['SSA'].fillna(-1, inplace=True)"
   ]
  },
  {
   "cell_type": "markdown",
   "id": "a2f143e0-cd20-47fa-be85-32a06a40f7ad",
   "metadata": {
    "jp-MarkdownHeadingCollapsed": true,
    "tags": []
   },
   "source": [
    "#### 3.5 Analyzing Other Features\n",
    "\n",
    "- 'LICENSE_TERM_START_DATE',\n",
    "- 'LICENSE_STATUS_CHANGE_DATE',\n",
    "- 'APPLICATION_REQUIREMENTS_COMPLETE', \n",
    "- 'CONDITIONAL_APPROVAL'\n",
    "\n",
    "New feature derived **'HAS_LICENSE_STATUS_CHANGED'**"
   ]
  },
  {
   "cell_type": "code",
   "execution_count": 53,
   "id": "5ff69e29-4151-4a51-a3fc-8c0c1a6e121b",
   "metadata": {},
   "outputs": [],
   "source": [
    "# df.columns"
   ]
  },
  {
   "cell_type": "code",
   "execution_count": 54,
   "id": "efbb4faa-784a-46ce-9f37-947439f31e0c",
   "metadata": {},
   "outputs": [],
   "source": [
    "# df.nunique()\n",
    "# df[['LICENSE_TERM_START_DATE','LICENSE_STATUS_CHANGE_DATE']]"
   ]
  },
  {
   "cell_type": "code",
   "execution_count": 55,
   "id": "5a9cdf49-ab67-4163-9ac4-7aa1ef9f2afa",
   "metadata": {},
   "outputs": [],
   "source": [
    "df['LICENSE_TERM_START_DATE'] = df['LICENSE_TERM_START_DATE'].astype(np.datetime64)\n",
    "df['LICENSE_STATUS_CHANGE_DATE'] = df['LICENSE_STATUS_CHANGE_DATE'].astype(np.datetime64)"
   ]
  },
  {
   "cell_type": "code",
   "execution_count": 56,
   "id": "4c353bcd-127b-4fda-83db-a25562dbaa7c",
   "metadata": {},
   "outputs": [
    {
     "data": {
      "text/plain": [
       "(228, 55400)"
      ]
     },
     "execution_count": 56,
     "metadata": {},
     "output_type": "execute_result"
    }
   ],
   "source": [
    "df['LICENSE_TERM_START_DATE'].isna().sum(),\\\n",
    "df['LICENSE_STATUS_CHANGE_DATE'].isna().sum()"
   ]
  },
  {
   "cell_type": "code",
   "execution_count": 57,
   "id": "56df684b-3f24-4fea-9d19-fa6c3673a9c2",
   "metadata": {},
   "outputs": [],
   "source": [
    "# Making a new feature which tells us, if the bussiness licence was changed or not\n",
    "\n",
    "# By analyzing these two columns 'LICENSE_TERM_START_DATE','LICENSE_STATUS_CHANGE_DATE'\n",
    "# We will form a new feature based called 'HAS_LICENSE_STATUS_CHANGED'\n",
    "\n",
    "# Index of records where license status was not changed\n",
    "# When both have null values simultaneously, we consider status not changed\n",
    "# When only 'LICENSE_STATUS_CHANGE_DATE' has null value and not the other, we consider status not changed\n",
    "status_not_changed1 = df[~df.LICENSE_TERM_START_DATE.isna() & df.LICENSE_STATUS_CHANGE_DATE.isna()].index\n",
    "status_not_changed2 = df[df.LICENSE_TERM_START_DATE.isna() & df.LICENSE_STATUS_CHANGE_DATE.isna()].index\n",
    "\n",
    "# Index of records where license status was not changed\n",
    "\n",
    "# When both do not have null values simultaneously, we consider status changed (Both feature does not contain same values when not-null)\n",
    "# When only 'LICENSE_TERM_START_DATE' has null value and not the other, we consider status changed\n",
    "status_changed1 = df[~df.LICENSE_TERM_START_DATE.isna() & ~df.LICENSE_STATUS_CHANGE_DATE.isna()].index\n",
    "status_changed2 = df[df.LICENSE_TERM_START_DATE.isna() & ~df.LICENSE_STATUS_CHANGE_DATE.isna()].index\n",
    "\n",
    "df['HAS_LICENSE_STATUS_CHANGED'] = 0\n",
    "    \n",
    "for i in status_changed1:\n",
    "    df.loc[i, 'HAS_LICENSE_STATUS_CHANGED'] = 1\n",
    "    \n",
    "for i in status_changed2:\n",
    "    df.loc[i, 'HAS_LICENSE_STATUS_CHANGED'] = 1"
   ]
  },
  {
   "cell_type": "code",
   "execution_count": 58,
   "id": "7f5608c3-d0ad-47f5-8e0c-fe0356a53d4f",
   "metadata": {},
   "outputs": [],
   "source": [
    "df['PAYMENT_DATE'].fillna(-1, inplace=True)\n",
    "df['IS_PAYMENT_DONE'] = df.apply(lambda x: 0 if x['PAYMENT_DATE'] == -1 \n",
    "                                             else 1, axis=1)"
   ]
  },
  {
   "cell_type": "code",
   "execution_count": 59,
   "id": "8915af73-983f-4089-bfd2-d286f57b1a9e",
   "metadata": {},
   "outputs": [],
   "source": [
    "# df.columns"
   ]
  },
  {
   "cell_type": "code",
   "execution_count": 60,
   "id": "2950e174-7046-4248-9091-38f3e97c8bec",
   "metadata": {},
   "outputs": [
    {
     "data": {
      "text/plain": [
       "214"
      ]
     },
     "execution_count": 60,
     "metadata": {},
     "output_type": "execute_result"
    }
   ],
   "source": [
    "df.APPLICATION_REQUIREMENTS_COMPLETE.isna().sum()"
   ]
  },
  {
   "cell_type": "code",
   "execution_count": 61,
   "id": "95304e0a-8202-4913-89ae-bd7a638f6572",
   "metadata": {},
   "outputs": [],
   "source": [
    "df['APPLICATION_REQUIREMENTS_COMPLETE'].fillna(-1, inplace=True)\n",
    "df['APPLICATION_REQUIREMENTS_COMPLETE'] = df.apply(lambda x: 0 if x['APPLICATION_REQUIREMENTS_COMPLETE'] == -1 \n",
    "                                                               else 1, axis=1)"
   ]
  },
  {
   "cell_type": "code",
   "execution_count": 62,
   "id": "1b59cba3-5770-4119-a264-b82f763942aa",
   "metadata": {},
   "outputs": [
    {
     "data": {
      "text/plain": [
       "1    85676\n",
       "0      214\n",
       "Name: APPLICATION_REQUIREMENTS_COMPLETE, dtype: int64"
      ]
     },
     "execution_count": 62,
     "metadata": {},
     "output_type": "execute_result"
    }
   ],
   "source": [
    "df['APPLICATION_REQUIREMENTS_COMPLETE'].value_counts()"
   ]
  },
  {
   "cell_type": "code",
   "execution_count": 63,
   "id": "bc8e1a5f-f4bc-4581-83d2-d302e862af59",
   "metadata": {},
   "outputs": [
    {
     "data": {
      "text/plain": [
       "0"
      ]
     },
     "execution_count": 63,
     "metadata": {},
     "output_type": "execute_result"
    }
   ],
   "source": [
    "df.APPLICATION_REQUIREMENTS_COMPLETE.isna().sum()"
   ]
  },
  {
   "cell_type": "code",
   "execution_count": 64,
   "id": "5d79b359-82d2-472a-bebd-0cd47d4bd326",
   "metadata": {},
   "outputs": [
    {
     "data": {
      "text/plain": [
       "N    85872\n",
       "Y       18\n",
       "Name: CONDITIONAL_APPROVAL, dtype: int64"
      ]
     },
     "execution_count": 64,
     "metadata": {},
     "output_type": "execute_result"
    }
   ],
   "source": [
    "df['CONDITIONAL_APPROVAL'].value_counts()"
   ]
  },
  {
   "cell_type": "code",
   "execution_count": 65,
   "id": "25513afb-1f40-4981-81af-56357976cfa2",
   "metadata": {},
   "outputs": [],
   "source": [
    "# df['CONDITIONAL_APPROVAL'] = df['CONDITIONAL_APPROVAL'].apply(lambda x: 0 if x=='N' \n",
    "#                                                                           else 1)\n",
    "# df['CONDITIONAL_APPROVAL'].value_counts()"
   ]
  },
  {
   "cell_type": "code",
   "execution_count": 66,
   "id": "d66f3cca-c2c2-48a4-9902-dfde7b70da03",
   "metadata": {},
   "outputs": [],
   "source": [
    "# df.groupby(['STATE', 'LICENSE_STATUS']).count()['ID']\n",
    "\n",
    "# pd.pivot_table(df, index =['STATE'], values='APPLICATION_REQUIREMENTS_COMPLETE',\n",
    "#                 columns =['LICENSE_STATUS'], aggfunc = np.sum)"
   ]
  },
  {
   "cell_type": "code",
   "execution_count": 67,
   "id": "bbc24f88-278b-4229-b0d2-8929159b7236",
   "metadata": {
    "scrolled": true,
    "tags": []
   },
   "outputs": [
    {
     "data": {
      "text/plain": [
       "IL    80541\n",
       "IN     1749\n",
       "WI      547\n",
       "CA      354\n",
       "MI      350\n",
       "NY      218\n",
       "OH      191\n",
       "TX      167\n",
       "MO      165\n",
       "MN      141\n",
       "FL      136\n",
       "PA      127\n",
       "GA      115\n",
       "NJ      107\n",
       "VA       81\n",
       "CO       77\n",
       "AZ       76\n",
       "CT       63\n",
       "MA       62\n",
       "MD       60\n",
       "TN       54\n",
       "IA       54\n",
       "WA       48\n",
       "NC       45\n",
       "NE       42\n",
       "AL       30\n",
       "KS       27\n",
       "LA       26\n",
       "KY       25\n",
       "UT       22\n",
       "OR       19\n",
       "QC       18\n",
       "OK       17\n",
       "SC       17\n",
       "NV       16\n",
       "DC       14\n",
       "RI       14\n",
       "MS       12\n",
       "SD       11\n",
       "AR        9\n",
       "DE        7\n",
       "ID        7\n",
       "MT        6\n",
       "ON        5\n",
       "NH        4\n",
       "HI        3\n",
       "NM        3\n",
       "VT        2\n",
       "AK        1\n",
       "CN        1\n",
       "WV        1\n",
       "ME        1\n",
       "GB        1\n",
       "WY        1\n",
       "Name: STATE, dtype: int64"
      ]
     },
     "execution_count": 67,
     "metadata": {},
     "output_type": "execute_result"
    }
   ],
   "source": [
    "df.STATE.value_counts()"
   ]
  },
  {
   "cell_type": "code",
   "execution_count": 68,
   "id": "3bd23d23-9eea-4efa-924f-4c0650af3805",
   "metadata": {},
   "outputs": [
    {
     "data": {
      "text/plain": [
       "Index(['AR', 'DE', 'ID', 'MT', 'ON', 'NH', 'HI', 'NM', 'VT', 'AK', 'CN', 'WV',\n",
       "       'ME', 'GB', 'WY'],\n",
       "      dtype='object')"
      ]
     },
     "execution_count": 68,
     "metadata": {},
     "output_type": "execute_result"
    }
   ],
   "source": [
    "df.STATE.value_counts()[df.STATE.value_counts()<10].index"
   ]
  },
  {
   "cell_type": "code",
   "execution_count": 69,
   "id": "3779e033-995b-4a67-a70f-872f5d915c2d",
   "metadata": {},
   "outputs": [],
   "source": [
    "# Combining STATES with less records into one as \"Other_States\"\n",
    "\n",
    "for i in df.STATE.value_counts()[df.STATE.value_counts()<10].index:\n",
    "    df['STATE'] = df['STATE'].replace(i, \"Other_States\")"
   ]
  },
  {
   "cell_type": "code",
   "execution_count": 70,
   "id": "b5993997-75f8-4bf7-9b10-29c66a42a998",
   "metadata": {},
   "outputs": [
    {
     "data": {
      "text/plain": [
       "40"
      ]
     },
     "execution_count": 70,
     "metadata": {},
     "output_type": "execute_result"
    }
   ],
   "source": [
    "df.STATE.nunique()"
   ]
  },
  {
   "cell_type": "markdown",
   "id": "7346a8b6-0321-45f9-8b0c-a40a85428ee6",
   "metadata": {
    "jp-MarkdownHeadingCollapsed": true,
    "tags": []
   },
   "source": [
    "## Saving Preprocessed Data"
   ]
  },
  {
   "cell_type": "code",
   "execution_count": 71,
   "id": "3a606d1c-de8a-4acf-9a32-339d6f5d1e88",
   "metadata": {},
   "outputs": [],
   "source": [
    "df1 = df.copy()"
   ]
  },
  {
   "cell_type": "code",
   "execution_count": 72,
   "id": "f366fbac-2581-47d9-99d8-fbad02ba784a",
   "metadata": {},
   "outputs": [
    {
     "data": {
      "text/plain": [
       "Index(['ID', 'LICENSE_ID', 'ACCOUNT_NUMBER', 'SITE_NUMBER', 'LEGAL_NAME',\n",
       "       'DOING_BUSINESS_AS_NAME', 'ADDRESS', 'CITY', 'STATE', 'ZIP_CODE',\n",
       "       'WARD', 'PRECINCT', 'WARD_PRECINCT', 'POLICE_DISTRICT', 'LICENSE_CODE',\n",
       "       'LICENSE_DESCRIPTION', 'LICENSE_NUMBER', 'APPLICATION_TYPE',\n",
       "       'APPLICATION_CREATED_DATE', 'APPLICATION_REQUIREMENTS_COMPLETE',\n",
       "       'PAYMENT_DATE', 'CONDITIONAL_APPROVAL', 'LICENSE_TERM_START_DATE',\n",
       "       'LICENSE_TERM_EXPIRATION_DATE', 'LICENSE_APPROVED_FOR_ISSUANCE',\n",
       "       'DATE_ISSUED', 'LICENSE_STATUS_CHANGE_DATE', 'SSA', 'LATITUDE',\n",
       "       'LONGITUDE', 'LOCATION', 'LICENSE_STATUS', 'LEGAL_BUSINESS_NAME_MATCH',\n",
       "       'BUSINESS_TYPE', 'IS_ZIP_CODE_PRESENT', 'HAS_LICENSE_STATUS_CHANGED',\n",
       "       'IS_PAYMENT_DONE'],\n",
       "      dtype='object')"
      ]
     },
     "execution_count": 72,
     "metadata": {},
     "output_type": "execute_result"
    }
   ],
   "source": [
    "df1.columns"
   ]
  },
  {
   "cell_type": "code",
   "execution_count": 73,
   "id": "25dd0f73-3fb5-4fd9-83e8-d1b2b82258fb",
   "metadata": {},
   "outputs": [
    {
     "data": {
      "text/plain": [
       "(0, 0)"
      ]
     },
     "execution_count": 73,
     "metadata": {},
     "output_type": "execute_result"
    }
   ],
   "source": [
    "df1.CITY.isna().sum(), df1.STATE.isna().sum()"
   ]
  },
  {
   "cell_type": "code",
   "execution_count": 74,
   "id": "075563ad-ad26-48f8-9c46-48037ab2d03a",
   "metadata": {},
   "outputs": [
    {
     "data": {
      "text/plain": [
       "(1223, 40)"
      ]
     },
     "execution_count": 74,
     "metadata": {},
     "output_type": "execute_result"
    }
   ],
   "source": [
    "df1.CITY.nunique(), df1.STATE.nunique()"
   ]
  },
  {
   "cell_type": "code",
   "execution_count": 75,
   "id": "c44c3a4b-deaa-4715-aa48-c0e0d3780720",
   "metadata": {},
   "outputs": [],
   "source": [
    "cols = ['STATE','LICENSE_DESCRIPTION', 'APPLICATION_TYPE',\n",
    "        'APPLICATION_REQUIREMENTS_COMPLETE', 'CONDITIONAL_APPROVAL', \n",
    "        'SSA', 'LEGAL_BUSINESS_NAME_MATCH',\n",
    "        'BUSINESS_TYPE', 'IS_ZIP_CODE_PRESENT',\n",
    "        'HAS_LICENSE_STATUS_CHANGED', 'LICENSE_STATUS']\n",
    "\n",
    "df1 = df1[cols]"
   ]
  },
  {
   "cell_type": "code",
   "execution_count": 180,
   "id": "29be4c9e-5986-4d47-9f82-9d21f06d2089",
   "metadata": {},
   "outputs": [],
   "source": [
    "# df1['LICENSE_STATUS'].value_counts()"
   ]
  },
  {
   "cell_type": "code",
   "execution_count": 76,
   "id": "d6a6ed6a-eabe-4246-a73a-e571d1e84a65",
   "metadata": {},
   "outputs": [],
   "source": [
    "df1.to_csv(\"..\\output\\preprocessed_License_Data.csv\", index=False)\n",
    "df1.to_csv(\"..\\input\\preprocessed_License_Data.csv\", index=False)\n",
    "\n",
    "# df1.to_csv(\"..\\output\\preprocessed_License_Data_all_classes.csv\", index=False)\n",
    "# df1.to_csv(\"..\\input\\preprocessed_License_Data_all_classes.csv\", index=False)"
   ]
  },
  {
   "cell_type": "markdown",
   "id": "4a0efe93-7582-443e-ba9d-b127da9bdbfa",
   "metadata": {
    "jp-MarkdownHeadingCollapsed": true,
    "tags": []
   },
   "source": [
    "## H2o Random Forest Model"
   ]
  },
  {
   "cell_type": "markdown",
   "id": "e3e4183a-745f-4678-a7ec-6bee8dcd55b8",
   "metadata": {
    "jp-MarkdownHeadingCollapsed": true,
    "tags": []
   },
   "source": [
    "### Loading the preprocessed data"
   ]
  },
  {
   "cell_type": "code",
   "execution_count": 77,
   "id": "8a4791d9-8489-478a-8d9e-e4cdc983237a",
   "metadata": {},
   "outputs": [
    {
     "data": {
      "text/html": [
       "<div>\n",
       "<style scoped>\n",
       "    .dataframe tbody tr th:only-of-type {\n",
       "        vertical-align: middle;\n",
       "    }\n",
       "\n",
       "    .dataframe tbody tr th {\n",
       "        vertical-align: top;\n",
       "    }\n",
       "\n",
       "    .dataframe thead th {\n",
       "        text-align: right;\n",
       "    }\n",
       "</style>\n",
       "<table border=\"1\" class=\"dataframe\">\n",
       "  <thead>\n",
       "    <tr style=\"text-align: right;\">\n",
       "      <th></th>\n",
       "      <th>STATE</th>\n",
       "      <th>LICENSE_DESCRIPTION</th>\n",
       "      <th>APPLICATION_TYPE</th>\n",
       "      <th>APPLICATION_REQUIREMENTS_COMPLETE</th>\n",
       "      <th>CONDITIONAL_APPROVAL</th>\n",
       "      <th>SSA</th>\n",
       "      <th>LEGAL_BUSINESS_NAME_MATCH</th>\n",
       "      <th>BUSINESS_TYPE</th>\n",
       "      <th>IS_ZIP_CODE_PRESENT</th>\n",
       "      <th>HAS_LICENSE_STATUS_CHANGED</th>\n",
       "      <th>LICENSE_STATUS</th>\n",
       "    </tr>\n",
       "  </thead>\n",
       "  <tbody>\n",
       "    <tr>\n",
       "      <th>0</th>\n",
       "      <td>IL</td>\n",
       "      <td>Limited Business License</td>\n",
       "      <td>RENEW</td>\n",
       "      <td>1</td>\n",
       "      <td>N</td>\n",
       "      <td>25.0</td>\n",
       "      <td>0.303030</td>\n",
       "      <td>PVT</td>\n",
       "      <td>1</td>\n",
       "      <td>0</td>\n",
       "      <td>AAI</td>\n",
       "    </tr>\n",
       "    <tr>\n",
       "      <th>1</th>\n",
       "      <td>IL</td>\n",
       "      <td>Food Dispenser</td>\n",
       "      <td>RENEW</td>\n",
       "      <td>1</td>\n",
       "      <td>N</td>\n",
       "      <td>60.0</td>\n",
       "      <td>0.812500</td>\n",
       "      <td>INC</td>\n",
       "      <td>1</td>\n",
       "      <td>1</td>\n",
       "      <td>AAC</td>\n",
       "    </tr>\n",
       "    <tr>\n",
       "      <th>2</th>\n",
       "      <td>IL</td>\n",
       "      <td>Home Repair</td>\n",
       "      <td>ISSUE</td>\n",
       "      <td>1</td>\n",
       "      <td>N</td>\n",
       "      <td>-1.0</td>\n",
       "      <td>0.823529</td>\n",
       "      <td>PVT</td>\n",
       "      <td>1</td>\n",
       "      <td>0</td>\n",
       "      <td>AAI</td>\n",
       "    </tr>\n",
       "  </tbody>\n",
       "</table>\n",
       "</div>"
      ],
      "text/plain": [
       "  STATE       LICENSE_DESCRIPTION APPLICATION_TYPE  \\\n",
       "0    IL  Limited Business License            RENEW   \n",
       "1    IL            Food Dispenser            RENEW   \n",
       "2    IL               Home Repair            ISSUE   \n",
       "\n",
       "   APPLICATION_REQUIREMENTS_COMPLETE CONDITIONAL_APPROVAL   SSA  \\\n",
       "0                                  1                    N  25.0   \n",
       "1                                  1                    N  60.0   \n",
       "2                                  1                    N  -1.0   \n",
       "\n",
       "   LEGAL_BUSINESS_NAME_MATCH BUSINESS_TYPE  IS_ZIP_CODE_PRESENT  \\\n",
       "0                   0.303030           PVT                    1   \n",
       "1                   0.812500           INC                    1   \n",
       "2                   0.823529           PVT                    1   \n",
       "\n",
       "   HAS_LICENSE_STATUS_CHANGED LICENSE_STATUS  \n",
       "0                           0            AAI  \n",
       "1                           1            AAC  \n",
       "2                           0            AAI  "
      ]
     },
     "execution_count": 77,
     "metadata": {},
     "output_type": "execute_result"
    }
   ],
   "source": [
    "# df = pd.read_csv(\"..\\input\\preprocessed_License_Data.csv\")\n",
    "df = pd.read_csv(\"../input/preprocessed_License_Data_all_classes.csv\")\n",
    "df.head(3)"
   ]
  },
  {
   "cell_type": "code",
   "execution_count": 78,
   "id": "4da291ce-d6bf-4f66-938d-085cd1555d29",
   "metadata": {},
   "outputs": [
    {
     "data": {
      "text/plain": [
       "STATE                                0\n",
       "LICENSE_DESCRIPTION                  0\n",
       "APPLICATION_TYPE                     0\n",
       "APPLICATION_REQUIREMENTS_COMPLETE    0\n",
       "CONDITIONAL_APPROVAL                 0\n",
       "SSA                                  0\n",
       "LEGAL_BUSINESS_NAME_MATCH            0\n",
       "BUSINESS_TYPE                        0\n",
       "IS_ZIP_CODE_PRESENT                  0\n",
       "HAS_LICENSE_STATUS_CHANGED           0\n",
       "LICENSE_STATUS                       0\n",
       "dtype: int64"
      ]
     },
     "execution_count": 78,
     "metadata": {},
     "output_type": "execute_result"
    }
   ],
   "source": [
    "df.isna().sum()"
   ]
  },
  {
   "cell_type": "markdown",
   "id": "7fe1b0a1-4ed1-4cc3-b2dd-38b2af31b2a6",
   "metadata": {
    "jp-MarkdownHeadingCollapsed": true,
    "tags": []
   },
   "source": [
    "### Train-Test Split"
   ]
  },
  {
   "cell_type": "markdown",
   "id": "273e74e5-636c-451d-9e4f-5a6a7ef6a4db",
   "metadata": {
    "tags": []
   },
   "source": [
    "#### Creating a H2O Frame\n",
    "\n",
    "H2OFrame is similar to pandas’ DataFrame, or R’s data.frame. One of the critical distinction is that the data is generally not held in memory, instead it is located on a (possibly remote) H2O cluster, and thus H2OFrame represents a mere handle to that data."
   ]
  },
  {
   "cell_type": "code",
   "execution_count": 79,
   "id": "201974f7-5caa-4951-bd18-854292052731",
   "metadata": {},
   "outputs": [
    {
     "data": {
      "text/plain": [
       "((68716, 11), (17179, 11))"
      ]
     },
     "execution_count": 79,
     "metadata": {},
     "output_type": "execute_result"
    }
   ],
   "source": [
    "# train, test = train_test_split(df, test_size=0.2, random_state=42)\n",
    "\n",
    "X, y = df.drop(['LICENSE_STATUS'], axis=1), df['LICENSE_STATUS']\n",
    "\n",
    "X_train, X_test, y_train, y_test = train_test_split(X,y, test_size=0.2, \n",
    "                                                    random_state=42, stratify=y)\n",
    "\n",
    "train = pd.concat([X_train, y_train], axis=1)\n",
    "test = pd.concat([X_test, y_test], axis=1)\n",
    "\n",
    "train.shape, test.shape"
   ]
  },
  {
   "cell_type": "code",
   "execution_count": 80,
   "id": "9e06b9e8-d89b-419a-b17a-7d177e5e32ab",
   "metadata": {},
   "outputs": [
    {
     "name": "stdout",
     "output_type": "stream",
     "text": [
      "Parse progress: |████████████████████████████████████████████████████████████████| (done) 100%\n",
      "Parse progress: |████████████████████████████████████████████████████████████████| (done) 100%\n"
     ]
    },
    {
     "data": {
      "text/plain": [
       "h2o.frame.H2OFrame"
      ]
     },
     "execution_count": 80,
     "metadata": {},
     "output_type": "execute_result"
    }
   ],
   "source": [
    "# Creating a H2O Frame\n",
    "\n",
    "train = h2o.H2OFrame(train)\n",
    "test = h2o.H2OFrame(test)\n",
    "\n",
    "type(train)\n",
    "# train.head()"
   ]
  },
  {
   "cell_type": "markdown",
   "id": "5db9af04-81cf-4cf4-bc6c-ddea2859386b",
   "metadata": {
    "jp-MarkdownHeadingCollapsed": true,
    "tags": []
   },
   "source": [
    "### Creating a RandomForest Model using H2O\n",
    "* **"
   ]
  },
  {
   "cell_type": "code",
   "execution_count": 81,
   "id": "31c72408-0f39-40f4-b4b9-0bc3a0f6564f",
   "metadata": {},
   "outputs": [],
   "source": [
    "# Creating a RandomForest Model\n",
    "h2o_rf = h2o.estimators.H2ORandomForestEstimator(ntrees=50, \n",
    "                                                 balance_classes=True, # max_after_balance_size=0.85,\n",
    "                                                 seed=42)"
   ]
  },
  {
   "cell_type": "code",
   "execution_count": 82,
   "id": "d78f83b3-5409-41b7-a43a-3dd12309ff2c",
   "metadata": {
    "scrolled": true,
    "tags": []
   },
   "outputs": [
    {
     "name": "stdout",
     "output_type": "stream",
     "text": [
      "drf Model Build progress: |██████████████████████████████████████████████████████| (done) 100%\n"
     ]
    },
    {
     "data": {
      "text/html": [
       "<pre style='margin: 1em 0 1em 0;'>Model Details\n",
       "=============\n",
       "H2ORandomForestEstimator : Distributed Random Forest\n",
       "Model Key: DRF_model_python_1684634243402_1\n",
       "</pre>\n",
       "<div style='margin: 1em 0 1em 0;'>\n",
       "<style>\n",
       "\n",
       "#h2o-table-2.h2o-container {\n",
       "  overflow-x: auto;\n",
       "}\n",
       "#h2o-table-2 .h2o-table {\n",
       "  /* width: 100%; */\n",
       "  margin-top: 1em;\n",
       "  margin-bottom: 1em;\n",
       "}\n",
       "#h2o-table-2 .h2o-table caption {\n",
       "  white-space: nowrap;\n",
       "  caption-side: top;\n",
       "  text-align: left;\n",
       "  /* margin-left: 1em; */\n",
       "  margin: 0;\n",
       "  font-size: larger;\n",
       "}\n",
       "#h2o-table-2 .h2o-table thead {\n",
       "  white-space: nowrap; \n",
       "  position: sticky;\n",
       "  top: 0;\n",
       "  box-shadow: 0 -1px inset;\n",
       "}\n",
       "#h2o-table-2 .h2o-table tbody {\n",
       "  overflow: auto;\n",
       "}\n",
       "#h2o-table-2 .h2o-table th,\n",
       "#h2o-table-2 .h2o-table td {\n",
       "  text-align: right;\n",
       "  /* border: 1px solid; */\n",
       "}\n",
       "#h2o-table-2 .h2o-table tr:nth-child(even) {\n",
       "  /* background: #F5F5F5 */\n",
       "}\n",
       "\n",
       "</style>      \n",
       "<div id=\"h2o-table-2\" class=\"h2o-container\">\n",
       "  <table class=\"h2o-table\">\n",
       "    <caption>Model Summary: </caption>\n",
       "    <thead><tr><th></th>\n",
       "<th>number_of_trees</th>\n",
       "<th>number_of_internal_trees</th>\n",
       "<th>model_size_in_bytes</th>\n",
       "<th>min_depth</th>\n",
       "<th>max_depth</th>\n",
       "<th>mean_depth</th>\n",
       "<th>min_leaves</th>\n",
       "<th>max_leaves</th>\n",
       "<th>mean_leaves</th></tr></thead>\n",
       "    <tbody><tr><td></td>\n",
       "<td>50.0</td>\n",
       "<td>250.0</td>\n",
       "<td>616281.0</td>\n",
       "<td>1.0</td>\n",
       "<td>20.0</td>\n",
       "<td>12.524</td>\n",
       "<td>2.0</td>\n",
       "<td>615.0</td>\n",
       "<td>178.264</td></tr></tbody>\n",
       "  </table>\n",
       "</div>\n",
       "</div>\n",
       "<div style='margin: 1em 0 1em 0;'><pre style='margin: 1em 0 1em 0;'>ModelMetricsMultinomial: drf\n",
       "** Reported on train data. **\n",
       "\n",
       "MSE: 0.48188514820266304\n",
       "RMSE: 0.6941794783790882\n",
       "LogLoss: 1.9737609007529602\n",
       "Mean Per-Class Error: 0.5682574899270705\n",
       "AUC table was not computed: it is either disabled (model parameter 'auc_type' was set to AUTO or NONE) or the domain size exceeds the limit (maximum is 50 domains).\n",
       "AUCPR table was not computed: it is either disabled (model parameter 'auc_type' was set to AUTO or NONE) or the domain size exceeds the limit (maximum is 50 domains).</pre>\n",
       "<div style='margin: 1em 0 1em 0;'>\n",
       "<style>\n",
       "\n",
       "#h2o-table-3.h2o-container {\n",
       "  overflow-x: auto;\n",
       "}\n",
       "#h2o-table-3 .h2o-table {\n",
       "  /* width: 100%; */\n",
       "  margin-top: 1em;\n",
       "  margin-bottom: 1em;\n",
       "}\n",
       "#h2o-table-3 .h2o-table caption {\n",
       "  white-space: nowrap;\n",
       "  caption-side: top;\n",
       "  text-align: left;\n",
       "  /* margin-left: 1em; */\n",
       "  margin: 0;\n",
       "  font-size: larger;\n",
       "}\n",
       "#h2o-table-3 .h2o-table thead {\n",
       "  white-space: nowrap; \n",
       "  position: sticky;\n",
       "  top: 0;\n",
       "  box-shadow: 0 -1px inset;\n",
       "}\n",
       "#h2o-table-3 .h2o-table tbody {\n",
       "  overflow: auto;\n",
       "}\n",
       "#h2o-table-3 .h2o-table th,\n",
       "#h2o-table-3 .h2o-table td {\n",
       "  text-align: right;\n",
       "  /* border: 1px solid; */\n",
       "}\n",
       "#h2o-table-3 .h2o-table tr:nth-child(even) {\n",
       "  /* background: #F5F5F5 */\n",
       "}\n",
       "\n",
       "</style>      \n",
       "<div id=\"h2o-table-3\" class=\"h2o-container\">\n",
       "  <table class=\"h2o-table\">\n",
       "    <caption>Confusion Matrix: Row labels: Actual class; Column labels: Predicted class</caption>\n",
       "    <thead><tr><th>AAC</th>\n",
       "<th>AAI</th>\n",
       "<th>INQ</th>\n",
       "<th>REA</th>\n",
       "<th>REV</th>\n",
       "<th>Error</th>\n",
       "<th>Rate</th></tr></thead>\n",
       "    <tbody><tr><td>44366.0</td>\n",
       "<td>0.0</td>\n",
       "<td>0.0</td>\n",
       "<td>0.0</td>\n",
       "<td>1.0</td>\n",
       "<td>0.0000225</td>\n",
       "<td>1 / 44,367</td></tr>\n",
       "<tr><td>0.0</td>\n",
       "<td>44320.0</td>\n",
       "<td>0.0</td>\n",
       "<td>0.0</td>\n",
       "<td>0.0</td>\n",
       "<td>0.0</td>\n",
       "<td>0 / 44,320</td></tr>\n",
       "<tr><td>44319.0</td>\n",
       "<td>1.0</td>\n",
       "<td>0.0</td>\n",
       "<td>0.0</td>\n",
       "<td>0.0</td>\n",
       "<td>1.0</td>\n",
       "<td>44,320 / 44,320</td></tr>\n",
       "<tr><td>40664.0</td>\n",
       "<td>2770.0</td>\n",
       "<td>0.0</td>\n",
       "<td>867.0</td>\n",
       "<td>19.0</td>\n",
       "<td>0.9804377</td>\n",
       "<td>43,453 / 44,320</td></tr>\n",
       "<tr><td>38067.0</td>\n",
       "<td>84.0</td>\n",
       "<td>0.0</td>\n",
       "<td>0.0</td>\n",
       "<td>6168.0</td>\n",
       "<td>0.8608272</td>\n",
       "<td>38,151 / 44,319</td></tr>\n",
       "<tr><td>167416.0</td>\n",
       "<td>47175.0</td>\n",
       "<td>0.0</td>\n",
       "<td>867.0</td>\n",
       "<td>6188.0</td>\n",
       "<td>0.5681357</td>\n",
       "<td>125,925 / 221,646</td></tr></tbody>\n",
       "  </table>\n",
       "</div>\n",
       "</div>\n",
       "<div style='margin: 1em 0 1em 0;'>\n",
       "<style>\n",
       "\n",
       "#h2o-table-4.h2o-container {\n",
       "  overflow-x: auto;\n",
       "}\n",
       "#h2o-table-4 .h2o-table {\n",
       "  /* width: 100%; */\n",
       "  margin-top: 1em;\n",
       "  margin-bottom: 1em;\n",
       "}\n",
       "#h2o-table-4 .h2o-table caption {\n",
       "  white-space: nowrap;\n",
       "  caption-side: top;\n",
       "  text-align: left;\n",
       "  /* margin-left: 1em; */\n",
       "  margin: 0;\n",
       "  font-size: larger;\n",
       "}\n",
       "#h2o-table-4 .h2o-table thead {\n",
       "  white-space: nowrap; \n",
       "  position: sticky;\n",
       "  top: 0;\n",
       "  box-shadow: 0 -1px inset;\n",
       "}\n",
       "#h2o-table-4 .h2o-table tbody {\n",
       "  overflow: auto;\n",
       "}\n",
       "#h2o-table-4 .h2o-table th,\n",
       "#h2o-table-4 .h2o-table td {\n",
       "  text-align: right;\n",
       "  /* border: 1px solid; */\n",
       "}\n",
       "#h2o-table-4 .h2o-table tr:nth-child(even) {\n",
       "  /* background: #F5F5F5 */\n",
       "}\n",
       "\n",
       "</style>      \n",
       "<div id=\"h2o-table-4\" class=\"h2o-container\">\n",
       "  <table class=\"h2o-table\">\n",
       "    <caption>Top-5 Hit Ratios: </caption>\n",
       "    <thead><tr><th>k</th>\n",
       "<th>hit_ratio</th></tr></thead>\n",
       "    <tbody><tr><td>1</td>\n",
       "<td>0.4318643</td></tr>\n",
       "<tr><td>2</td>\n",
       "<td>0.8222616</td></tr>\n",
       "<tr><td>3</td>\n",
       "<td>0.9617678</td></tr>\n",
       "<tr><td>4</td>\n",
       "<td>1.0</td></tr>\n",
       "<tr><td>5</td>\n",
       "<td>1.0</td></tr></tbody>\n",
       "  </table>\n",
       "</div>\n",
       "</div></div>\n",
       "<div style='margin: 1em 0 1em 0;'><pre style='margin: 1em 0 1em 0;'>ModelMetricsMultinomial: drf\n",
       "** Reported on validation data. **\n",
       "\n",
       "MSE: 0.0034166287684831063\n",
       "RMSE: 0.058451935540947714\n",
       "LogLoss: 0.02278263644740996\n",
       "Mean Per-Class Error: 0.4\n",
       "AUC table was not computed: it is either disabled (model parameter 'auc_type' was set to AUTO or NONE) or the domain size exceeds the limit (maximum is 50 domains).\n",
       "AUCPR table was not computed: it is either disabled (model parameter 'auc_type' was set to AUTO or NONE) or the domain size exceeds the limit (maximum is 50 domains).</pre>\n",
       "<div style='margin: 1em 0 1em 0;'>\n",
       "<style>\n",
       "\n",
       "#h2o-table-5.h2o-container {\n",
       "  overflow-x: auto;\n",
       "}\n",
       "#h2o-table-5 .h2o-table {\n",
       "  /* width: 100%; */\n",
       "  margin-top: 1em;\n",
       "  margin-bottom: 1em;\n",
       "}\n",
       "#h2o-table-5 .h2o-table caption {\n",
       "  white-space: nowrap;\n",
       "  caption-side: top;\n",
       "  text-align: left;\n",
       "  /* margin-left: 1em; */\n",
       "  margin: 0;\n",
       "  font-size: larger;\n",
       "}\n",
       "#h2o-table-5 .h2o-table thead {\n",
       "  white-space: nowrap; \n",
       "  position: sticky;\n",
       "  top: 0;\n",
       "  box-shadow: 0 -1px inset;\n",
       "}\n",
       "#h2o-table-5 .h2o-table tbody {\n",
       "  overflow: auto;\n",
       "}\n",
       "#h2o-table-5 .h2o-table th,\n",
       "#h2o-table-5 .h2o-table td {\n",
       "  text-align: right;\n",
       "  /* border: 1px solid; */\n",
       "}\n",
       "#h2o-table-5 .h2o-table tr:nth-child(even) {\n",
       "  /* background: #F5F5F5 */\n",
       "}\n",
       "\n",
       "</style>      \n",
       "<div id=\"h2o-table-5\" class=\"h2o-container\">\n",
       "  <table class=\"h2o-table\">\n",
       "    <caption>Confusion Matrix: Row labels: Actual class; Column labels: Predicted class</caption>\n",
       "    <thead><tr><th>AAC</th>\n",
       "<th>AAI</th>\n",
       "<th>INQ</th>\n",
       "<th>REA</th>\n",
       "<th>REV</th>\n",
       "<th>Error</th>\n",
       "<th>Rate</th></tr></thead>\n",
       "    <tbody><tr><td>6040.0</td>\n",
       "<td>0.0</td>\n",
       "<td>0.0</td>\n",
       "<td>0.0</td>\n",
       "<td>0.0</td>\n",
       "<td>0.0</td>\n",
       "<td>0 / 6,040</td></tr>\n",
       "<tr><td>0.0</td>\n",
       "<td>11080.0</td>\n",
       "<td>0.0</td>\n",
       "<td>0.0</td>\n",
       "<td>0.0</td>\n",
       "<td>0.0</td>\n",
       "<td>0 / 11,080</td></tr>\n",
       "<tr><td>0.0</td>\n",
       "<td>0.0</td>\n",
       "<td>0.0</td>\n",
       "<td>0.0</td>\n",
       "<td>0.0</td>\n",
       "<td>nan</td>\n",
       "<td>0 / 0</td></tr>\n",
       "<tr><td>1.0</td>\n",
       "<td>0.0</td>\n",
       "<td>0.0</td>\n",
       "<td>0.0</td>\n",
       "<td>0.0</td>\n",
       "<td>1.0</td>\n",
       "<td>1 / 1</td></tr>\n",
       "<tr><td>58.0</td>\n",
       "<td>0.0</td>\n",
       "<td>0.0</td>\n",
       "<td>0.0</td>\n",
       "<td>0.0</td>\n",
       "<td>1.0</td>\n",
       "<td>58 / 58</td></tr>\n",
       "<tr><td>6099.0</td>\n",
       "<td>11080.0</td>\n",
       "<td>0.0</td>\n",
       "<td>0.0</td>\n",
       "<td>0.0</td>\n",
       "<td>0.0034344</td>\n",
       "<td>59 / 17,179</td></tr></tbody>\n",
       "  </table>\n",
       "</div>\n",
       "</div>\n",
       "<div style='margin: 1em 0 1em 0;'>\n",
       "<style>\n",
       "\n",
       "#h2o-table-6.h2o-container {\n",
       "  overflow-x: auto;\n",
       "}\n",
       "#h2o-table-6 .h2o-table {\n",
       "  /* width: 100%; */\n",
       "  margin-top: 1em;\n",
       "  margin-bottom: 1em;\n",
       "}\n",
       "#h2o-table-6 .h2o-table caption {\n",
       "  white-space: nowrap;\n",
       "  caption-side: top;\n",
       "  text-align: left;\n",
       "  /* margin-left: 1em; */\n",
       "  margin: 0;\n",
       "  font-size: larger;\n",
       "}\n",
       "#h2o-table-6 .h2o-table thead {\n",
       "  white-space: nowrap; \n",
       "  position: sticky;\n",
       "  top: 0;\n",
       "  box-shadow: 0 -1px inset;\n",
       "}\n",
       "#h2o-table-6 .h2o-table tbody {\n",
       "  overflow: auto;\n",
       "}\n",
       "#h2o-table-6 .h2o-table th,\n",
       "#h2o-table-6 .h2o-table td {\n",
       "  text-align: right;\n",
       "  /* border: 1px solid; */\n",
       "}\n",
       "#h2o-table-6 .h2o-table tr:nth-child(even) {\n",
       "  /* background: #F5F5F5 */\n",
       "}\n",
       "\n",
       "</style>      \n",
       "<div id=\"h2o-table-6\" class=\"h2o-container\">\n",
       "  <table class=\"h2o-table\">\n",
       "    <caption>Top-5 Hit Ratios: </caption>\n",
       "    <thead><tr><th>k</th>\n",
       "<th>hit_ratio</th></tr></thead>\n",
       "    <tbody><tr><td>1</td>\n",
       "<td>0.9965656</td></tr>\n",
       "<tr><td>2</td>\n",
       "<td>0.9997090</td></tr>\n",
       "<tr><td>3</td>\n",
       "<td>0.9999418</td></tr>\n",
       "<tr><td>4</td>\n",
       "<td>0.9999418</td></tr>\n",
       "<tr><td>5</td>\n",
       "<td>1.0</td></tr></tbody>\n",
       "  </table>\n",
       "</div>\n",
       "</div></div>\n",
       "<div style='margin: 1em 0 1em 0;'>\n",
       "<style>\n",
       "\n",
       "#h2o-table-7.h2o-container {\n",
       "  overflow-x: auto;\n",
       "}\n",
       "#h2o-table-7 .h2o-table {\n",
       "  /* width: 100%; */\n",
       "  margin-top: 1em;\n",
       "  margin-bottom: 1em;\n",
       "}\n",
       "#h2o-table-7 .h2o-table caption {\n",
       "  white-space: nowrap;\n",
       "  caption-side: top;\n",
       "  text-align: left;\n",
       "  /* margin-left: 1em; */\n",
       "  margin: 0;\n",
       "  font-size: larger;\n",
       "}\n",
       "#h2o-table-7 .h2o-table thead {\n",
       "  white-space: nowrap; \n",
       "  position: sticky;\n",
       "  top: 0;\n",
       "  box-shadow: 0 -1px inset;\n",
       "}\n",
       "#h2o-table-7 .h2o-table tbody {\n",
       "  overflow: auto;\n",
       "}\n",
       "#h2o-table-7 .h2o-table th,\n",
       "#h2o-table-7 .h2o-table td {\n",
       "  text-align: right;\n",
       "  /* border: 1px solid; */\n",
       "}\n",
       "#h2o-table-7 .h2o-table tr:nth-child(even) {\n",
       "  /* background: #F5F5F5 */\n",
       "}\n",
       "\n",
       "</style>      \n",
       "<div id=\"h2o-table-7\" class=\"h2o-container\">\n",
       "  <table class=\"h2o-table\">\n",
       "    <caption>Scoring History: </caption>\n",
       "    <thead><tr><th></th>\n",
       "<th>timestamp</th>\n",
       "<th>duration</th>\n",
       "<th>number_of_trees</th>\n",
       "<th>training_rmse</th>\n",
       "<th>training_logloss</th>\n",
       "<th>training_classification_error</th>\n",
       "<th>training_auc</th>\n",
       "<th>training_pr_auc</th>\n",
       "<th>validation_rmse</th>\n",
       "<th>validation_logloss</th>\n",
       "<th>validation_classification_error</th>\n",
       "<th>validation_auc</th>\n",
       "<th>validation_pr_auc</th></tr></thead>\n",
       "    <tbody><tr><td></td>\n",
       "<td>2023-05-21 07:36:19</td>\n",
       "<td> 0.177 sec</td>\n",
       "<td>0.0</td>\n",
       "<td>nan</td>\n",
       "<td>nan</td>\n",
       "<td>nan</td>\n",
       "<td>nan</td>\n",
       "<td>nan</td>\n",
       "<td>nan</td>\n",
       "<td>nan</td>\n",
       "<td>nan</td>\n",
       "<td>nan</td>\n",
       "<td>nan</td></tr>\n",
       "<tr><td></td>\n",
       "<td>2023-05-21 07:36:20</td>\n",
       "<td> 1.264 sec</td>\n",
       "<td>1.0</td>\n",
       "<td>0.6166017</td>\n",
       "<td>1.7450209</td>\n",
       "<td>0.4144920</td>\n",
       "<td>nan</td>\n",
       "<td>nan</td>\n",
       "<td>0.0740435</td>\n",
       "<td>0.1423275</td>\n",
       "<td>0.0045986</td>\n",
       "<td>nan</td>\n",
       "<td>nan</td></tr>\n",
       "<tr><td></td>\n",
       "<td>2023-05-21 07:36:21</td>\n",
       "<td> 1.860 sec</td>\n",
       "<td>2.0</td>\n",
       "<td>0.6109494</td>\n",
       "<td>1.6485058</td>\n",
       "<td>0.4276395</td>\n",
       "<td>nan</td>\n",
       "<td>nan</td>\n",
       "<td>0.0601395</td>\n",
       "<td>0.0854569</td>\n",
       "<td>0.0035508</td>\n",
       "<td>nan</td>\n",
       "<td>nan</td></tr>\n",
       "<tr><td></td>\n",
       "<td>2023-05-21 07:36:21</td>\n",
       "<td> 2.290 sec</td>\n",
       "<td>3.0</td>\n",
       "<td>0.6494970</td>\n",
       "<td>1.9161694</td>\n",
       "<td>0.4748400</td>\n",
       "<td>nan</td>\n",
       "<td>nan</td>\n",
       "<td>0.0591456</td>\n",
       "<td>0.0633619</td>\n",
       "<td>0.0034344</td>\n",
       "<td>nan</td>\n",
       "<td>nan</td></tr>\n",
       "<tr><td></td>\n",
       "<td>2023-05-21 07:36:21</td>\n",
       "<td> 2.664 sec</td>\n",
       "<td>4.0</td>\n",
       "<td>0.6685636</td>\n",
       "<td>2.0332632</td>\n",
       "<td>0.4976232</td>\n",
       "<td>nan</td>\n",
       "<td>nan</td>\n",
       "<td>0.0592870</td>\n",
       "<td>0.0571713</td>\n",
       "<td>0.0033762</td>\n",
       "<td>nan</td>\n",
       "<td>nan</td></tr>\n",
       "<tr><td></td>\n",
       "<td>2023-05-21 07:36:22</td>\n",
       "<td> 2.899 sec</td>\n",
       "<td>5.0</td>\n",
       "<td>0.6567894</td>\n",
       "<td>1.9473484</td>\n",
       "<td>0.4812723</td>\n",
       "<td>nan</td>\n",
       "<td>nan</td>\n",
       "<td>0.0593675</td>\n",
       "<td>0.0506882</td>\n",
       "<td>0.0033762</td>\n",
       "<td>nan</td>\n",
       "<td>nan</td></tr>\n",
       "<tr><td></td>\n",
       "<td>2023-05-21 07:36:22</td>\n",
       "<td> 3.149 sec</td>\n",
       "<td>6.0</td>\n",
       "<td>0.6561637</td>\n",
       "<td>1.9250153</td>\n",
       "<td>0.4809395</td>\n",
       "<td>nan</td>\n",
       "<td>nan</td>\n",
       "<td>0.0593993</td>\n",
       "<td>0.0472266</td>\n",
       "<td>0.0033762</td>\n",
       "<td>nan</td>\n",
       "<td>nan</td></tr>\n",
       "<tr><td></td>\n",
       "<td>2023-05-21 07:36:22</td>\n",
       "<td> 3.405 sec</td>\n",
       "<td>7.0</td>\n",
       "<td>0.6655509</td>\n",
       "<td>1.9562860</td>\n",
       "<td>0.4952675</td>\n",
       "<td>nan</td>\n",
       "<td>nan</td>\n",
       "<td>0.0603116</td>\n",
       "<td>0.0460209</td>\n",
       "<td>0.0034344</td>\n",
       "<td>nan</td>\n",
       "<td>nan</td></tr>\n",
       "<tr><td></td>\n",
       "<td>2023-05-21 07:36:23</td>\n",
       "<td> 3.682 sec</td>\n",
       "<td>8.0</td>\n",
       "<td>0.6640566</td>\n",
       "<td>1.9311739</td>\n",
       "<td>0.4949265</td>\n",
       "<td>nan</td>\n",
       "<td>nan</td>\n",
       "<td>0.0600124</td>\n",
       "<td>0.0459938</td>\n",
       "<td>0.0034926</td>\n",
       "<td>nan</td>\n",
       "<td>nan</td></tr>\n",
       "<tr><td></td>\n",
       "<td>2023-05-21 07:36:23</td>\n",
       "<td> 3.962 sec</td>\n",
       "<td>9.0</td>\n",
       "<td>0.6716743</td>\n",
       "<td>1.9630914</td>\n",
       "<td>0.5065789</td>\n",
       "<td>nan</td>\n",
       "<td>nan</td>\n",
       "<td>0.0596446</td>\n",
       "<td>0.0378190</td>\n",
       "<td>0.0034926</td>\n",
       "<td>nan</td>\n",
       "<td>nan</td></tr>\n",
       "<tr><td></td>\n",
       "<td>2023-05-21 07:36:23</td>\n",
       "<td> 4.245 sec</td>\n",
       "<td>10.0</td>\n",
       "<td>0.6709015</td>\n",
       "<td>1.9482567</td>\n",
       "<td>0.5070914</td>\n",
       "<td>nan</td>\n",
       "<td>nan</td>\n",
       "<td>0.0596711</td>\n",
       "<td>0.0342449</td>\n",
       "<td>0.0034926</td>\n",
       "<td>nan</td>\n",
       "<td>nan</td></tr>\n",
       "<tr><td></td>\n",
       "<td>2023-05-21 07:36:27</td>\n",
       "<td> 8.302 sec</td>\n",
       "<td>31.0</td>\n",
       "<td>0.6779548</td>\n",
       "<td>1.8776708</td>\n",
       "<td>0.5484376</td>\n",
       "<td>nan</td>\n",
       "<td>nan</td>\n",
       "<td>0.0582958</td>\n",
       "<td>0.0225525</td>\n",
       "<td>0.0034344</td>\n",
       "<td>nan</td>\n",
       "<td>nan</td></tr>\n",
       "<tr><td></td>\n",
       "<td>2023-05-21 07:36:31</td>\n",
       "<td>12.189 sec</td>\n",
       "<td>50.0</td>\n",
       "<td>0.6941795</td>\n",
       "<td>1.9737609</td>\n",
       "<td>0.5681357</td>\n",
       "<td>nan</td>\n",
       "<td>nan</td>\n",
       "<td>0.0584519</td>\n",
       "<td>0.0227826</td>\n",
       "<td>0.0034344</td>\n",
       "<td>nan</td>\n",
       "<td>nan</td></tr></tbody>\n",
       "  </table>\n",
       "</div>\n",
       "</div>\n",
       "<div style='margin: 1em 0 1em 0;'>\n",
       "<style>\n",
       "\n",
       "#h2o-table-8.h2o-container {\n",
       "  overflow-x: auto;\n",
       "}\n",
       "#h2o-table-8 .h2o-table {\n",
       "  /* width: 100%; */\n",
       "  margin-top: 1em;\n",
       "  margin-bottom: 1em;\n",
       "}\n",
       "#h2o-table-8 .h2o-table caption {\n",
       "  white-space: nowrap;\n",
       "  caption-side: top;\n",
       "  text-align: left;\n",
       "  /* margin-left: 1em; */\n",
       "  margin: 0;\n",
       "  font-size: larger;\n",
       "}\n",
       "#h2o-table-8 .h2o-table thead {\n",
       "  white-space: nowrap; \n",
       "  position: sticky;\n",
       "  top: 0;\n",
       "  box-shadow: 0 -1px inset;\n",
       "}\n",
       "#h2o-table-8 .h2o-table tbody {\n",
       "  overflow: auto;\n",
       "}\n",
       "#h2o-table-8 .h2o-table th,\n",
       "#h2o-table-8 .h2o-table td {\n",
       "  text-align: right;\n",
       "  /* border: 1px solid; */\n",
       "}\n",
       "#h2o-table-8 .h2o-table tr:nth-child(even) {\n",
       "  /* background: #F5F5F5 */\n",
       "}\n",
       "\n",
       "</style>      \n",
       "<div id=\"h2o-table-8\" class=\"h2o-container\">\n",
       "  <table class=\"h2o-table\">\n",
       "    <caption>Variable Importances: </caption>\n",
       "    <thead><tr><th>variable</th>\n",
       "<th>relative_importance</th>\n",
       "<th>scaled_importance</th>\n",
       "<th>percentage</th></tr></thead>\n",
       "    <tbody><tr><td>HAS_LICENSE_STATUS_CHANGED</td>\n",
       "<td>1640071.8750000</td>\n",
       "<td>1.0</td>\n",
       "<td>0.2677737</td></tr>\n",
       "<tr><td>LICENSE_DESCRIPTION</td>\n",
       "<td>1637922.2500000</td>\n",
       "<td>0.9986893</td>\n",
       "<td>0.2674228</td></tr>\n",
       "<tr><td>LEGAL_BUSINESS_NAME_MATCH</td>\n",
       "<td>1118806.3750000</td>\n",
       "<td>0.6821691</td>\n",
       "<td>0.1826670</td></tr>\n",
       "<tr><td>APPLICATION_TYPE</td>\n",
       "<td>633339.5</td>\n",
       "<td>0.3861657</td>\n",
       "<td>0.1034050</td></tr>\n",
       "<tr><td>BUSINESS_TYPE</td>\n",
       "<td>611653.8125000</td>\n",
       "<td>0.3729433</td>\n",
       "<td>0.0998644</td></tr>\n",
       "<tr><td>SSA</td>\n",
       "<td>454595.9062500</td>\n",
       "<td>0.2771805</td>\n",
       "<td>0.0742217</td></tr>\n",
       "<tr><td>STATE</td>\n",
       "<td>27333.7382812</td>\n",
       "<td>0.0166662</td>\n",
       "<td>0.0044628</td></tr>\n",
       "<tr><td>APPLICATION_REQUIREMENTS_COMPLETE</td>\n",
       "<td>575.0130005</td>\n",
       "<td>0.0003506</td>\n",
       "<td>0.0000939</td></tr>\n",
       "<tr><td>CONDITIONAL_APPROVAL</td>\n",
       "<td>481.4664917</td>\n",
       "<td>0.0002936</td>\n",
       "<td>0.0000786</td></tr>\n",
       "<tr><td>IS_ZIP_CODE_PRESENT</td>\n",
       "<td>61.9527245</td>\n",
       "<td>0.0000378</td>\n",
       "<td>0.0000101</td></tr></tbody>\n",
       "  </table>\n",
       "</div>\n",
       "</div><pre style=\"font-size: smaller; margin: 1em 0 0 0;\">\n",
       "\n",
       "[tips]\n",
       "Use `model.explain()` to inspect the model.\n",
       "--\n",
       "Use `h2o.display.toggle_user_tips()` to switch on/off this section.</pre>"
      ],
      "text/plain": [
       "Model Details\n",
       "=============\n",
       "H2ORandomForestEstimator : Distributed Random Forest\n",
       "Model Key: DRF_model_python_1684634243402_1\n",
       "\n",
       "\n",
       "Model Summary: \n",
       "    number_of_trees    number_of_internal_trees    model_size_in_bytes    min_depth    max_depth    mean_depth    min_leaves    max_leaves    mean_leaves\n",
       "--  -----------------  --------------------------  ---------------------  -----------  -----------  ------------  ------------  ------------  -------------\n",
       "    50                 250                         616281                 1            20           12.524        2             615           178.264\n",
       "\n",
       "ModelMetricsMultinomial: drf\n",
       "** Reported on train data. **\n",
       "\n",
       "MSE: 0.48188514820266304\n",
       "RMSE: 0.6941794783790882\n",
       "LogLoss: 1.9737609007529602\n",
       "Mean Per-Class Error: 0.5682574899270705\n",
       "AUC table was not computed: it is either disabled (model parameter 'auc_type' was set to AUTO or NONE) or the domain size exceeds the limit (maximum is 50 domains).\n",
       "AUCPR table was not computed: it is either disabled (model parameter 'auc_type' was set to AUTO or NONE) or the domain size exceeds the limit (maximum is 50 domains).\n",
       "\n",
       "Confusion Matrix: Row labels: Actual class; Column labels: Predicted class\n",
       "AAC     AAI    INQ    REA    REV    Error        Rate\n",
       "------  -----  -----  -----  -----  -----------  -----------------\n",
       "44366   0      0      0      1      2.25393e-05  1 / 44,367\n",
       "0       44320  0      0      0      0            0 / 44,320\n",
       "44319   1      0      0      0      1            44,320 / 44,320\n",
       "40664   2770   0      867    19     0.980438     43,453 / 44,320\n",
       "38067   84     0      0      6168   0.860827     38,151 / 44,319\n",
       "167416  47175  0      867    6188   0.568136     125,925 / 221,646\n",
       "\n",
       "Top-5 Hit Ratios: \n",
       "k    hit_ratio\n",
       "---  -----------\n",
       "1    0.431864\n",
       "2    0.822262\n",
       "3    0.961768\n",
       "4    1\n",
       "5    1\n",
       "\n",
       "ModelMetricsMultinomial: drf\n",
       "** Reported on validation data. **\n",
       "\n",
       "MSE: 0.0034166287684831063\n",
       "RMSE: 0.058451935540947714\n",
       "LogLoss: 0.02278263644740996\n",
       "Mean Per-Class Error: 0.4\n",
       "AUC table was not computed: it is either disabled (model parameter 'auc_type' was set to AUTO or NONE) or the domain size exceeds the limit (maximum is 50 domains).\n",
       "AUCPR table was not computed: it is either disabled (model parameter 'auc_type' was set to AUTO or NONE) or the domain size exceeds the limit (maximum is 50 domains).\n",
       "\n",
       "Confusion Matrix: Row labels: Actual class; Column labels: Predicted class\n",
       "AAC    AAI    INQ    REA    REV    Error       Rate\n",
       "-----  -----  -----  -----  -----  ----------  -----------\n",
       "6040   0      0      0      0      0           0 / 6,040\n",
       "0      11080  0      0      0      0           0 / 11,080\n",
       "0      0      0      0      0      nan         0 / 0\n",
       "1      0      0      0      0      1           1 / 1\n",
       "58     0      0      0      0      1           58 / 58\n",
       "6099   11080  0      0      0      0.00343443  59 / 17,179\n",
       "\n",
       "Top-5 Hit Ratios: \n",
       "k    hit_ratio\n",
       "---  -----------\n",
       "1    0.996566\n",
       "2    0.999709\n",
       "3    0.999942\n",
       "4    0.999942\n",
       "5    1\n",
       "\n",
       "Scoring History: \n",
       "    timestamp            duration    number_of_trees    training_rmse    training_logloss    training_classification_error    training_auc    training_pr_auc    validation_rmse    validation_logloss    validation_classification_error    validation_auc    validation_pr_auc\n",
       "--  -------------------  ----------  -----------------  ---------------  ------------------  -------------------------------  --------------  -----------------  -----------------  --------------------  ---------------------------------  ----------------  -------------------\n",
       "    2023-05-21 07:36:19  0.177 sec   0                  nan              nan                 nan                              nan             nan                nan                nan                   nan                                nan               nan\n",
       "    2023-05-21 07:36:20  1.264 sec   1                  0.616602         1.74502             0.414492                         nan             nan                0.0740435          0.142327              0.00459864                         nan               nan\n",
       "    2023-05-21 07:36:21  1.860 sec   2                  0.610949         1.64851             0.42764                          nan             nan                0.0601395          0.0854569             0.00355085                         nan               nan\n",
       "    2023-05-21 07:36:21  2.290 sec   3                  0.649497         1.91617             0.47484                          nan             nan                0.0591456          0.0633619             0.00343443                         nan               nan\n",
       "    2023-05-21 07:36:21  2.664 sec   4                  0.668564         2.03326             0.497623                         nan             nan                0.059287           0.0571713             0.00337622                         nan               nan\n",
       "    2023-05-21 07:36:22  2.899 sec   5                  0.656789         1.94735             0.481272                         nan             nan                0.0593675          0.0506882             0.00337622                         nan               nan\n",
       "    2023-05-21 07:36:22  3.149 sec   6                  0.656164         1.92502             0.48094                          nan             nan                0.0593993          0.0472266             0.00337622                         nan               nan\n",
       "    2023-05-21 07:36:22  3.405 sec   7                  0.665551         1.95629             0.495267                         nan             nan                0.0603116          0.0460209             0.00343443                         nan               nan\n",
       "    2023-05-21 07:36:23  3.682 sec   8                  0.664057         1.93117             0.494926                         nan             nan                0.0600124          0.0459938             0.00349264                         nan               nan\n",
       "    2023-05-21 07:36:23  3.962 sec   9                  0.671674         1.96309             0.506579                         nan             nan                0.0596446          0.037819              0.00349264                         nan               nan\n",
       "    2023-05-21 07:36:23  4.245 sec   10                 0.670901         1.94826             0.507091                         nan             nan                0.0596711          0.0342449             0.00349264                         nan               nan\n",
       "    2023-05-21 07:36:27  8.302 sec   31                 0.677955         1.87767             0.548438                         nan             nan                0.0582958          0.0225525             0.00343443                         nan               nan\n",
       "    2023-05-21 07:36:31  12.189 sec  50                 0.694179         1.97376             0.568136                         nan             nan                0.0584519          0.0227826             0.00343443                         nan               nan\n",
       "\n",
       "Variable Importances: \n",
       "variable                           relative_importance    scaled_importance    percentage\n",
       "---------------------------------  ---------------------  -------------------  ------------\n",
       "HAS_LICENSE_STATUS_CHANGED         1.64007e+06            1                    0.267774\n",
       "LICENSE_DESCRIPTION                1.63792e+06            0.998689             0.267423\n",
       "LEGAL_BUSINESS_NAME_MATCH          1.11881e+06            0.682169             0.182667\n",
       "APPLICATION_TYPE                   633340                 0.386166             0.103405\n",
       "BUSINESS_TYPE                      611654                 0.372943             0.0998644\n",
       "SSA                                454596                 0.27718              0.0742217\n",
       "STATE                              27333.7                0.0166662            0.00446277\n",
       "APPLICATION_REQUIREMENTS_COMPLETE  575.013                0.000350602          9.38821e-05\n",
       "CONDITIONAL_APPROVAL               481.466                0.000293564          7.86088e-05\n",
       "IS_ZIP_CODE_PRESENT                61.9527                3.77744e-05          1.0115e-05\n",
       "\n",
       "[tips]\n",
       "Use `model.explain()` to inspect the model.\n",
       "--\n",
       "Use `h2o.display.toggle_user_tips()` to switch on/off this section."
      ]
     },
     "execution_count": 82,
     "metadata": {},
     "output_type": "execute_result"
    }
   ],
   "source": [
    "features = ['STATE','LICENSE_DESCRIPTION', 'APPLICATION_TYPE', 'APPLICATION_REQUIREMENTS_COMPLETE',\n",
    "            'CONDITIONAL_APPROVAL', 'SSA', 'LEGAL_BUSINESS_NAME_MATCH', 'BUSINESS_TYPE',\n",
    "            'IS_ZIP_CODE_PRESENT', 'HAS_LICENSE_STATUS_CHANGED']\n",
    "\n",
    "target_feature =  'LICENSE_STATUS'\n",
    "\n",
    "h2o_rf.train(x=features, y=target_feature, \n",
    "             training_frame=train, validation_frame=test)"
   ]
  },
  {
   "cell_type": "code",
   "execution_count": 83,
   "id": "4a0f66d5-52ff-41b1-b6a2-95b55d9e1618",
   "metadata": {
    "scrolled": true,
    "tags": []
   },
   "outputs": [],
   "source": [
    "# h2o_rf.explain(test)"
   ]
  },
  {
   "cell_type": "code",
   "execution_count": 84,
   "id": "77104dc5-027a-4675-8764-2b4825bf692b",
   "metadata": {},
   "outputs": [
    {
     "name": "stdout",
     "output_type": "stream",
     "text": [
      "drf prediction progress: |███████████████████████████████████████████████████████| (done) 100%\n"
     ]
    }
   ],
   "source": [
    "predictions = h2o_rf.predict(test)\n",
    "\n",
    "predictions['actual'] = test['LICENSE_STATUS']\n",
    "predictions = predictions.as_data_frame()"
   ]
  },
  {
   "cell_type": "code",
   "execution_count": 85,
   "id": "b9dddba5-ce10-479d-b949-95fded70f911",
   "metadata": {},
   "outputs": [
    {
     "data": {
      "text/html": [
       "<div>\n",
       "<style scoped>\n",
       "    .dataframe tbody tr th:only-of-type {\n",
       "        vertical-align: middle;\n",
       "    }\n",
       "\n",
       "    .dataframe tbody tr th {\n",
       "        vertical-align: top;\n",
       "    }\n",
       "\n",
       "    .dataframe thead th {\n",
       "        text-align: right;\n",
       "    }\n",
       "</style>\n",
       "<table border=\"1\" class=\"dataframe\">\n",
       "  <thead>\n",
       "    <tr style=\"text-align: right;\">\n",
       "      <th></th>\n",
       "      <th>predict</th>\n",
       "      <th>AAC</th>\n",
       "      <th>AAI</th>\n",
       "      <th>INQ</th>\n",
       "      <th>REA</th>\n",
       "      <th>REV</th>\n",
       "      <th>actual</th>\n",
       "    </tr>\n",
       "  </thead>\n",
       "  <tbody>\n",
       "    <tr>\n",
       "      <th>0</th>\n",
       "      <td>AAI</td>\n",
       "      <td>0.000000</td>\n",
       "      <td>1.000000</td>\n",
       "      <td>0.000000</td>\n",
       "      <td>0.0</td>\n",
       "      <td>0.000000e+00</td>\n",
       "      <td>AAI</td>\n",
       "    </tr>\n",
       "    <tr>\n",
       "      <th>1</th>\n",
       "      <td>AAC</td>\n",
       "      <td>0.999771</td>\n",
       "      <td>0.000000</td>\n",
       "      <td>0.000001</td>\n",
       "      <td>0.0</td>\n",
       "      <td>2.281735e-04</td>\n",
       "      <td>AAC</td>\n",
       "    </tr>\n",
       "    <tr>\n",
       "      <th>2</th>\n",
       "      <td>AAI</td>\n",
       "      <td>0.000759</td>\n",
       "      <td>0.999238</td>\n",
       "      <td>0.000002</td>\n",
       "      <td>0.0</td>\n",
       "      <td>8.524535e-07</td>\n",
       "      <td>AAI</td>\n",
       "    </tr>\n",
       "    <tr>\n",
       "      <th>3</th>\n",
       "      <td>AAC</td>\n",
       "      <td>0.999970</td>\n",
       "      <td>0.000000</td>\n",
       "      <td>0.000006</td>\n",
       "      <td>0.0</td>\n",
       "      <td>2.390405e-05</td>\n",
       "      <td>AAC</td>\n",
       "    </tr>\n",
       "    <tr>\n",
       "      <th>4</th>\n",
       "      <td>AAC</td>\n",
       "      <td>0.995678</td>\n",
       "      <td>0.004048</td>\n",
       "      <td>0.000000</td>\n",
       "      <td>0.0</td>\n",
       "      <td>2.748078e-04</td>\n",
       "      <td>AAC</td>\n",
       "    </tr>\n",
       "    <tr>\n",
       "      <th>5</th>\n",
       "      <td>AAI</td>\n",
       "      <td>0.005378</td>\n",
       "      <td>0.994620</td>\n",
       "      <td>0.000002</td>\n",
       "      <td>0.0</td>\n",
       "      <td>0.000000e+00</td>\n",
       "      <td>AAI</td>\n",
       "    </tr>\n",
       "    <tr>\n",
       "      <th>6</th>\n",
       "      <td>AAC</td>\n",
       "      <td>0.998832</td>\n",
       "      <td>0.000000</td>\n",
       "      <td>0.000000</td>\n",
       "      <td>0.0</td>\n",
       "      <td>1.168343e-03</td>\n",
       "      <td>AAC</td>\n",
       "    </tr>\n",
       "    <tr>\n",
       "      <th>7</th>\n",
       "      <td>AAI</td>\n",
       "      <td>0.000000</td>\n",
       "      <td>1.000000</td>\n",
       "      <td>0.000000</td>\n",
       "      <td>0.0</td>\n",
       "      <td>0.000000e+00</td>\n",
       "      <td>AAI</td>\n",
       "    </tr>\n",
       "    <tr>\n",
       "      <th>8</th>\n",
       "      <td>AAI</td>\n",
       "      <td>0.000000</td>\n",
       "      <td>1.000000</td>\n",
       "      <td>0.000000</td>\n",
       "      <td>0.0</td>\n",
       "      <td>0.000000e+00</td>\n",
       "      <td>AAI</td>\n",
       "    </tr>\n",
       "    <tr>\n",
       "      <th>9</th>\n",
       "      <td>AAI</td>\n",
       "      <td>0.001143</td>\n",
       "      <td>0.998852</td>\n",
       "      <td>0.000005</td>\n",
       "      <td>0.0</td>\n",
       "      <td>0.000000e+00</td>\n",
       "      <td>AAI</td>\n",
       "    </tr>\n",
       "  </tbody>\n",
       "</table>\n",
       "</div>"
      ],
      "text/plain": [
       "  predict       AAC       AAI       INQ  REA           REV actual\n",
       "0     AAI  0.000000  1.000000  0.000000  0.0  0.000000e+00    AAI\n",
       "1     AAC  0.999771  0.000000  0.000001  0.0  2.281735e-04    AAC\n",
       "2     AAI  0.000759  0.999238  0.000002  0.0  8.524535e-07    AAI\n",
       "3     AAC  0.999970  0.000000  0.000006  0.0  2.390405e-05    AAC\n",
       "4     AAC  0.995678  0.004048  0.000000  0.0  2.748078e-04    AAC\n",
       "5     AAI  0.005378  0.994620  0.000002  0.0  0.000000e+00    AAI\n",
       "6     AAC  0.998832  0.000000  0.000000  0.0  1.168343e-03    AAC\n",
       "7     AAI  0.000000  1.000000  0.000000  0.0  0.000000e+00    AAI\n",
       "8     AAI  0.000000  1.000000  0.000000  0.0  0.000000e+00    AAI\n",
       "9     AAI  0.001143  0.998852  0.000005  0.0  0.000000e+00    AAI"
      ]
     },
     "execution_count": 85,
     "metadata": {},
     "output_type": "execute_result"
    }
   ],
   "source": [
    "predictions.head(10)"
   ]
  },
  {
   "cell_type": "code",
   "execution_count": 86,
   "id": "feb8b77e-47e4-42b3-b4a6-dea9ce4066c8",
   "metadata": {},
   "outputs": [
    {
     "data": {
      "text/plain": [
       "99.6565574247628"
      ]
     },
     "execution_count": 86,
     "metadata": {},
     "output_type": "execute_result"
    }
   ],
   "source": [
    "accuracy = predictions[predictions.actual == predictions.predict].shape[0]*100/predictions.shape[0]\n",
    "accuracy"
   ]
  },
  {
   "cell_type": "code",
   "execution_count": 89,
   "id": "79e7b6e0-00a1-4c5f-8dc0-09bd53762167",
   "metadata": {},
   "outputs": [
    {
     "data": {
      "text/plain": [
       "'C:\\\\Users\\\\Amit Vikram Raj\\\\#Self_Learning\\\\#ProjectPro\\\\Projects\\\\Business-License-Status-Prediction\\\\output\\\\saved_models\\\\h2o_models\\\\random_forest_model'"
      ]
     },
     "execution_count": 89,
     "metadata": {},
     "output_type": "execute_result"
    }
   ],
   "source": [
    "save_path = \"..\\output\\saved_models\\h2o_models\" \n",
    "\n",
    "h2o.save_model(model=h2o_rf, \n",
    "               path=save_path, \n",
    "               filename=\"random_forest_model\",\n",
    "               force=True)\n",
    "\n",
    "# h2o.save_model(model=h2o_rf, path=save_path, filename=\"random_forest_model_all_classes\")"
   ]
  },
  {
   "cell_type": "code",
   "execution_count": 90,
   "id": "c46b51c4-4b88-45d5-b6d6-deba6787e7ad",
   "metadata": {},
   "outputs": [
    {
     "name": "stdout",
     "output_type": "stream",
     "text": [
      "drf prediction progress: |███████████████████████████████████████████████████████| (done) 100%\n"
     ]
    },
    {
     "data": {
      "text/html": [
       "<table class='dataframe'>\n",
       "<thead>\n",
       "<tr><th>predict  </th><th style=\"text-align: right;\">        AAC</th><th style=\"text-align: right;\">       AAI</th><th style=\"text-align: right;\">        INQ</th><th style=\"text-align: right;\">  REA</th><th style=\"text-align: right;\">        REV</th></tr>\n",
       "</thead>\n",
       "<tbody>\n",
       "<tr><td>AAI      </td><td style=\"text-align: right;\">0          </td><td style=\"text-align: right;\">1         </td><td style=\"text-align: right;\">0          </td><td style=\"text-align: right;\">    0</td><td style=\"text-align: right;\">0          </td></tr>\n",
       "<tr><td>AAC      </td><td style=\"text-align: right;\">0.999771   </td><td style=\"text-align: right;\">0         </td><td style=\"text-align: right;\">1.06425e-06</td><td style=\"text-align: right;\">    0</td><td style=\"text-align: right;\">0.000228173</td></tr>\n",
       "<tr><td>AAI      </td><td style=\"text-align: right;\">0.000759162</td><td style=\"text-align: right;\">0.999238  </td><td style=\"text-align: right;\">2.15963e-06</td><td style=\"text-align: right;\">    0</td><td style=\"text-align: right;\">8.52453e-07</td></tr>\n",
       "<tr><td>AAC      </td><td style=\"text-align: right;\">0.99997    </td><td style=\"text-align: right;\">0         </td><td style=\"text-align: right;\">6.37791e-06</td><td style=\"text-align: right;\">    0</td><td style=\"text-align: right;\">2.39041e-05</td></tr>\n",
       "<tr><td>AAC      </td><td style=\"text-align: right;\">0.995678   </td><td style=\"text-align: right;\">0.00404765</td><td style=\"text-align: right;\">0          </td><td style=\"text-align: right;\">    0</td><td style=\"text-align: right;\">0.000274808</td></tr>\n",
       "<tr><td>AAI      </td><td style=\"text-align: right;\">0.00537832 </td><td style=\"text-align: right;\">0.99462   </td><td style=\"text-align: right;\">1.54192e-06</td><td style=\"text-align: right;\">    0</td><td style=\"text-align: right;\">0          </td></tr>\n",
       "<tr><td>AAC      </td><td style=\"text-align: right;\">0.998832   </td><td style=\"text-align: right;\">0         </td><td style=\"text-align: right;\">0          </td><td style=\"text-align: right;\">    0</td><td style=\"text-align: right;\">0.00116834 </td></tr>\n",
       "<tr><td>AAI      </td><td style=\"text-align: right;\">0          </td><td style=\"text-align: right;\">1         </td><td style=\"text-align: right;\">0          </td><td style=\"text-align: right;\">    0</td><td style=\"text-align: right;\">0          </td></tr>\n",
       "<tr><td>AAI      </td><td style=\"text-align: right;\">0          </td><td style=\"text-align: right;\">1         </td><td style=\"text-align: right;\">0          </td><td style=\"text-align: right;\">    0</td><td style=\"text-align: right;\">0          </td></tr>\n",
       "<tr><td>AAI      </td><td style=\"text-align: right;\">0.00114345 </td><td style=\"text-align: right;\">0.998852  </td><td style=\"text-align: right;\">4.97932e-06</td><td style=\"text-align: right;\">    0</td><td style=\"text-align: right;\">0          </td></tr>\n",
       "</tbody>\n",
       "</table><pre style='font-size: smaller; margin-bottom: 1em;'>[17179 rows x 6 columns]</pre>"
      ],
      "text/plain": [
       "predict            AAC         AAI          INQ    REA          REV\n",
       "---------  -----------  ----------  -----------  -----  -----------\n",
       "AAI        0            1           0                0  0\n",
       "AAC        0.999771     0           1.06425e-06      0  0.000228173\n",
       "AAI        0.000759162  0.999238    2.15963e-06      0  8.52453e-07\n",
       "AAC        0.99997      0           6.37791e-06      0  2.39041e-05\n",
       "AAC        0.995678     0.00404765  0                0  0.000274808\n",
       "AAI        0.00537832   0.99462     1.54192e-06      0  0\n",
       "AAC        0.998832     0           0                0  0.00116834\n",
       "AAI        0            1           0                0  0\n",
       "AAI        0            1           0                0  0\n",
       "AAI        0.00114345   0.998852    4.97932e-06      0  0\n",
       "[17179 rows x 6 columns]\n"
      ]
     },
     "execution_count": 90,
     "metadata": {},
     "output_type": "execute_result"
    }
   ],
   "source": [
    "loaded_model = h2o.load_model(path=save_path+\"\\\\random_forest_model\")\n",
    "loaded_model.predict(test)"
   ]
  },
  {
   "cell_type": "markdown",
   "id": "2c02910d-9393-4055-a518-ac220dba2c44",
   "metadata": {
    "tags": []
   },
   "source": [
    "## Deep Neural Network "
   ]
  },
  {
   "cell_type": "code",
   "execution_count": 1,
   "id": "5abf195c-abab-4545-a743-efdbb59c30b3",
   "metadata": {},
   "outputs": [
    {
     "name": "stdout",
     "output_type": "stream",
     "text": [
      "2.9.3\n"
     ]
    }
   ],
   "source": [
    "import pandas as pd\n",
    "import numpy as np\n",
    "from sklearn.model_selection import train_test_split\n",
    "import tensorflow as tf\n",
    "\n",
    "print(tf.__version__)"
   ]
  },
  {
   "cell_type": "markdown",
   "id": "d32fc345-81a6-465b-868f-24840e2a73b2",
   "metadata": {
    "jp-MarkdownHeadingCollapsed": true,
    "tags": []
   },
   "source": [
    "### Data Prepprocessing for DNN Modeling"
   ]
  },
  {
   "cell_type": "code",
   "execution_count": 2,
   "id": "2a006f26-0d3c-4ab0-b725-49b3336f67d0",
   "metadata": {},
   "outputs": [
    {
     "data": {
      "text/html": [
       "<div>\n",
       "<style scoped>\n",
       "    .dataframe tbody tr th:only-of-type {\n",
       "        vertical-align: middle;\n",
       "    }\n",
       "\n",
       "    .dataframe tbody tr th {\n",
       "        vertical-align: top;\n",
       "    }\n",
       "\n",
       "    .dataframe thead th {\n",
       "        text-align: right;\n",
       "    }\n",
       "</style>\n",
       "<table border=\"1\" class=\"dataframe\">\n",
       "  <thead>\n",
       "    <tr style=\"text-align: right;\">\n",
       "      <th></th>\n",
       "      <th>STATE</th>\n",
       "      <th>LICENSE_DESCRIPTION</th>\n",
       "      <th>APPLICATION_TYPE</th>\n",
       "      <th>APPLICATION_REQUIREMENTS_COMPLETE</th>\n",
       "      <th>CONDITIONAL_APPROVAL</th>\n",
       "      <th>SSA</th>\n",
       "      <th>LEGAL_BUSINESS_NAME_MATCH</th>\n",
       "      <th>BUSINESS_TYPE</th>\n",
       "      <th>IS_ZIP_CODE_PRESENT</th>\n",
       "      <th>HAS_LICENSE_STATUS_CHANGED</th>\n",
       "      <th>LICENSE_STATUS</th>\n",
       "    </tr>\n",
       "  </thead>\n",
       "  <tbody>\n",
       "    <tr>\n",
       "      <th>0</th>\n",
       "      <td>IL</td>\n",
       "      <td>Limited Business License</td>\n",
       "      <td>RENEW</td>\n",
       "      <td>1</td>\n",
       "      <td>N</td>\n",
       "      <td>25.0</td>\n",
       "      <td>0.303030</td>\n",
       "      <td>PVT</td>\n",
       "      <td>1</td>\n",
       "      <td>0</td>\n",
       "      <td>AAI</td>\n",
       "    </tr>\n",
       "    <tr>\n",
       "      <th>1</th>\n",
       "      <td>IL</td>\n",
       "      <td>Food Dispenser</td>\n",
       "      <td>RENEW</td>\n",
       "      <td>1</td>\n",
       "      <td>N</td>\n",
       "      <td>60.0</td>\n",
       "      <td>0.812500</td>\n",
       "      <td>INC</td>\n",
       "      <td>1</td>\n",
       "      <td>1</td>\n",
       "      <td>AAC</td>\n",
       "    </tr>\n",
       "    <tr>\n",
       "      <th>2</th>\n",
       "      <td>IL</td>\n",
       "      <td>Home Repair</td>\n",
       "      <td>ISSUE</td>\n",
       "      <td>1</td>\n",
       "      <td>N</td>\n",
       "      <td>-1.0</td>\n",
       "      <td>0.823529</td>\n",
       "      <td>PVT</td>\n",
       "      <td>1</td>\n",
       "      <td>0</td>\n",
       "      <td>AAI</td>\n",
       "    </tr>\n",
       "  </tbody>\n",
       "</table>\n",
       "</div>"
      ],
      "text/plain": [
       "  STATE       LICENSE_DESCRIPTION APPLICATION_TYPE  \\\n",
       "0    IL  Limited Business License            RENEW   \n",
       "1    IL            Food Dispenser            RENEW   \n",
       "2    IL               Home Repair            ISSUE   \n",
       "\n",
       "   APPLICATION_REQUIREMENTS_COMPLETE CONDITIONAL_APPROVAL   SSA  \\\n",
       "0                                  1                    N  25.0   \n",
       "1                                  1                    N  60.0   \n",
       "2                                  1                    N  -1.0   \n",
       "\n",
       "   LEGAL_BUSINESS_NAME_MATCH BUSINESS_TYPE  IS_ZIP_CODE_PRESENT  \\\n",
       "0                   0.303030           PVT                    1   \n",
       "1                   0.812500           INC                    1   \n",
       "2                   0.823529           PVT                    1   \n",
       "\n",
       "   HAS_LICENSE_STATUS_CHANGED LICENSE_STATUS  \n",
       "0                           0            AAI  \n",
       "1                           1            AAC  \n",
       "2                           0            AAI  "
      ]
     },
     "execution_count": 2,
     "metadata": {},
     "output_type": "execute_result"
    }
   ],
   "source": [
    "df = pd.read_csv(\"../input/preprocessed_License_Data.csv\")\n",
    "df.head(3)"
   ]
  },
  {
   "cell_type": "code",
   "execution_count": 3,
   "id": "68f99531-4785-4a91-afe3-a541dfca550b",
   "metadata": {},
   "outputs": [],
   "source": [
    "cols = ['STATE', 'LICENSE_DESCRIPTION', 'APPLICATION_TYPE',\n",
    "        'CONDITIONAL_APPROVAL', 'BUSINESS_TYPE','LICENSE_STATUS']\n",
    "\n",
    "\n",
    "final_df = pd.get_dummies(data=df, columns=cols)"
   ]
  },
  {
   "cell_type": "code",
   "execution_count": 4,
   "id": "1ad686dc-1268-473c-aecb-1e58c63ca3f1",
   "metadata": {},
   "outputs": [
    {
     "data": {
      "text/plain": [
       "108"
      ]
     },
     "execution_count": 4,
     "metadata": {},
     "output_type": "execute_result"
    }
   ],
   "source": [
    "len(final_df.columns)\n",
    "# final_df.columns"
   ]
  },
  {
   "cell_type": "code",
   "execution_count": 5,
   "id": "c2e95948-9388-4fe8-bdfc-733636919122",
   "metadata": {},
   "outputs": [
    {
     "data": {
      "text/plain": [
       "Index(['APPLICATION_REQUIREMENTS_COMPLETE', 'SSA', 'LEGAL_BUSINESS_NAME_MATCH',\n",
       "       'IS_ZIP_CODE_PRESENT', 'HAS_LICENSE_STATUS_CHANGED', 'STATE_AL',\n",
       "       'STATE_AZ', 'STATE_CA', 'STATE_CO', 'STATE_CT',\n",
       "       ...\n",
       "       'BUSINESS_TYPE_CORP', 'BUSINESS_TYPE_INC', 'BUSINESS_TYPE_LLC',\n",
       "       'BUSINESS_TYPE_LTD', 'BUSINESS_TYPE_PVT', 'LICENSE_STATUS_AAC',\n",
       "       'LICENSE_STATUS_AAI', 'LICENSE_STATUS_INQ', 'LICENSE_STATUS_REA',\n",
       "       'LICENSE_STATUS_REV'],\n",
       "      dtype='object', length=108)"
      ]
     },
     "execution_count": 5,
     "metadata": {},
     "output_type": "execute_result"
    }
   ],
   "source": [
    "final_df.columns"
   ]
  },
  {
   "cell_type": "code",
   "execution_count": 6,
   "id": "165b4f40-38d6-4637-9b6e-45f0ee0837ba",
   "metadata": {},
   "outputs": [
    {
     "data": {
      "text/plain": [
       "((68716, 105), (68716, 3), (17179, 105), (17179, 3))"
      ]
     },
     "execution_count": 6,
     "metadata": {},
     "output_type": "execute_result"
    }
   ],
   "source": [
    "target_features = ['LICENSE_STATUS_AAC', 'LICENSE_STATUS_AAI', 'LICENSE_STATUS_REV']\n",
    "\n",
    "X = final_df.drop(target_features, axis=1)\n",
    "y = final_df[target_features]\n",
    "\n",
    "X_train, X_test, y_train, y_test = train_test_split(X,y, test_size=0.2, \n",
    "                                                    random_state=42, stratify=y)\n",
    "\n",
    "\n",
    "# Converting into numpy array\n",
    "X_train, X_test, y_train, y_test = X_train.values, X_test.values,\\\n",
    "                                   y_train.values, y_test.values\n",
    "\n",
    "X_train.shape, y_train.shape, X_test.shape, y_test.shape"
   ]
  },
  {
   "cell_type": "markdown",
   "id": "3e0d15de-10c0-4d6b-9f61-31d73fd3cb71",
   "metadata": {
    "tags": []
   },
   "source": [
    "### Creating a Neural Network Model"
   ]
  },
  {
   "cell_type": "code",
   "execution_count": 8,
   "id": "569cf207-7383-488b-8653-a1d962b030f2",
   "metadata": {},
   "outputs": [],
   "source": [
    "from tensorflow import keras\n",
    "from tensorflow.keras import layers"
   ]
  },
  {
   "cell_type": "markdown",
   "id": "5bfb9b18-e5cd-4e4d-946a-855198e6e9e3",
   "metadata": {
    "tags": []
   },
   "source": [
    "#### 1. Model_1\n",
    "\n",
    "A three layer neural network with activation as `relu` and `softmax`"
   ]
  },
  {
   "cell_type": "code",
   "execution_count": 7,
   "id": "6862f283-823a-4275-8693-6bb4c26a5302",
   "metadata": {},
   "outputs": [
    {
     "data": {
      "text/plain": [
       "((68712, 63), (63,))"
      ]
     },
     "execution_count": 7,
     "metadata": {},
     "output_type": "execute_result"
    }
   ],
   "source": [
    "X_train.shape, X_train[0].shape"
   ]
  },
  {
   "cell_type": "code",
   "execution_count": 9,
   "id": "1f666d18-a919-4afa-86f8-c22890d631b8",
   "metadata": {},
   "outputs": [],
   "source": [
    "# Set the random seed\n",
    "tf.random.set_seed(42)\n",
    "\n",
    "# Create the model\n",
    "model_1 = keras.Sequential([layers.InputLayer(input_shape=X_train.shape[1], name=\"input_layer\"),\n",
    "                            layers.Dense(32, activation=\"relu\"),\n",
    "                            layers.Dense(32, activation=\"relu\"),\n",
    "                            layers.Dense(3, activation=\"softmax\", name=\"output_layer\")])\n",
    "\n",
    "# Compile the model\n",
    "model_1.compile(loss=\"categorical_crossentropy\",\n",
    "                optimizer=tf.keras.optimizers.Adam(),\n",
    "                metrics=['accuracy'])"
   ]
  },
  {
   "cell_type": "code",
   "execution_count": 10,
   "id": "ff7790eb-35f7-4dbd-994d-d28768a8ba4c",
   "metadata": {},
   "outputs": [
    {
     "name": "stdout",
     "output_type": "stream",
     "text": [
      "Model: \"sequential\"\n",
      "_________________________________________________________________\n",
      " Layer (type)                Output Shape              Param #   \n",
      "=================================================================\n",
      " dense (Dense)               (None, 32)                3328      \n",
      "                                                                 \n",
      " dense_1 (Dense)             (None, 32)                1056      \n",
      "                                                                 \n",
      " output_layer (Dense)        (None, 3)                 99        \n",
      "                                                                 \n",
      "=================================================================\n",
      "Total params: 4,483\n",
      "Trainable params: 4,483\n",
      "Non-trainable params: 0\n",
      "_________________________________________________________________\n"
     ]
    }
   ],
   "source": [
    "# Check the model summary\n",
    "model_1.summary()"
   ]
  },
  {
   "cell_type": "code",
   "execution_count": 11,
   "id": "234de11d-23eb-4dfb-8215-513996579efb",
   "metadata": {},
   "outputs": [
    {
     "name": "stdout",
     "output_type": "stream",
     "text": [
      "Epoch 1/5\n",
      "2148/2148 [==============================] - 10s 3ms/step - loss: 0.0562 - accuracy: 0.9835 - val_loss: 0.0161 - val_accuracy: 0.9966\n",
      "Epoch 2/5\n",
      "2148/2148 [==============================] - 7s 3ms/step - loss: 0.0167 - accuracy: 0.9966 - val_loss: 0.0151 - val_accuracy: 0.9966\n",
      "Epoch 3/5\n",
      "2148/2148 [==============================] - 7s 3ms/step - loss: 0.0158 - accuracy: 0.9966 - val_loss: 0.0142 - val_accuracy: 0.9966\n",
      "Epoch 4/5\n",
      "2148/2148 [==============================] - 7s 3ms/step - loss: 0.0154 - accuracy: 0.9966 - val_loss: 0.0136 - val_accuracy: 0.9966\n",
      "Epoch 5/5\n",
      "2148/2148 [==============================] - 7s 3ms/step - loss: 0.0151 - accuracy: 0.9966 - val_loss: 0.0142 - val_accuracy: 0.9966\n"
     ]
    }
   ],
   "source": [
    "# Fit the model\n",
    "history_1 = model_1.fit(x=X_train, y=y_train,\n",
    "                        epochs=5, \n",
    "                        batch_size=32,\n",
    "                        validation_data=(X_test, y_test),\n",
    "                        workers=6)"
   ]
  },
  {
   "cell_type": "code",
   "execution_count": 12,
   "id": "004f1972-8373-4820-9191-12de93fc91a3",
   "metadata": {},
   "outputs": [
    {
     "name": "stdout",
     "output_type": "stream",
     "text": [
      "537/537 [==============================] - 2s 4ms/step - loss: 0.0142 - accuracy: 0.9966\n"
     ]
    },
    {
     "data": {
      "text/plain": [
       "[0.0142049016430974, 0.9966235756874084]"
      ]
     },
     "execution_count": 12,
     "metadata": {},
     "output_type": "execute_result"
    }
   ],
   "source": [
    "model_1.evaluate(X_test, y_test)"
   ]
  },
  {
   "cell_type": "code",
   "execution_count": 13,
   "id": "68c8665a-fdc0-47b7-9ef0-f3ac2af614ef",
   "metadata": {},
   "outputs": [
    {
     "data": {
      "image/png": "[encoded data removed]",
      "text/plain": [
       "<Figure size 1300x500 with 2 Axes>"
      ]
     },
     "metadata": {},
     "output_type": "display_data"
    }
   ],
   "source": [
    "# importing the sys module\n",
    "import sys        \n",
    " \n",
    "# appending the directory of helper_functions.py in the sys.path list\n",
    "sys.path.append(r\"..\\utils\")  \n",
    "sys.path.append(r\"..\")\n",
    "\n",
    "# from helper_functions import plot_loss_curves\n",
    "from utils.helper_functions import plot_loss_curves\n",
    "\n",
    "plot_loss_curves(history_1)"
   ]
  },
  {
   "cell_type": "markdown",
   "id": "452a3627-a10f-4472-b453-859f7abf7c53",
   "metadata": {
    "jp-MarkdownHeadingCollapsed": true,
    "tags": []
   },
   "source": [
    "#### 2. Model_2\n",
    "Same as Model_1, lowering the learning rate"
   ]
  },
  {
   "cell_type": "code",
   "execution_count": 14,
   "id": "d0688632-ad8a-43ac-ae92-9e8e79759f13",
   "metadata": {},
   "outputs": [
    {
     "data": {
      "text/plain": [
       "103"
      ]
     },
     "execution_count": 14,
     "metadata": {},
     "output_type": "execute_result"
    }
   ],
   "source": [
    "(X_train.shape[1])"
   ]
  },
  {
   "cell_type": "code",
   "execution_count": 15,
   "id": "48493e27-7f98-4d4b-90f1-52327c23b121",
   "metadata": {},
   "outputs": [
    {
     "name": "stdout",
     "output_type": "stream",
     "text": [
      "Epoch 1/5\n",
      "2148/2148 [==============================] - 8s 3ms/step - loss: 0.3191 - accuracy: 0.8927 - val_loss: 0.0599 - val_accuracy: 0.9965\n",
      "Epoch 2/5\n",
      "2148/2148 [==============================] - 7s 3ms/step - loss: 0.0343 - accuracy: 0.9963 - val_loss: 0.0237 - val_accuracy: 0.9966\n",
      "Epoch 3/5\n",
      "2148/2148 [==============================] - 7s 3ms/step - loss: 0.0211 - accuracy: 0.9966 - val_loss: 0.0191 - val_accuracy: 0.9966\n",
      "Epoch 4/5\n",
      "2148/2148 [==============================] - 7s 3ms/step - loss: 0.0183 - accuracy: 0.9966 - val_loss: 0.0172 - val_accuracy: 0.9966\n",
      "Epoch 5/5\n",
      "2148/2148 [==============================] - 7s 3ms/step - loss: 0.0169 - accuracy: 0.9966 - val_loss: 0.0164 - val_accuracy: 0.9966\n"
     ]
    }
   ],
   "source": [
    "# Set the random seed\n",
    "tf.random.set_seed(42)\n",
    "\n",
    "# Create the model\n",
    "model_2 = keras.Sequential([layers.InputLayer(input_shape=X_train.shape[1]),\n",
    "                            layers.Dense(32, activation=\"relu\"),\n",
    "                            layers.Dense(32, activation=\"relu\"),\n",
    "                            layers.Dense(3, activation=\"softmax\")])\n",
    "\n",
    "# Compile the model\n",
    "model_2.compile(loss=\"categorical_crossentropy\",\n",
    "                optimizer=tf.keras.optimizers.Adam(learning_rate=1e-4),\n",
    "                metrics=[\"accuracy\"])\n",
    "\n",
    "# Fit the model\n",
    "history_2 = model_2.fit(X_train, y_train,\n",
    "                        epochs=5,\n",
    "                        batch_size=32,\n",
    "                        validation_data=(X_test, y_test))"
   ]
  },
  {
   "cell_type": "code",
   "execution_count": 19,
   "id": "ba929e20-cfc3-47d0-8dc7-cd857a9ae141",
   "metadata": {},
   "outputs": [
    {
     "name": "stdout",
     "output_type": "stream",
     "text": [
      "537/537 [==============================] - 2s 3ms/step - loss: 0.0164 - accuracy: 0.9966\n"
     ]
    },
    {
     "data": {
      "text/plain": [
       "[0.016425497829914093, 0.9966235756874084]"
      ]
     },
     "execution_count": 19,
     "metadata": {},
     "output_type": "execute_result"
    }
   ],
   "source": [
    "model_2.evaluate(X_test, y_test)"
   ]
  },
  {
   "cell_type": "code",
   "execution_count": 16,
   "id": "ab9b00c9-3c0a-40ab-aca6-c3d08177d41a",
   "metadata": {},
   "outputs": [
    {
     "data": {
      "image/png": "[encoded data removed]",
      "text/plain": [
       "<Figure size 1300x500 with 2 Axes>"
      ]
     },
     "metadata": {},
     "output_type": "display_data"
    }
   ],
   "source": [
    "plot_loss_curves(history_2)"
   ]
  },
  {
   "cell_type": "markdown",
   "id": "6b74755f-6e41-425c-a927-2016a8b3fef2",
   "metadata": {
    "jp-MarkdownHeadingCollapsed": true,
    "tags": []
   },
   "source": [
    "#### 3. Model_3\n",
    "\n",
    "Increasing the learning rate "
   ]
  },
  {
   "cell_type": "code",
   "execution_count": 17,
   "id": "c043300e-da3c-4ec9-b31f-72edae37ee9f",
   "metadata": {},
   "outputs": [
    {
     "name": "stdout",
     "output_type": "stream",
     "text": [
      "Epoch 1/5\n",
      "1074/1074 [==============================] - 4s 3ms/step - loss: 0.0334 - accuracy: 0.9913 - val_loss: 0.0153 - val_accuracy: 0.9966\n",
      "Epoch 2/5\n",
      "1074/1074 [==============================] - 3s 3ms/step - loss: 0.0178 - accuracy: 0.9964 - val_loss: 0.0144 - val_accuracy: 0.9966\n",
      "Epoch 3/5\n",
      "1074/1074 [==============================] - 4s 3ms/step - loss: 0.0157 - accuracy: 0.9966 - val_loss: 0.0143 - val_accuracy: 0.9966\n",
      "Epoch 4/5\n",
      "1074/1074 [==============================] - 3s 3ms/step - loss: 0.0170 - accuracy: 0.9964 - val_loss: 0.0143 - val_accuracy: 0.9966\n",
      "Epoch 5/5\n",
      "1074/1074 [==============================] - 3s 3ms/step - loss: 0.0154 - accuracy: 0.9966 - val_loss: 0.0143 - val_accuracy: 0.9966\n"
     ]
    }
   ],
   "source": [
    "# Set the random_seed\n",
    "tf.random.set_seed(42)\n",
    "\n",
    "# Create the model\n",
    "model_3 = keras.Sequential([layers.Dense(32, activation=\"relu\", input_shape=(X_train.shape[1],)),\n",
    "                            layers.Dense(32, activation=\"relu\"),\n",
    "                            layers.Dense(3, activation=\"softmax\")])\n",
    "\n",
    "# Compile the model\n",
    "model_3.compile(loss=\"categorical_crossentropy\",\n",
    "                optimizer=tf.keras.optimizers.Adam(learning_rate=0.01),\n",
    "                metrics=['accuracy'])\n",
    "\n",
    "# Fit the model\n",
    "history_3 = model_3.fit(x=X_train, y=y_train,\n",
    "                        epochs=5, batch_size=64,\n",
    "                        validation_data=(X_test, y_test))"
   ]
  },
  {
   "cell_type": "code",
   "execution_count": 20,
   "id": "c0667b21-6a3a-4da7-8af8-042e8a6c29f4",
   "metadata": {},
   "outputs": [
    {
     "name": "stdout",
     "output_type": "stream",
     "text": [
      "537/537 [==============================] - 2s 3ms/step - loss: 0.0143 - accuracy: 0.9966\n"
     ]
    },
    {
     "data": {
      "text/plain": [
       "[0.014320588670670986, 0.9966235756874084]"
      ]
     },
     "execution_count": 20,
     "metadata": {},
     "output_type": "execute_result"
    }
   ],
   "source": [
    "model_3.evaluate(X_test, y_test)"
   ]
  },
  {
   "cell_type": "code",
   "execution_count": 21,
   "id": "8ca56731-83ea-4840-828e-c16a3657f8b1",
   "metadata": {},
   "outputs": [
    {
     "data": {
      "image/png": "[encoded data removed]",
      "text/plain": [
       "<Figure size 1300x500 with 2 Axes>"
      ]
     },
     "metadata": {},
     "output_type": "display_data"
    }
   ],
   "source": [
    "plot_loss_curves(history_3)\n",
    "\n",
    "# Model is slightly over-fitting"
   ]
  },
  {
   "cell_type": "markdown",
   "id": "471e2db8-57b2-4049-9a27-0781e518c1e3",
   "metadata": {
    "jp-MarkdownHeadingCollapsed": true,
    "tags": []
   },
   "source": [
    "### Saving Model_2"
   ]
  },
  {
   "cell_type": "code",
   "execution_count": 30,
   "id": "d2ade418-7e2e-4083-ab91-003b584d5f68",
   "metadata": {},
   "outputs": [
    {
     "name": "stdout",
     "output_type": "stream",
     "text": [
      "Model Saved!\n"
     ]
    }
   ],
   "source": [
    "save_path = r\"..\\output\\saved_models\\neural_network_models\\dnn_model.h5\" \n",
    "model_2.save(filepath=save_path)\n",
    "print(\"Model Saved!\")"
   ]
  },
  {
   "cell_type": "code",
   "execution_count": 31,
   "id": "b99a004a-d4f4-4215-944c-66a1612d235a",
   "metadata": {},
   "outputs": [
    {
     "name": "stdout",
     "output_type": "stream",
     "text": [
      "Model Weights Saved!\n"
     ]
    }
   ],
   "source": [
    "model_weight_save_path = r\"..\\output\\saved_models\\neural_network_models\\dnn_model_weights.h5\"\n",
    "model_2.save_weights(model_weight_save_path)\n",
    "print(\"Model Weights Saved!\")"
   ]
  },
  {
   "cell_type": "code",
   "execution_count": 32,
   "id": "8bd2d8ef-067f-4544-bbb4-6274cd305bc7",
   "metadata": {},
   "outputs": [
    {
     "name": "stdout",
     "output_type": "stream",
     "text": [
      "Model: \"sequential_1\"\n",
      "_________________________________________________________________\n",
      " Layer (type)                Output Shape              Param #   \n",
      "=================================================================\n",
      " dense_2 (Dense)             (None, 32)                3328      \n",
      "                                                                 \n",
      " dense_3 (Dense)             (None, 32)                1056      \n",
      "                                                                 \n",
      " dense_4 (Dense)             (None, 3)                 99        \n",
      "                                                                 \n",
      "=================================================================\n",
      "Total params: 4,483\n",
      "Trainable params: 4,483\n",
      "Non-trainable params: 0\n",
      "_________________________________________________________________\n"
     ]
    }
   ],
   "source": [
    "saved_model = tf.keras.models.load_model(save_path)\n",
    "saved_model.summary()"
   ]
  },
  {
   "cell_type": "code",
   "execution_count": 26,
   "id": "d80f6287-4017-4441-98b2-592dea61a248",
   "metadata": {},
   "outputs": [
    {
     "name": "stdout",
     "output_type": "stream",
     "text": [
      "537/537 [==============================] - 2s 3ms/step - loss: 0.0164 - accuracy: 0.9966\n"
     ]
    },
    {
     "data": {
      "text/plain": [
       "[0.016425497829914093, 0.9966235756874084]"
      ]
     },
     "execution_count": 26,
     "metadata": {},
     "output_type": "execute_result"
    }
   ],
   "source": [
    "saved_model.evaluate(X_test, y_test)"
   ]
  },
  {
   "cell_type": "code",
   "execution_count": 33,
   "id": "861f727a-f0d0-43e0-b089-10ca829b8859",
   "metadata": {},
   "outputs": [],
   "source": [
    "saved_model_weights = model_2.load_weights(model_weight_save_path)"
   ]
  },
  {
   "cell_type": "markdown",
   "id": "c184b114-b8db-4213-a850-e1c84f7c66bd",
   "metadata": {},
   "source": [
    "## Generate requirements.txt\n",
    "\n",
    "- References:\n",
    "\n",
    "    - [Reference-1](https://towardsdatascience.com/generating-a-requirements-file-jupyter-notebook-385f1c315b52)\n",
    "    - [Reference-2](https://stackoverflow.com/questions/51503913/pipreqs-unicodedecodeerror-charmap-codec-cant-decode-byte-0x98-in-position)\n",
    "\n",
    "- Install\n",
    "\n",
    "    - `pip install pipreqs`\n",
    "    - `pip install nbconvert`\n",
    "    \n",
    "- Convert your jupyter notebook to .py file\n",
    "\n",
    "    - `jupyter nbconvert --output-dir=\"./reqs\" --to script notebook_name.ipynb`\n",
    "    - `cd reqs (Navigate to the .py file directory)`\n",
    "\n",
    "- Run the foloowing command in .py file folder\n",
    "\n",
    "    - `pipreqs \"file_path\"`\n",
    "    - `pipreqs --encoding=utf8 \"file_path\"` (if above does not works)"
   ]
  }
 ],
 "metadata": {
  "kernelspec": {
   "display_name": "Python 3 (ipykernel)",
   "language": "python",
   "name": "python3"
  },
  "language_info": {
   "codemirror_mode": {
    "name": "ipython",
    "version": 3
   },
   "file_extension": ".py",
   "mimetype": "text/x-python",
   "name": "python",
   "nbconvert_exporter": "python",
   "pygments_lexer": "ipython3",
   "version": "3.10.9"
  },
  "widgets": {
   "application/vnd.jupyter.widget-state+json": {
    "state": {},
    "version_major": 2,
    "version_minor": 0
   }
  }
 },
 "nbformat": 4,
 "nbformat_minor": 5
}
